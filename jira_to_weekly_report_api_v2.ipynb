{
  "nbformat": 4,
  "nbformat_minor": 0,
  "metadata": {
    "colab": {
      "provenance": [],
      "include_colab_link": true
    },
    "kernelspec": {
      "name": "python3",
      "display_name": "Python 3"
    },
    "language_info": {
      "name": "python"
    }
  },
  "cells": [
    {
      "cell_type": "markdown",
      "metadata": {
        "id": "view-in-github",
        "colab_type": "text"
      },
      "source": [
        "<a href=\"https://colab.research.google.com/github/deitar/jirawiki2docx/blob/experiment/jira_to_weekly_report_api_v2.ipynb\" target=\"_parent\"><img src=\"https://colab.research.google.com/assets/colab-badge.svg\" alt=\"Open In Colab\"/></a>"
      ]
    },
    {
      "cell_type": "code",
      "execution_count": null,
      "metadata": {
        "id": "NBJGD8eVCuqb"
      },
      "outputs": [],
      "source": []
    },
    {
      "cell_type": "code",
      "source": [
        "!pip install python-docx\n",
        "!pip install jira\n",
        "!pip install webcolors"
      ],
      "metadata": {
        "colab": {
          "base_uri": "https://localhost:8080/"
        },
        "id": "PMb0J5B6C0xS",
        "outputId": "31bb20f8-cba2-4f4e-f648-887ee2ebcf09"
      },
      "execution_count": 1,
      "outputs": [
        {
          "output_type": "stream",
          "name": "stdout",
          "text": [
            "Requirement already satisfied: python-docx in /usr/local/lib/python3.10/dist-packages (0.8.11)\n",
            "Requirement already satisfied: lxml>=2.3.2 in /usr/local/lib/python3.10/dist-packages (from python-docx) (4.9.2)\n",
            "Requirement already satisfied: jira in /usr/local/lib/python3.10/dist-packages (3.5.2)\n",
            "Requirement already satisfied: defusedxml in /usr/local/lib/python3.10/dist-packages (from jira) (0.7.1)\n",
            "Requirement already satisfied: packaging in /usr/local/lib/python3.10/dist-packages (from jira) (23.1)\n",
            "Requirement already satisfied: requests-oauthlib>=1.1.0 in /usr/local/lib/python3.10/dist-packages (from jira) (1.3.1)\n",
            "Requirement already satisfied: requests>=2.10.0 in /usr/local/lib/python3.10/dist-packages (from jira) (2.27.1)\n",
            "Requirement already satisfied: requests-toolbelt in /usr/local/lib/python3.10/dist-packages (from jira) (1.0.0)\n",
            "Requirement already satisfied: typing-extensions>=3.7.4.2 in /usr/local/lib/python3.10/dist-packages (from jira) (4.6.3)\n",
            "Requirement already satisfied: urllib3<1.27,>=1.21.1 in /usr/local/lib/python3.10/dist-packages (from requests>=2.10.0->jira) (1.26.16)\n",
            "Requirement already satisfied: certifi>=2017.4.17 in /usr/local/lib/python3.10/dist-packages (from requests>=2.10.0->jira) (2023.5.7)\n",
            "Requirement already satisfied: charset-normalizer~=2.0.0 in /usr/local/lib/python3.10/dist-packages (from requests>=2.10.0->jira) (2.0.12)\n",
            "Requirement already satisfied: idna<4,>=2.5 in /usr/local/lib/python3.10/dist-packages (from requests>=2.10.0->jira) (3.4)\n",
            "Requirement already satisfied: oauthlib>=3.0.0 in /usr/local/lib/python3.10/dist-packages (from requests-oauthlib>=1.1.0->jira) (3.2.2)\n",
            "Requirement already satisfied: webcolors in /usr/local/lib/python3.10/dist-packages (1.13)\n"
          ]
        }
      ]
    },
    {
      "cell_type": "code",
      "source": [
        "!pip install -i https://test.pypi.org/simple/ jirawiki2docx==1.0.11"
      ],
      "metadata": {
        "colab": {
          "base_uri": "https://localhost:8080/"
        },
        "id": "ZmT8xmqWj6ka",
        "outputId": "fed68cf4-bb55-47cd-f522-96ef01cd0073"
      },
      "execution_count": 2,
      "outputs": [
        {
          "output_type": "stream",
          "name": "stdout",
          "text": [
            "Looking in indexes: https://test.pypi.org/simple/\n",
            "Requirement already satisfied: jirawiki2docx==1.0.11 in /usr/local/lib/python3.10/dist-packages (1.0.11)\n",
            "Requirement already satisfied: python-docx>=0.8.11 in /usr/local/lib/python3.10/dist-packages (from jirawiki2docx==1.0.11) (0.8.11)\n",
            "Requirement already satisfied: webcolors>=1.13 in /usr/local/lib/python3.10/dist-packages (from jirawiki2docx==1.0.11) (1.13)\n",
            "Requirement already satisfied: lxml>=2.3.2 in /usr/local/lib/python3.10/dist-packages (from python-docx>=0.8.11->jirawiki2docx==1.0.11) (4.9.2)\n"
          ]
        }
      ]
    },
    {
      "cell_type": "code",
      "source": [],
      "metadata": {
        "id": "zcjTBadefEIL"
      },
      "execution_count": 2,
      "outputs": []
    },
    {
      "cell_type": "code",
      "source": [
        "from jirawiki2docx import JiraWiki2Docx"
      ],
      "metadata": {
        "id": "tVEkoIUHvzwy"
      },
      "execution_count": 3,
      "outputs": []
    },
    {
      "cell_type": "code",
      "source": [
        "import os\n",
        "import json\n",
        "from docx import Document\n",
        "from docx.shared import Inches\n",
        "from docx.enum.table import WD_TABLE_ALIGNMENT, WD_ALIGN_VERTICAL\n",
        "from docx.shared import Inches, RGBColor, Pt, Cm\n",
        "from docx.enum.text import WD_LINE_SPACING\n",
        "from docx.oxml.ns import nsdecls\n",
        "from docx.oxml import parse_xml\n",
        "from itertools import groupby\n",
        "from datetime import datetime\n",
        "import numpy as np\n",
        "import pandas as pd\n",
        "from jira import JIRA\n"
      ],
      "metadata": {
        "id": "7U2vYACsC03A"
      },
      "execution_count": 4,
      "outputs": []
    },
    {
      "cell_type": "code",
      "source": [],
      "metadata": {
        "id": "boK5DygwK5Td"
      },
      "execution_count": 4,
      "outputs": []
    },
    {
      "cell_type": "markdown",
      "source": [
        "#### Generic Functions"
      ],
      "metadata": {
        "id": "8qdYZCiogmSN"
      }
    },
    {
      "cell_type": "code",
      "source": [
        "def group_list_of_dictionaries(input_list, key):\n",
        "  # Sort the list of dictionaries by the specified key\n",
        "  sorted_list = sorted(input_list, key=lambda x: x[key])\n",
        "  # Group the dictionaries based on the specified key\n",
        "  grouped_dict = {}\n",
        "  for k, g in groupby(sorted_list, key=lambda x: x[key]):\n",
        "      grouped_dict[k] = list(g)\n",
        "  return grouped_dict\n",
        "\n",
        "\n",
        "def convert_date_to_jira_format(dt):\n",
        "  return datetime.strftime(dt, '%Y-%m-%d')\n",
        "\n",
        "\n",
        "def convert_date_to_weekly_report_format(dt):\n",
        "  return datetime.strftime(dt, '%d/%m/%Y')"
      ],
      "metadata": {
        "id": "4q3-wtfOhWbm"
      },
      "execution_count": 5,
      "outputs": []
    },
    {
      "cell_type": "markdown",
      "source": [
        "#### Word Doc Functions"
      ],
      "metadata": {
        "id": "k4hrdK86hXH0"
      }
    },
    {
      "cell_type": "code",
      "source": [],
      "metadata": {
        "id": "i9mfWh-SncwK"
      },
      "execution_count": 5,
      "outputs": []
    },
    {
      "cell_type": "code",
      "source": [
        "def set_page_margins(document, top_margin, bottom_margin, left_margin, right_margin):\n",
        "  #changing the page margins\n",
        "  sections = document.sections\n",
        "  for section in sections:\n",
        "    section.top_margin = top_margin\n",
        "    section.bottom_margin = bottom_margin\n",
        "    section.left_margin = left_margin\n",
        "    section.right_margin = right_margin\n",
        "\n",
        "\n",
        "def set_col_widths(table, *width_args):\n",
        "    for row in table.rows:\n",
        "        for idx, width in enumerate(width_args):\n",
        "            row.cells[idx].width = width\n",
        "\n",
        "\n",
        "def build_table_row_from_issue(table, issue):\n",
        "  title = issue.get('summary','') or ''\n",
        "  beneficiaries = issue.get('beneficiaries','') or ''\n",
        "  description = issue.get('description','') or ''\n",
        "  impact = issue.get('impact','') or ''\n",
        "  status = issue.get('status','') or ''\n",
        "  completion_stage = issue.get('completion_stage','') or ''\n",
        "\n",
        "  new_row = table.add_row().cells\n",
        "  new_row[0].text = title\n",
        "  new_row[1].text = '\\n'.join(beneficiaries)\n",
        "  JiraWiki2Docx(description, new_row[2]).parseJira2Docx()\n",
        "  # new_row[2].text = description\n",
        "\n",
        "  if impact is not None and impact.strip() != \"\":\n",
        "    run2 = new_row[2].add_paragraph('Impact').runs[0]\n",
        "    run2.font.bold = True\n",
        "    JiraWiki2Docx(impact, new_row[2]).parseJira2Docx()\n",
        "    # new_row[2].add_paragraph(impact)\n",
        "\n",
        "  new_row[3].text = f'{status.title()} ({completion_stage})' if completion_stage and completion_stage.lower()!='completed' else status.title()\n"
      ],
      "metadata": {
        "id": "XCCNJveshmYZ"
      },
      "execution_count": 6,
      "outputs": []
    },
    {
      "cell_type": "markdown",
      "source": [
        "#### Jira Wrapper Functions"
      ],
      "metadata": {
        "id": "Y-KF1wtthor_"
      }
    },
    {
      "cell_type": "code",
      "source": [
        "def get_issue_region(beneficiary_company):\n",
        "  if beneficiary_company:\n",
        "    beneficiary_company = beneficiary_company[0] if type(beneficiary_company)==list else beneficiary_company\n",
        "    if beneficiary_company in ['GTBank Nigeria','HoldCo','GTFM','GTPM']:\n",
        "      return REPORT_REGIONS[0]\n",
        "    if beneficiary_company in ['GTBank Ghana']:\n",
        "      return REPORT_REGIONS[1]\n",
        "    elif beneficiary_company in ['GTBank Rwanda','GTBank Kenya','GTBank Tanzania','GTBank Uganda']:\n",
        "      return REPORT_REGIONS[2]\n",
        "\n",
        "def convert_object_jira_to_string(prop):\n",
        "  if type(prop).__name__ in ['Project','Status']:\n",
        "    return prop.name\n",
        "  if type(prop).__name__=='CustomFieldOption':\n",
        "    return prop.value\n",
        "  return prop\n",
        "\n",
        "def get_custom_field_value(issue, field_name):\n",
        "  prop_value = getattr(issue.fields, nameMap.get(field_name), None)\n",
        "  if type(prop_value)==list:\n",
        "    prop_value = [convert_object_jira_to_string(p) for p in prop_value]\n",
        "  else:\n",
        "    prop_value = convert_object_jira_to_string(prop_value)\n",
        "  return prop_value"
      ],
      "metadata": {
        "id": "ElEa2XG4VtHv"
      },
      "execution_count": 7,
      "outputs": []
    },
    {
      "cell_type": "code",
      "source": [],
      "metadata": {
        "id": "HvoEIUVjiHA8"
      },
      "execution_count": 7,
      "outputs": []
    },
    {
      "cell_type": "code",
      "source": [
        "# https://jiraone.readthedocs.io/en/latest/apis.html#jiraone.access.EndPoints.issue_attachments"
      ],
      "metadata": {
        "id": "78Pd4RzRf0Hu"
      },
      "execution_count": 8,
      "outputs": []
    },
    {
      "cell_type": "code",
      "source": [],
      "metadata": {
        "id": "_S7Y8WgkRKC3"
      },
      "execution_count": 8,
      "outputs": []
    },
    {
      "cell_type": "markdown",
      "source": [
        "### Configure and Login to Jira"
      ],
      "metadata": {
        "id": "8diyxyGyg2tJ"
      }
    },
    {
      "cell_type": "code",
      "source": [
        "REPORT_REGIONS = ['Nigeria', 'West Africa', 'East Africa']"
      ],
      "metadata": {
        "id": "tdp7CCU-Ydfq"
      },
      "execution_count": 9,
      "outputs": []
    },
    {
      "cell_type": "code",
      "source": [
        "REPORT_FROM = datetime(2023,6,19)\n",
        "REPORT_TO = datetime(2023,6,23)"
      ],
      "metadata": {
        "id": "IPIIhOtKsjzm"
      },
      "execution_count": 10,
      "outputs": []
    },
    {
      "cell_type": "code",
      "source": [
        "# Set query criteria\n",
        "JQL = f'\"Exclude from weekly report?[Dropdown]\" = No AND (\"Completed Date[Date]\" >= {convert_date_to_jira_format(REPORT_FROM)} AND \"Completed Date[Date]\" <= {convert_date_to_jira_format(REPORT_TO)} AND status = Completed) OR (status in (\"IN PROGRESS\")) order by \"Start date[Date]\" DESC'"
      ],
      "metadata": {
        "id": "p3pL7MHNlQiz"
      },
      "execution_count": 11,
      "outputs": []
    },
    {
      "cell_type": "code",
      "source": [
        "# Get credentials and login to Jira\n",
        "cred_file = \"config.json\"\n",
        "config = json.load(open(cred_file))\n",
        "jira = JIRA(config['url'], basic_auth=(config['user'], config['password']))"
      ],
      "metadata": {
        "id": "Wx6OTuxFRJ_r"
      },
      "execution_count": 12,
      "outputs": []
    },
    {
      "cell_type": "code",
      "source": [
        "# Fetch all fields\n",
        "allfields = jira.fields()\n",
        "# Make a map from field name -> field id\n",
        "nameMap = {field['name']:field['id'] for field in allfields}"
      ],
      "metadata": {
        "id": "YmR1khLC1RZ0"
      },
      "execution_count": 13,
      "outputs": []
    },
    {
      "cell_type": "code",
      "source": [
        "# extract issues\n",
        "issues = jira.search_issues(JQL, maxResults=100)"
      ],
      "metadata": {
        "id": "HUQZaWguTtIl"
      },
      "execution_count": 14,
      "outputs": []
    },
    {
      "cell_type": "code",
      "source": [
        "processed_issues = []\n",
        "for issue in issues:\n",
        "  new_issue = {}\n",
        "\n",
        "  # Extracting fields from the current issue\n",
        "  new_issue['project_name'] = get_custom_field_value(issue, 'Project')\n",
        "  new_issue['summary'] = get_custom_field_value(issue, 'Summary')\n",
        "  new_issue['beneficiaries'] = get_custom_field_value(issue, 'Beneficiary Team(s)')\n",
        "  new_issue['description'] = get_custom_field_value(issue, 'Description')\n",
        "  new_issue['impact'] = get_custom_field_value(issue, 'Impact')\n",
        "  new_issue['status'] = get_custom_field_value(issue, 'Status')\n",
        "  new_issue['country'] = get_custom_field_value(issue, 'Beneficiary Country')\n",
        "  new_issue['beneficiary_company'] = get_custom_field_value(issue, 'Beneficiary Company')\n",
        "  new_issue['report_section'] = get_custom_field_value(issue, 'Report Section')\n",
        "  new_issue['completion_stage'] = get_custom_field_value(issue, 'Completion stage (%)')\n",
        "\n",
        "  issue_type = get_custom_field_value(issue, 'Issue Type')\n",
        "\n",
        "  if str(issue_type) == 'Sub-task':\n",
        "    issue_parent_key = get_custom_field_value(issue, 'Parent').key\n",
        "    parent_issue = jira.issue(issue_parent_key)\n",
        "    # Updating fields from the parent issue if they are missing in the current issue\n",
        "    new_issue['beneficiaries'] = new_issue['beneficiaries'] or get_custom_field_value(parent_issue, 'Beneficiary Team(s)')\n",
        "    new_issue['description'] = new_issue['description'] or get_custom_field_value(parent_issue, 'Description')\n",
        "    new_issue['impact'] = new_issue['impact'] or get_custom_field_value(parent_issue, 'Impact')\n",
        "    new_issue['country'] = new_issue['country'] or get_custom_field_value(parent_issue, 'Beneficiary Country')\n",
        "    new_issue['beneficiary_company'] = new_issue['beneficiary_company'] or get_custom_field_value(parent_issue, 'Beneficiary Company')\n",
        "    new_issue['report_section'] = new_issue['report_section'] or get_custom_field_value(parent_issue, 'Report Section')\n",
        "    new_issue['completion_stage'] = new_issue['completion_stage'] or get_custom_field_value(parent_issue, 'Completion stage (%)')\n",
        "\n",
        "  new_issue['report_section'] = new_issue['report_section'] if new_issue['report_section'] else new_issue['project_name']\n",
        "  new_issue['report_region'] = get_issue_region(new_issue['beneficiary_company'])\n",
        "  # print(new_issue)\n",
        "  processed_issues.append(new_issue)"
      ],
      "metadata": {
        "id": "M_sRVwpHApto"
      },
      "execution_count": 15,
      "outputs": []
    },
    {
      "cell_type": "code",
      "source": [],
      "metadata": {
        "id": "M6__J9mlAph_"
      },
      "execution_count": 15,
      "outputs": []
    },
    {
      "cell_type": "code",
      "source": [],
      "metadata": {
        "id": "sryrhiGVMQVh"
      },
      "execution_count": 15,
      "outputs": []
    },
    {
      "cell_type": "markdown",
      "source": [
        "#### Export Jira Issues"
      ],
      "metadata": {
        "id": "syBVJPq9ujoO"
      }
    },
    {
      "cell_type": "code",
      "source": [
        "# processed_issues"
      ],
      "metadata": {
        "id": "Aggih8dJtS6L"
      },
      "execution_count": 16,
      "outputs": []
    },
    {
      "cell_type": "code",
      "source": [
        "# processed_issues_df"
      ],
      "metadata": {
        "id": "F3I88RjP3Hbm"
      },
      "execution_count": 17,
      "outputs": []
    },
    {
      "cell_type": "code",
      "source": [
        "print('Number of issues: ', len(processed_issues))"
      ],
      "metadata": {
        "id": "Rbarrt6fQFkp",
        "colab": {
          "base_uri": "https://localhost:8080/"
        },
        "outputId": "84a51d7d-9e40-433b-d4e7-7e0faac3877a"
      },
      "execution_count": 18,
      "outputs": [
        {
          "output_type": "stream",
          "name": "stdout",
          "text": [
            "Number of issues:  23\n"
          ]
        }
      ]
    },
    {
      "cell_type": "code",
      "source": [
        "# Create word document\n",
        "# doc = Document('weekly report template.docx')\n",
        "doc = Document()\n",
        "\n",
        "# Set the default styles for the document\n",
        "DOC_FONT = 'Century Gothic'\n",
        "\n",
        "# Set document font by modifying the Normal style\n",
        "style = doc.styles['Normal']\n",
        "font = style.font\n",
        "font.name = DOC_FONT\n",
        "DOC_PRIMARY_COLOR = RGBColor(222, 74, 9)\n",
        "\n",
        "# Set document margins\n",
        "set_page_margins(doc, Cm(1), Cm(1), Cm(1), Cm(1))\n",
        "\n",
        "LOGO_PATH = 'logo.png'\n",
        "LOGO_WIDTH = Cm(1.3)\n",
        "\n",
        "# Create a table with one row and two columns\n",
        "table = doc.add_table(rows=1, cols=2)\n",
        "\n",
        "# Set alignment to cell\n",
        "# table.cell(0, 0).vertical_alignment = WD_ALIGN_VERTICAL.CENTER\n",
        "\n",
        "# Add image to the first column\n",
        "table.cell(0, 0).paragraphs[0].add_run().add_picture(LOGO_PATH, width = LOGO_WIDTH)\n",
        "\n",
        "# Add the text lines to the cell\n",
        "# line 1\n",
        "para1 = table.cell(0, 1).paragraphs[0]\n",
        "para1.paragraph_format.line_spacing_rule = WD_LINE_SPACING.SINGLE\n",
        "para1.paragraph_format.space_after = Pt(0)\n",
        "run1 = para1.add_run('Group Data Analytics Weekly Report')\n",
        "run1.font.size = Pt(16)\n",
        "# line 2\n",
        "para2 = table.cell(0, 1).add_paragraph(f'Activities for the Week ({convert_date_to_weekly_report_format(REPORT_FROM)} - {convert_date_to_weekly_report_format(REPORT_TO)})')\n",
        "run2 = para2.runs[0]\n",
        "run2.font.color.rgb = DOC_PRIMARY_COLOR # Set orange color\n",
        "run2.font.size = Pt(14) # Set font size to 12 points\n",
        "run2.font.bold = True\n",
        "\n",
        "# Set the width of the first column\n",
        "set_col_widths(table, Cm(0.5), Cm(20))\n",
        "\n",
        "# Add empty lines\n",
        "doc.add_paragraph(\"\")\n",
        "doc.add_paragraph(\"\")"
      ],
      "metadata": {
        "id": "1iZ19iana4f2",
        "colab": {
          "base_uri": "https://localhost:8080/"
        },
        "outputId": "b9dc6fc4-9318-453a-824d-c8c96a6be3df"
      },
      "execution_count": 19,
      "outputs": [
        {
          "output_type": "execute_result",
          "data": {
            "text/plain": [
              "<docx.text.paragraph.Paragraph at 0x7f60e97d6b60>"
            ]
          },
          "metadata": {},
          "execution_count": 19
        }
      ]
    },
    {
      "cell_type": "code",
      "source": [],
      "metadata": {
        "id": "HuVvcJcPXxkk"
      },
      "execution_count": 19,
      "outputs": []
    },
    {
      "cell_type": "code",
      "source": [
        "for region in REPORT_REGIONS:\n",
        "  print('********',region)\n",
        "  issues_per_region = filter(lambda x:x['report_region']==region, processed_issues)\n",
        "\n",
        "  # write region to doc\n",
        "  doc.add_paragraph(region)\n",
        "\n",
        "  # intitialize table for current region\n",
        "  table = doc.add_table(rows=1, cols=4)\n",
        "  # table.style = 'Weekly Report' # Apply a table style if needed\n",
        "  table.style = 'Table Grid' # Apply a table style if needed\n",
        "\n",
        "  # write table headers\n",
        "  table.cell(0, 0).text = \"TASK/PROJECT\"\n",
        "  table.cell(0, 1).text = \"BENEFICIARY\"\n",
        "  table.cell(0, 2).text = \"DESCRIPTION\"\n",
        "  table.cell(0, 3).text = \"STATUS\"\n",
        "\n",
        "  # split the issues for each region by report sections\n",
        "  issues_per_report_section = group_list_of_dictionaries(issues_per_region, 'report_section')\n",
        "  for rep_sect, issues in issues_per_report_section.items():\n",
        "    print('----',rep_sect)\n",
        "\n",
        "    # write report section\n",
        "    new_row = table.add_row().cells\n",
        "    merged_row = new_row[0].merge(new_row[1]).merge(new_row[2]).merge(new_row[3])\n",
        "    merged_run = merged_row.paragraphs[0].add_run()\n",
        "    merged_run.text = rep_sect\n",
        "    merged_run.font.bold = True\n",
        "    shading_elm = parse_xml(r'<w:shd {} w:fill=\"F3F4F3\"/>'.format(nsdecls('w')))\n",
        "    merged_row._tc.get_or_add_tcPr().append(shading_elm)\n",
        "\n",
        "    for issue in issues: # iterate over report_section\n",
        "      print(issue)\n",
        "      build_table_row_from_issue(table, issue)\n",
        "\n",
        "  # set task table column widths\n",
        "  set_col_widths(table, Cm(1), Cm(4), Cm(10), Cm(3))\n",
        "\n",
        "  # add extra lines after each region\n",
        "  doc.add_paragraph('')\n",
        "  doc.add_paragraph('')"
      ],
      "metadata": {
        "id": "eSHf-4VjY-UZ",
        "colab": {
          "base_uri": "https://localhost:8080/"
        },
        "outputId": "20510de0-461f-4c42-e015-ae8966a0c886"
      },
      "execution_count": 20,
      "outputs": [
        {
          "output_type": "stream",
          "name": "stdout",
          "text": [
            "******** Nigeria\n",
            "---- Awareness & Analysis\n",
            "{'project_name': 'Management/Analysis Reports', 'summary': 'Card Usage Pre & Post Cash Scarcity ', 'beneficiaries': ['Digital_Banking'], 'description': 'Carried out an {color:#ff5630}analysis to {color}{color:#fff0b3}identify{color}{color:#ff5630} c{color}{color:#ff5630}*ustome*{color}{color:#ff5630}rs who{color} carried out POS/WEB (card) {color:#bf2600}transactions {color}during the period of +^*-_cash scarcity but subsequently_-*^+ stopped{color:#00b8d9} transacting{color} on this *channel and map out the* *_transactional_* *behaviour* of _these_ *_customers_* _prior to and during_ cash ^sca^rcity. testing _some_ functions of wiki formating.\\n\\n*Definition of Terms*\\n\\n* Cash scarcity period: ~November~ 2022 to March 2023 (150 days) \\n* 6 months prior to cash scarcity: May 2022 to October 2022 (180 days) \\n* Period after cash scarcity: April 2023 to May 2023 (60 days)\\n\\n*Key Highlights:*\\n\\n* Customers transactional behaviour before, during and after cash scarcity\\n\\n||Period||Transacted before, during {color:#ff5630}AND {color}after cash scarcity||Transacted during cash scarcity {color:#ff5630}BUT {color}stopped after cash scarcity||{color:#ff5630}STARTED {color}transacting during cash scarcity {color:#ff5630}AND {color}continued afterwards||\\n|* Distinct Card Holders\\n* dummy|3,674,893|{color:#ff5630}*1,310,454*{color}|602,235|\\n\\n* *23% (1.31 million)* of the customers who carried out POS/WEB transactions during cash scarcity stopped card transactions at the end of the cash scarcity period; *The breakdown of these customers is provided in the table below.*\\n\\n||Period||Transacted prior to AND during cash scarcity BUT subsequently stopped||Transacted only during cash scarcity, NOT before or after cash scarcity||% of customers who transacted only during cash scarcity||\\n||Distinct Card Holders|{color:#36b37e}1,030,063 {color}|{color:#ff991f}280,391{color}|{color:#ff991f}21%{color}|\\n\\n* *79% (1.03 of 1.31 million)* of these customers also carried out POS/WEB transactions in the 6 months prior to cash scarcity which means that they regularly transacted using their cards regardless of cash scarcity.-', 'impact': '* Provide insights into drop-offs or declined usage across card holders.\\n* Map out the transactional behavior of customers prior to and during cash scarcity', 'status': 'Completed', 'country': None, 'beneficiary_company': ['GTBank Nigeria'], 'report_section': 'Awareness & Analysis', 'completion_stage': '100%', 'report_region': 'Nigeria'}\n",
            "---- CRM Optimization\n",
            "{'project_name': 'CRM Optimization Requests', 'summary': 'E-Fraud Amount in Dispute on Quick Create Form', 'beneficiaries': None, 'description': '* Configured a business rule to make the *_E-Fraud Amount in Dispute_* field a compulsory field on the “Quick Create” case form for cases with subject “Fraud/Unauthorized Transaction”\\n* UAT has been completed\\n* Currently awaiting approval of E-Fraud supervisor\\n\\n*Next step:*\\n\\n* Deployment on production environment is scheduled to hold next week once E-fraud supervisor signs off on Processmaker', 'impact': None, 'status': 'In Progress', 'country': None, 'beneficiary_company': ['GTBank Nigeria'], 'report_section': 'CRM Optimization', 'completion_stage': '90%', 'report_region': 'Nigeria'}\n",
            "{'project_name': 'CRM Optimization Requests', 'summary': 'Modifying Owner Field to a read-only field', 'beneficiaries': None, 'description': '* The \"Owner\" field was modified to a \"Read Only\" field to ensure that agents use the \"Assign To\" function to assign cases.\\n* UAT has been completed\\n\\nNext Step:\\n\\n* Deployment on production environment is scheduled to hold this week', 'impact': None, 'status': 'In Progress', 'country': None, 'beneficiary_company': ['GTBank Nigeria'], 'report_section': 'CRM Optimization', 'completion_stage': '90%', 'report_region': 'Nigeria'}\n",
            "---- Data Governance and Information Security\n",
            "{'project_name': 'Data Governance Projects', 'summary': 'Corporate Centers SOP Update', 'beneficiaries': None, 'description': '* Followed up with all Corporate Centre heads to update their SOPs to include a section on Data Protection Impact Assessment (DPIA)\\n* Group Data Analytics, Sourcing, Corporate Communications, Internal Audit and Technology have updated their SOPs accordingly.\\n* *4 corporate centers pending*', 'impact': None, 'status': 'In Progress', 'country': None, 'beneficiary_company': ['HoldCo'], 'report_section': 'Data Governance and Information Security', 'completion_stage': '80%', 'report_region': 'Nigeria'}\n",
            "---- Insights and Predictive Modelling\n",
            "{'project_name': 'Analytics Projects', 'summary': 'Talent Attrition Model', 'beneficiaries': None, 'description': '* Build and deploy an updated employee attrition model that can predict whether an employee will churn based on live data from SAP', 'impact': None, 'status': 'In Progress', 'country': None, 'beneficiary_company': ['HoldCo'], 'report_section': 'Insights and Predictive Modelling', 'completion_stage': '95%', 'report_region': 'Nigeria'}\n",
            "---- Management/Analysis Reports\n",
            "{'project_name': 'Management/Analysis Reports', 'summary': 'Domiciliary account holders', 'beneficiaries': ['International_settlement'], 'description': '* Provided a report on domiciliary account holders broken down by segment, activity status and funding status.\\n\\n*Key Highlights*:\\n\\n* Total number of domiciliary accounts identified:2,411,807\\n* Total number of domiciliary account holders:1,041,208\\n* *73%* of GTBank domiciliary customers are active\\n\\no\\xa0\\xa0\\xa0 Breakdown of Domiciliary account holders by segment\\n\\n|*Segment*|*Count*|*% Mix*|\\n|Retail|876,551|84%|\\n|Corporate|164,657|16%|\\n|*Total*|*1,041,208*|*100%*|\\n\\n\\xa0\\n\\no\\xa0\\xa0\\xa0 Breakdown of Domiciliary account holders by funding status\\n\\n|*Funded band ($)*|*Count*|*% Mix*|\\n|Unfunded\\n(Balances < 0)|479,260|46%|\\n|> 0 - 500|466,130|45%|\\n|500 - 5000|64,886|6%|\\n|5000 - 10000|12,088|1%|\\n|10000 - 50000|14,948|1%|\\n|50000 - 100000|2,103|0.2%|\\n|>100,000|1,793|0.2%|\\n|*Total*|*1,041,208*|*100%*|\\n\\n* *46%* of GTBank domiciliary customers are unfunded\\n* Majority of all funded domiciliary account holders (*45%*), fall in the *>0-500* dollar band.', 'impact': '\\uf098\\tProvide insights for Management decision-making', 'status': 'Completed', 'country': None, 'beneficiary_company': ['GTBank Nigeria'], 'report_section': 'Management/Analysis Reports', 'completion_stage': '100%', 'report_region': 'Nigeria'}\n",
            "******** West Africa\n",
            "---- Awareness and Analysis\n",
            "{'project_name': 'Data Requests', 'summary': 'Deposit by Region Report', 'beneficiaries': None, 'description': '* Provided the risk management team with a report on deposit by region as at 22nd June 2023.\\n\\n||*Region*||*Customer Count*||*LCY_Balance (GHC)*||*FCY_Balance (GHC)*||*Total Balance (GHC)*||*% Mix*||\\n|Greater Accra|943,758|3,566,640,841|2,536,064,245|6,102,705,085|91%|\\n|Western|58,850|136,561,358|73,393,650|209,955,008|3%|\\n|Ashanti|105,027|158,892,323|46,483,713|205,376,035|3%|\\n|Northern|36,516|60,195,475|19,382,916|79,578,391|1%|\\n|Bono East|25,256|49,370,896|12,559,397|61,930,293|1%|\\n|Central|56,519|52,326,190|8,492,366|60,818,556|1%|\\n|Volta|13,664|13,508,510|2,578,108|16,086,618|0%|\\n|Eastern|8,091|5,661,408|248,222|5,909,629|0%|\\n|Total|1,247,681|4,043,157,001|2,699,202,617|6,742,359,615|100|\\n\\n\\n\\n\\x98\\xa0 Branch distribution by region\\n\\n|*Region*|*Bank Branch Count*|*% Distribution*|\\n|Greater Accra|25|*64%*|\\n|Western|2|5%|\\n|Ashanti|5|12%|\\n|Northern|2|5%|\\n|Bono East|1|3%|\\n|Central|2|5%|\\n|Volta|1|3%|\\n|Eastern|1|3%|\\n|*Total*|*39*|*100*|\\n\\nGreater Accra has the highest deposit balance and customer count', 'impact': None, 'status': 'Completed', 'country': None, 'beneficiary_company': ['GTBank Ghana'], 'report_section': 'Awareness and Analysis', 'completion_stage': '100%', 'report_region': 'West Africa'}\n",
            "---- CRM projects\n",
            "{'project_name': 'CRM projects', 'summary': 'Creatio CRM Solution Implementation', 'beneficiaries': None, 'description': 'Deploy CRM application for GTBank Ghana', 'impact': None, 'status': 'In Progress', 'country': None, 'beneficiary_company': ['GTBank Ghana'], 'report_section': 'CRM projects', 'completion_stage': None, 'report_region': 'West Africa'}\n",
            "---- Management/Analysis Reports\n",
            "{'project_name': 'Management/Analysis Reports', 'summary': 'SKS to STS to GTCrea8/ Savings Account Prompt', 'beneficiaries': ['GTBank_Ghana'], 'description': '* Automated the identification of SKS customers approaching 13 years and STS customers approaching 18 years to be moved to an STS account or GTCrea8/Savings account respectively. ', 'impact': '* To improve customer experience and ensure that customers are assigned to suitable accounts according to their age.', 'status': 'IN PROGRESS', 'country': None, 'beneficiary_company': ['GTBank Ghana'], 'report_section': 'Management/Analysis Reports', 'completion_stage': None, 'report_region': 'West Africa'}\n",
            "---- Operational Efficiency\n",
            "{'project_name': 'Management/Analysis Reports', 'summary': 'Agency Banking Report', 'beneficiaries': ['Agency_Banking_Division'], 'description': '* Built the following dashboards on Tableau:\\n** Top agency banking transactions (account opening, bill payments, deposit\\n** Top 10 agents\\n** Active and Funded Ratio\\n** Inactive agents (Individual & SMEs)', 'impact': '* To track the overall progress of Agency Banking and identify areas of improvement.', 'status': 'Completed', 'country': None, 'beneficiary_company': ['GTBank Ghana'], 'report_section': 'Operational Efficiency', 'completion_stage': '100%', 'report_region': 'West Africa'}\n",
            "******** East Africa\n",
            "---- Data Governance and Information Security\n",
            "{'project_name': 'Data Governance Projects', 'summary': 'Information Security Solution', 'beneficiaries': None, 'description': '* Held meetings with Group Sourcing and Nigeria CISO to expedite the purchase of an Information Security Software (SIEM and TIP solutions) for Rwanda \\n* Group Sourcing concluded negotiations with the vendor (pricing for the software now at $55,000 per year for a 3-year period)\\n\\n*Next Steps:*\\n\\n* Rwanda to raise purchase order for vendor', 'impact': None, 'status': 'In Progress', 'country': None, 'beneficiary_company': ['GTBank Rwanda'], 'report_section': 'Data Governance and Information Security', 'completion_stage': '50%', 'report_region': 'East Africa'}\n",
            "---- Operational Efficiency\n",
            "{'project_name': 'Management/Analysis Reports', 'summary': 'Marketing Dashboard on Tableau - Rwanda', 'beneficiaries': ['GTBank_Rwanda'], 'description': '* Create a marketing dashboard for GTBank Rwanda on Tableau with the following information:\\n** Salary earners accounts acquisition (Monthly)\\n** Breakdown of salary accounts according to economic sector\\n** Breakdown of salary accounts based on location', 'impact': '* To provide easy visualization, track progress and insights for marketing officers', 'status': 'IN PROGRESS', 'country': None, 'beneficiary_company': ['GTBank Rwanda'], 'report_section': 'Operational Efficiency', 'completion_stage': None, 'report_region': 'East Africa'}\n",
            "{'project_name': 'Management/Analysis Reports', 'summary': 'Marketing Dashboard on Tableau - Tanzania', 'beneficiaries': ['GTBank_Tanzania'], 'description': 'Commence phase 3 of marketing Dashboard for GTBank Tanzania', 'impact': '* Provide insights for managerial decisions.', 'status': 'IN PROGRESS', 'country': None, 'beneficiary_company': ['GTBank Tanzania'], 'report_section': 'Operational Efficiency', 'completion_stage': None, 'report_region': 'East Africa'}\n",
            "{'project_name': 'Management/Analysis Reports', 'summary': 'Marketing Dashboard on Tableau - Rwanda', 'beneficiaries': ['GTBank_Rwanda'], 'description': '* Commence phase 2 of marketing Dashboard for GTBank Rwanda', 'impact': '* To provide easy visualization, track progress and insights for marketing officers', 'status': 'IN PROGRESS', 'country': None, 'beneficiary_company': ['GTBank Rwanda'], 'report_section': 'Operational Efficiency', 'completion_stage': None, 'report_region': 'East Africa'}\n",
            "{'project_name': 'Management/Analysis Reports', 'summary': 'Marketing Dashboard on Tableau - Rwanda', 'beneficiaries': ['GTBank_Rwanda'], 'description': '* Creation of a marketing dashboard for GTBank Rwanda', 'impact': '* To provide easy visualization, track progress and insights for marketing officers', 'status': 'IN PROGRESS', 'country': None, 'beneficiary_company': ['GTBank Rwanda'], 'report_section': 'Operational Efficiency', 'completion_stage': None, 'report_region': 'East Africa'}\n",
            "{'project_name': 'Management/Analysis Reports', 'summary': 'Marketing Dashboard on Tableau - Tanzania', 'beneficiaries': ['GTBank_Tanzania'], 'description': '* Created a marketing dashboard for GTBank Tanzania on Tableau with the following information:\\n** Customer overview\\n** Acquisition by teams\\n** Activity funding status by teams', 'impact': '* Provide insights for managerial decisions.', 'status': 'IN PROGRESS', 'country': None, 'beneficiary_company': ['GTBank Tanzania'], 'report_section': 'Operational Efficiency', 'completion_stage': None, 'report_region': 'East Africa'}\n"
          ]
        }
      ]
    },
    {
      "cell_type": "code",
      "source": [
        "doc.save('output.docx')"
      ],
      "metadata": {
        "id": "8sCQ8lIvE4Vu"
      },
      "execution_count": 21,
      "outputs": []
    },
    {
      "cell_type": "code",
      "source": [],
      "metadata": {
        "id": "V0csUkcHutWZ"
      },
      "execution_count": 21,
      "outputs": []
    },
    {
      "cell_type": "code",
      "source": [],
      "metadata": {
        "id": "Ns52aj0Qs0mX"
      },
      "execution_count": 21,
      "outputs": []
    },
    {
      "cell_type": "code",
      "source": [],
      "metadata": {
        "id": "p6HQLijLQXzG"
      },
      "execution_count": 21,
      "outputs": []
    },
    {
      "cell_type": "code",
      "source": [],
      "metadata": {
        "id": "LE-riIBwiykm"
      },
      "execution_count": 21,
      "outputs": []
    },
    {
      "cell_type": "code",
      "source": [],
      "metadata": {
        "id": "IwHOhZyjiyiX"
      },
      "execution_count": 21,
      "outputs": []
    },
    {
      "cell_type": "code",
      "source": [],
      "metadata": {
        "id": "rNVOuoejiyfx"
      },
      "execution_count": 21,
      "outputs": []
    },
    {
      "cell_type": "code",
      "source": [],
      "metadata": {
        "id": "8rXjS142iydF"
      },
      "execution_count": 21,
      "outputs": []
    }
  ]
}