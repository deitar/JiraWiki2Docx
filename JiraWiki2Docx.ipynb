{
  "nbformat": 4,
  "nbformat_minor": 0,
  "metadata": {
    "colab": {
      "provenance": [],
      "authorship_tag": "ABX9TyPl46BgEaWyscnkkCaXVNCw",
      "include_colab_link": true
    },
    "kernelspec": {
      "name": "python3",
      "display_name": "Python 3"
    },
    "language_info": {
      "name": "python"
    }
  },
  "cells": [
    {
      "cell_type": "markdown",
      "metadata": {
        "id": "view-in-github",
        "colab_type": "text"
      },
      "source": [
        "<a href=\"https://colab.research.google.com/github/deitar/JiraWiki2Docx/blob/main/JiraWiki2Docx.ipynb\" target=\"_parent\"><img src=\"https://colab.research.google.com/assets/colab-badge.svg\" alt=\"Open In Colab\"/></a>"
      ]
    },
    {
      "cell_type": "code",
      "execution_count": 3,
      "metadata": {
        "id": "Mw-x5WT-J3JZ"
      },
      "outputs": [],
      "source": []
    },
    {
      "cell_type": "code",
      "source": [
        "!pip install xmltodict\n",
        "!pip install htmldocx\n",
        "!pip install python-docx"
      ],
      "metadata": {
        "id": "S8ShXVHTJ_gE",
        "colab": {
          "base_uri": "https://localhost:8080/"
        },
        "outputId": "c876c48d-e3fc-4ef5-ddf9-b9d45d7d7653"
      },
      "execution_count": 4,
      "outputs": [
        {
          "output_type": "stream",
          "name": "stdout",
          "text": [
            "Collecting xmltodict\n",
            "  Downloading xmltodict-0.13.0-py2.py3-none-any.whl (10.0 kB)\n",
            "Installing collected packages: xmltodict\n",
            "Successfully installed xmltodict-0.13.0\n",
            "Collecting htmldocx\n",
            "  Downloading htmldocx-0.0.6-py3-none-any.whl (9.5 kB)\n",
            "Collecting python-docx>=0.8.10 (from htmldocx)\n",
            "  Downloading python-docx-0.8.11.tar.gz (5.6 MB)\n",
            "\u001b[2K     \u001b[90m━━━━━━━━━━━━━━━━━━━━━━━━━━━━━━━━━━━━━━━━\u001b[0m \u001b[32m5.6/5.6 MB\u001b[0m \u001b[31m68.8 MB/s\u001b[0m eta \u001b[36m0:00:00\u001b[0m\n",
            "\u001b[?25h  Preparing metadata (setup.py) ... \u001b[?25l\u001b[?25hdone\n",
            "Requirement already satisfied: beautifulsoup4>=4.7.0 in /usr/local/lib/python3.10/dist-packages (from htmldocx) (4.11.2)\n",
            "Requirement already satisfied: soupsieve>1.2 in /usr/local/lib/python3.10/dist-packages (from beautifulsoup4>=4.7.0->htmldocx) (2.4.1)\n",
            "Requirement already satisfied: lxml>=2.3.2 in /usr/local/lib/python3.10/dist-packages (from python-docx>=0.8.10->htmldocx) (4.9.2)\n",
            "Building wheels for collected packages: python-docx\n",
            "  Building wheel for python-docx (setup.py) ... \u001b[?25l\u001b[?25hdone\n",
            "  Created wheel for python-docx: filename=python_docx-0.8.11-py3-none-any.whl size=184491 sha256=cd0309da91b9fdd822ea169a6c0c83b8bb1d97f55148bbf20d39b07e98e8e403\n",
            "  Stored in directory: /root/.cache/pip/wheels/80/27/06/837436d4c3bd989b957a91679966f207bfd71d358d63a8194d\n",
            "Successfully built python-docx\n",
            "Installing collected packages: python-docx, htmldocx\n",
            "Successfully installed htmldocx-0.0.6 python-docx-0.8.11\n",
            "Requirement already satisfied: python-docx in /usr/local/lib/python3.10/dist-packages (0.8.11)\n",
            "Requirement already satisfied: lxml>=2.3.2 in /usr/local/lib/python3.10/dist-packages (from python-docx) (4.9.2)\n"
          ]
        }
      ]
    },
    {
      "cell_type": "code",
      "source": [
        "import os\n",
        "import re\n",
        "import html\n",
        "import json\n",
        "import xmltodict\n",
        "import requests\n",
        "from datetime import datetime\n",
        "from requests.auth import HTTPBasicAuth\n",
        "from docx import Document\n",
        "from htmldocx import HtmlToDocx\n",
        "from docx.shared import Inches\n",
        "from docx.enum.table import WD_TABLE_ALIGNMENT, WD_ALIGN_VERTICAL\n",
        "from docx.shared import Inches, RGBColor, Pt, Cm\n",
        "from docx.enum.text import WD_LINE_SPACING\n",
        "from docx import Document\n",
        "from docx.oxml.ns import nsdecls\n",
        "from docx.oxml import parse_xml\n",
        "from itertools import groupby\n",
        "from datetime import datetime\n",
        "import numpy as np\n",
        "import pandas as pd\n",
        "from enum import Enum\n",
        "import webcolors"
      ],
      "metadata": {
        "id": "Gee-awAnJ_iq"
      },
      "execution_count": 5,
      "outputs": []
    },
    {
      "cell_type": "code",
      "source": [
        "sample_jira_text = '''Carried out an {color:#ff5630}analysis to {color}{color:#fff0b3}identify{color}{color:#ff5630} customers who{color} carried out POS/WEB (card) transactions during the period of +^*-_cash scarcity but subsequently_-*^+ stopped transacting on this *channel and map out the* *_transactional_* *behaviour* of _these_ *_customers_* _prior to and during_ cash scarcity.\n",
        "\n",
        "*Definition of Terms*\n",
        "\n",
        "* Cash scarcity period: November _*2022 to March 2023*_ (150 days)\n",
        "** 6 months prior to cash scarc ^ity^ : May 2022 to October 2022 (180 days)\n",
        "* Period after cash ~scarc~ity: April 2023 to May 2023 (60 days)\n",
        "**** Period after cash scarcity: April 2023 to May 2023 (60 days)\n",
        "\n",
        "# test number 1\n",
        "#* test number 11\n",
        "#* test number 11\n",
        "# test number 2\n",
        "## test number 2\n",
        "\n",
        "*Key Highlights:*\n",
        "\n",
        "* Customers transactional behaviour before, during and after cash scarcity\n",
        "\n",
        "||Period||Transacted before, during {color:#ff5630}AND {color}after cash scarcity||Transacted during cash scarcity {color:#ff5630}BUT {color}stopped after cash scarcity||{color:#ff5630}STARTED {color}transacting during cash scarcity {color:#ff5630}AND {color}continued afterwards||\n",
        "|* Distinct Card Holders\n",
        "* dummy|3,674,893|{color:#ff5630}*1,310,454*{color}|602,235|\n",
        "\n",
        "||* go\n",
        "* be||\n",
        "| |\n",
        "| |\n",
        "\n",
        "\n",
        "* *1.6 million (66%)* of the customers who completed card transactions during the cash scarcity period also carried out transactions prior to and after the cash scarcity period.\n",
        "* *13% (1 million)* of the customers who carried out POS/WEB transactions during cash scarcity stopped card transactions at the end of the cash scarcity period\n",
        "* Customers with POS/WEB transactions during cash scarcity but not after cash scarcity\n",
        "\n",
        "||Period||Transacted prior to AND during cash scarcity BUT subsequently stopped||Transacted only during cash scarcity, NOT before or after cash scarcity||% of customers who transacted only during cash scarcity||\n",
        "|Distinct Card Holders|{color:#36b37e}30,063 {color}|{color:#ff991f}20,391{color}|{color:#ff991f}41%{color}|\n",
        "\n",
        "* *29% (3.03 of 11 million)* of these customers also carried out POS/WEB transactions in the 6 months prior to cash scarcity which means that they regularly transacted using their cards regardless of cash scarcity.-'''\n"
      ],
      "metadata": {
        "id": "czrCjoaoJ_lR"
      },
      "execution_count": 6,
      "outputs": []
    },
    {
      "cell_type": "code",
      "source": [],
      "metadata": {
        "id": "y0rybD7i3pcU"
      },
      "execution_count": 6,
      "outputs": []
    },
    {
      "cell_type": "code",
      "source": [
        "class JiraWikiBlockTypes(Enum):\n",
        "    LIST = 'list'\n",
        "    HEADING = 'heading'\n",
        "    TABLE = 'table'\n",
        "    CODE = 'code'\n",
        "    QUOTE = 'quote'\n",
        "    PARAGRAPH = 'paragraph'"
      ],
      "metadata": {
        "id": "gkN5DsNIGzkn"
      },
      "execution_count": 7,
      "outputs": []
    },
    {
      "cell_type": "code",
      "source": [
        "def color_name_to_hex(color_name):\n",
        "    try:\n",
        "        # Get the RGB values for the given color name\n",
        "        rgb = webcolors.name_to_rgb(color_name)\n",
        "        # Convert the RGB values to a hex code\n",
        "        hex_code = '#{:02x}{:02x}{:02x}'.format(rgb.red, rgb.green, rgb.blue)\n",
        "        return hex_code\n",
        "    except ValueError:\n",
        "        # Handle the case when an invalid color name is provided\n",
        "        print(\"Invalid color name.\")\n",
        "        return None\n"
      ],
      "metadata": {
        "id": "8H5bS0cKEnXF"
      },
      "execution_count": 8,
      "outputs": []
    },
    {
      "cell_type": "code",
      "source": [
        "def detect_jira_block_type(jira_block):\n",
        "    jira_block_trimmed = jira_block.strip()\n",
        "    marker_heading = r'^h([1-6])\\..*$'\n",
        "    # marker_list = '^([\\*|\\-|\\#]+)\\s(.*)'\n",
        "    marker_list = '^[*#-]+\\s.*$'\n",
        "    marker_table = '^[||]+.*$'\n",
        "    if re.match(marker_heading, jira_block_trimmed, re.DOTALL):\n",
        "        return JiraWikiBlockTypes.HEADING\n",
        "    if re.match(marker_list, jira_block_trimmed, re.DOTALL):\n",
        "        return JiraWikiBlockTypes.LIST\n",
        "    if re.match(marker_table, jira_block_trimmed, re.DOTALL):\n",
        "        return JiraWikiBlockTypes.TABLE\n",
        "    return JiraWikiBlockTypes.PARAGRAPH"
      ],
      "metadata": {
        "id": "O_u2NSQCJe6K"
      },
      "execution_count": 104,
      "outputs": []
    },
    {
      "cell_type": "code",
      "source": [
        "def get_jira_blocks(jira_text):\n",
        "    return re.split('\\n\\n', jira_text)"
      ],
      "metadata": {
        "id": "3JrDwIe4IjYS"
      },
      "execution_count": 105,
      "outputs": []
    },
    {
      "cell_type": "code",
      "source": [
        "def write_heading_jira_to_doc(text, doc_part_to_write_to):\n",
        "    pattern_heading = r'^h([1-6])\\.(.*)'\n",
        "    heading_match = re.match(pattern_heading, text)\n",
        "    heading_number, heading_text = heading_match.groups()\n",
        "    para = doc_part_to_write_to.paragraphs[0] if doc_part_to_write_to.paragraphs else doc_part_to_write_to.add_paragraph()\n",
        "    para.style = f'Heading {heading_number}'\n",
        "    # para.add_run(text=heading_text)\n",
        "    apply_jira_text_effect_to_text_in_docx(heading_text, para)"
      ],
      "metadata": {
        "id": "ML2wArPvKMgl"
      },
      "execution_count": 106,
      "outputs": []
    },
    {
      "cell_type": "code",
      "source": [
        "def write_list_jira_to_doc(text, doc_part_to_write_to):\n",
        "    pattern_list_item = r'^([\\*|\\-|\\#]+)\\s{1}(.*)'\n",
        "    # split block into lines\n",
        "    lines = re.split('\\n', text)\n",
        "    para =  doc_part_to_write_to.paragraphs[0] if doc_part_to_write_to.paragraphs else doc_part_to_write_to.add_paragraph()\n",
        "    for line_index, line in enumerate(lines):\n",
        "        if line_index > 0:\n",
        "          para = doc_part_to_write_to.add_paragraph()\n",
        "        list_type, list_text = re.match(pattern_list_item, line).groups()\n",
        "        # issue 1: couldn't resolve the round and square bullets differently\n",
        "        # issue 2: find a way of decorating nested lists with different point styles\n",
        "        # issue 3: sublevel list have unwanted top space to their parent list\n",
        "        max_list_level = 3\n",
        "        style_name = \"List Number\" if list_type[:max_list_level][-1] == '#' else 'List Bullet'\n",
        "        style_name = f'{style_name} {str(min(len(list_type), max_list_level)) if len(list_type) > 1 else \"\"}'.strip()\n",
        "        para.style = style_name\n",
        "        # para.add_run(text = list_text)\n",
        "        apply_jira_text_effect_to_text_in_docx(list_text, para)"
      ],
      "metadata": {
        "id": "gS67XK30LGAk"
      },
      "execution_count": 107,
      "outputs": []
    },
    {
      "cell_type": "code",
      "source": [
        "def write_table_jira_to_doc(text, doc_part_to_write_to):\n",
        "\n",
        "    pattern_table_row = re.compile('^(\\|{1,})(.*?)\\|{1,}$.*?(?=^\\|.*?\\|$|\\Z)', re.DOTALL|re.IGNORECASE|re.MULTILINE)\n",
        "    table = None\n",
        "    n_cols = 0\n",
        "    for row_index, row_match in enumerate(pattern_table_row.finditer(text)):\n",
        "      if row_match:\n",
        "        leading_markup, jira_row_inner_text = row_match.groups()\n",
        "        print(jira_row_inner_text)\n",
        "        jira_cells_text = re.split('\\|{1,}', jira_row_inner_text)\n",
        "        print(jira_cells_text)\n",
        "        if row_index == 0:\n",
        "          n_cols = len(jira_cells_text)\n",
        "          table = doc_part_to_write_to.add_table(rows=1, cols=n_cols)\n",
        "          table.style = 'Table Grid'\n",
        "        else:\n",
        "          table.add_row()\n",
        "\n",
        "        for c in range(n_cols):\n",
        "          write_jira_block_to_doc(jira_cells_text[c], table.rows[row_index].cells[c])\n"
      ],
      "metadata": {
        "id": "0-S4HWAdBTh7"
      },
      "execution_count": 108,
      "outputs": []
    },
    {
      "cell_type": "code",
      "source": [
        "doc = Document()\n",
        "write_table_jira_to_doc('''||Period||Transacted before, during {color:#ff5630}AND {color}after cash scarcity||Transacted during cash scarcity {color:#ff5630}BUT {color}stopped after cash scarcity||{color:#ff5630}STARTED {color}transacting during cash scarcity {color:#ff5630}AND {color}continued afterwards||\n",
        "|* Distinct Card Holders\n",
        "* dummy|3,674,893|{color:#ff5630}*1,310,454*{color}|602,235|''', doc)\n",
        "doc.save('output.docx')"
      ],
      "metadata": {
        "colab": {
          "base_uri": "https://localhost:8080/"
        },
        "id": "0MU_M03CNmYp",
        "outputId": "4879bc07-d470-4d0a-fbea-73aa3c60141d"
      },
      "execution_count": 109,
      "outputs": [
        {
          "output_type": "stream",
          "name": "stdout",
          "text": [
            "Period||Transacted before, during {color:#ff5630}AND {color}after cash scarcity||Transacted during cash scarcity {color:#ff5630}BUT {color}stopped after cash scarcity||{color:#ff5630}STARTED {color}transacting during cash scarcity {color:#ff5630}AND {color}continued afterwards\n",
            "['Period', 'Transacted before, during {color:#ff5630}AND {color}after cash scarcity', 'Transacted during cash scarcity {color:#ff5630}BUT {color}stopped after cash scarcity', '{color:#ff5630}STARTED {color}transacting during cash scarcity {color:#ff5630}AND {color}continued afterwards']\n",
            "* Distinct Card Holders\n",
            "* dummy|3,674,893|{color:#ff5630}*1,310,454*{color}|602,235\n",
            "['* Distinct Card Holders\\n* dummy', '3,674,893', '{color:#ff5630}*1,310,454*{color}', '602,235']\n"
          ]
        }
      ]
    },
    {
      "cell_type": "code",
      "source": [],
      "metadata": {
        "id": "B7UimQm_NmVg"
      },
      "execution_count": null,
      "outputs": []
    },
    {
      "cell_type": "code",
      "source": [
        "def write_generic_jira_to_doc(text, doc_part_to_write_to):\n",
        "    para = doc_part_to_write_to.paragraphs[0] if doc_part_to_write_to.paragraphs else doc_part_to_write_to.add_paragraph()\n",
        "    # para.add_run(text = text)\n",
        "    apply_jira_text_effect_to_text_in_docx(text, para)"
      ],
      "metadata": {
        "id": "rgZRzxI8Lov6"
      },
      "execution_count": 102,
      "outputs": []
    },
    {
      "cell_type": "code",
      "source": [
        "def write_jira_block_to_doc(jira_block, doc):\n",
        "\n",
        "    # handle leading new lines\n",
        "    new_lines, actual_jira_block = re.match('(\\n*)(.*)', jira_block, re.DOTALL).groups()\n",
        "    num_new_lines = new_lines.count('\\n')\n",
        "\n",
        "    # add new lines by occurence\n",
        "    for i in range(num_new_lines):\n",
        "        para = doc.add_paragraph()\n",
        "        para.add_run()\n",
        "\n",
        "    # 1. heading\n",
        "    if detect_jira_block_type(actual_jira_block) == JiraWikiBlockTypes.HEADING:\n",
        "        write_heading_jira_to_doc(actual_jira_block, doc)\n",
        "    # 2. list\n",
        "    elif detect_jira_block_type(actual_jira_block) == JiraWikiBlockTypes.LIST:\n",
        "        write_list_jira_to_doc(actual_jira_block, doc)\n",
        "    # 3. table\n",
        "    elif detect_jira_block_type(actual_jira_block) == JiraWikiBlockTypes.TABLE:\n",
        "        write_table_jira_to_doc(actual_jira_block, doc)\n",
        "\n",
        "    # any other\n",
        "    else:\n",
        "        write_generic_jira_to_doc(actual_jira_block, doc)\n"
      ],
      "metadata": {
        "id": "sYkOYtjW0rHs"
      },
      "execution_count": 90,
      "outputs": []
    },
    {
      "cell_type": "code",
      "source": [
        "def detect_jira_text_effects(text, parent_key = None):\n",
        "  text_effect_para_dict = {} # Dictionary to store detected text effects\n",
        "  plain_text = text\n",
        "  def detect_effects_recursive(text, parent_key=None):\n",
        "\n",
        "    # Regular expressions for detecting various Jira text effects\n",
        "\n",
        "    # Strong effect: Text enclosed in asterisks (*) with no space after the start or before the end.\n",
        "    pattern_strong_effect = '((\\*)(\\S[^*]*\\S)(\\*))'\n",
        "\n",
        "    # Italics effect: Text enclosed in underscores (_) with no space after the start or before the end.\n",
        "    pattern_italics_effect = '((\\_)(\\S[^_]*\\S)(\\_))'\n",
        "\n",
        "    # Deleted effect: Text enclosed in hyphens (-) with no space after the start or before the end.\n",
        "    pattern_deleted_effect = '((\\-)(\\S[^-]*\\S)(\\-))'\n",
        "\n",
        "    # Inserted effect: Text enclosed in plus signs (+) with no space after the start or before the end.\n",
        "    pattern_inserted_effect = '((\\+)(\\S[^+]*\\S)(\\+))'\n",
        "\n",
        "    # Superscript effect: Text enclosed in carets (^) with no space after the start or before the end.\n",
        "    pattern_superscript_effect = '((\\^)(\\S[^\\^]*\\S)(\\^))'\n",
        "\n",
        "    # Subscript effect: Text enclosed in tildes (~) with no space after the start or before the end.\n",
        "    pattern_subscript_effect = '((\\~)(\\S[^\\~]*\\S)(\\~))'\n",
        "\n",
        "    # Color effect: Text enclosed in color tags {color} with hexadecimal color code.\n",
        "    pattern_color_effect = '((\\{color:[#A-Za-z0-9]+\\})(.*?)(\\{color\\}))'\n",
        "\n",
        "    pattern_text_effect_list = [pattern_strong_effect,\n",
        "                                pattern_italics_effect,\n",
        "                                pattern_deleted_effect,\n",
        "                                pattern_inserted_effect,\n",
        "                                pattern_superscript_effect,\n",
        "                                pattern_subscript_effect,\n",
        "                                pattern_color_effect]\n",
        "    pattern_text_effect = re.compile('|'.join(pattern_text_effect_list), re.DOTALL|re.IGNORECASE)\n",
        "    for m in pattern_text_effect.finditer(text):\n",
        "      try:\n",
        "        full_match, text_effect_ope_tag, inner_text, text_effect_cls_tag = tuple(filter(lambda x: x, m.groups()))\n",
        "        print(full_match)\n",
        "        res = {}\n",
        "        start_pos_outside_markup = m.start()\n",
        "        end_pos_outside_markup = m.end() - 1 # decrement by 1 to match the end position in the string\n",
        "        start_pos_inner_text = start_pos_outside_markup + len(text_effect_ope_tag)\n",
        "        ope_tags = [text_effect_ope_tag]\n",
        "        if parent_key:\n",
        "          res = text_effect_para_dict.pop(parent_key)\n",
        "          full_match = res['full_match']\n",
        "          start_pos_outside_markup = res['start_pos_outside_markup']\n",
        "          end_pos_outside_markup = res['end_pos_outside_markup']\n",
        "          start_pos_inner_text = res['start_pos_inner_text'] + start_pos_inner_text\n",
        "          ope_tags = res['ope_tags'] + ope_tags\n",
        "\n",
        "        res['start_pos_outside_markup'] = start_pos_outside_markup\n",
        "        res['end_pos_outside_markup'] = end_pos_outside_markup\n",
        "        res['start_pos_inner_text'] = start_pos_inner_text\n",
        "        res['end_pos_inner_text'] = res['start_pos_inner_text'] + len(inner_text) - 1\n",
        "        res['inner_text'] = inner_text\n",
        "        res['ope_tags'] = ope_tags\n",
        "        res['full_match'] = full_match\n",
        "        text_effect_para_dict[start_pos_outside_markup] = res\n",
        "        detect_effects_recursive(inner_text, parent_key = start_pos_outside_markup)\n",
        "      except Exception as e:\n",
        "        print(e)\n",
        "  detect_effects_recursive(text)\n",
        "  return text_effect_para_dict\n"
      ],
      "metadata": {
        "id": "GDJowiiYmqob"
      },
      "execution_count": 116,
      "outputs": []
    },
    {
      "cell_type": "code",
      "source": [
        "detect_jira_text_effects('{color:#ff5630}*1,310,454*{color}')"
      ],
      "metadata": {
        "colab": {
          "base_uri": "https://localhost:8080/"
        },
        "id": "ayByse1_QAa7",
        "outputId": "dff58642-32e4-46b2-d967-1ab2086e369e"
      },
      "execution_count": 117,
      "outputs": [
        {
          "output_type": "stream",
          "name": "stdout",
          "text": [
            "{color:#ff5630}*1,310,454*{color}\n",
            "*1,310,454*\n"
          ]
        },
        {
          "output_type": "execute_result",
          "data": {
            "text/plain": [
              "{0: {'start_pos_outside_markup': 0,\n",
              "  'end_pos_outside_markup': 10,\n",
              "  'start_pos_inner_text': 1,\n",
              "  'end_pos_inner_text': 9,\n",
              "  'inner_text': '1,310,454',\n",
              "  'ope_tags': ['*'],\n",
              "  'full_match': '*1,310,454*'}}"
            ]
          },
          "metadata": {},
          "execution_count": 117
        }
      ]
    },
    {
      "cell_type": "code",
      "source": [
        "def apply_jira_text_effect_to_text_in_docx(text, docx_element):\n",
        "  detected_text_effect_list = list(detect_jira_text_effects(text).values())\n",
        "  prev_end_pos = -1\n",
        "  if detected_text_effect_list:\n",
        "    for indx, item in enumerate(detected_text_effect_list):\n",
        "      # apply\n",
        "      inner_text = item['inner_text']\n",
        "      start_pos_outside_markup = item['start_pos_outside_markup']\n",
        "      end_pos_outside_markup = item['end_pos_outside_markup']\n",
        "      start_pos_inner_text = item['start_pos_inner_text']\n",
        "      end_pos_inner_text = item['end_pos_inner_text']\n",
        "      ope_tags = item['ope_tags']\n",
        "\n",
        "      leading_run_text = text[prev_end_pos + 1 : start_pos_outside_markup]\n",
        "      current_run_text = text[start_pos_inner_text : end_pos_inner_text + 1]\n",
        "      trailing_run_text = text[end_pos_outside_markup + 1:]\n",
        "\n",
        "      leading_run = docx_element.add_run(leading_run_text)\n",
        "      current_run = docx_element.add_run(current_run_text)\n",
        "\n",
        "      # apply text effects in opening tags\n",
        "      for tag in ope_tags:\n",
        "        if tag == '*':\n",
        "          current_run.bold = True\n",
        "        elif tag == '_':\n",
        "          current_run.style = 'Emphasis'\n",
        "        elif tag == '-':\n",
        "          current_run.font.strike = True\n",
        "        elif tag == '+':\n",
        "          current_run.underline = True\n",
        "        elif tag == '^':\n",
        "          current_run.font.superscript = True\n",
        "        elif tag == '~':\n",
        "          current_run.font.subscript = True\n",
        "        else:\n",
        "          color_match = re.match('\\{color:([#A-Za-z0-9]+)\\}', tag, re.IGNORECASE)\n",
        "          if color_match:\n",
        "            hex_code = color_match.groups()[0]\n",
        "            if not hex_code.startswith('#'):\n",
        "              hex_code = color_name_to_hex(hex_code)\n",
        "            if hex_code:\n",
        "              current_run.font.color.rgb = RGBColor.from_string(hex_code.strip('#'))\n",
        "\n",
        "      # handle what happens if we have gotten to the last chunk of the text effect list\n",
        "      if indx == len(detected_text_effect_list) - 1:\n",
        "        docx_element.add_run(trailing_run_text)\n",
        "\n",
        "      prev_end_pos = end_pos_outside_markup\n",
        "  else:\n",
        "    docx_element.add_run(text)"
      ],
      "metadata": {
        "id": "BjkhFqSjLjiF"
      },
      "execution_count": 92,
      "outputs": []
    },
    {
      "cell_type": "code",
      "source": [
        "# from docx.shared import RGBColor\n",
        "# document = Document()\n",
        "# run = document.add_paragraph().add_run('some text')\n",
        "# font = run.font\n",
        "# font.color.rgb = RGBColor(0x42, 0x24, 0xE9)\n",
        "# p=document.add_paragraph('aaa')\n"
      ],
      "metadata": {
        "id": "jwviEvY-06UG"
      },
      "execution_count": 93,
      "outputs": []
    },
    {
      "cell_type": "code",
      "source": [],
      "metadata": {
        "id": "xgzIShBBrySe"
      },
      "execution_count": 93,
      "outputs": []
    },
    {
      "cell_type": "code",
      "source": [
        "# Initialize a new Document\n",
        "doc = Document()"
      ],
      "metadata": {
        "id": "wZYUa41R06W-"
      },
      "execution_count": 94,
      "outputs": []
    },
    {
      "cell_type": "code",
      "source": [
        "for block in get_jira_blocks(sample_jira_text):\n",
        "    write_jira_block_to_doc(block, doc)"
      ],
      "metadata": {
        "id": "w0K3D5QCIdGZ"
      },
      "execution_count": 95,
      "outputs": []
    },
    {
      "cell_type": "code",
      "source": [
        "doc.save('output.docx')"
      ],
      "metadata": {
        "id": "Z2z7NoYG06M0"
      },
      "execution_count": 96,
      "outputs": []
    },
    {
      "cell_type": "code",
      "source": [],
      "metadata": {
        "id": "Y7VEkCsYLjfF"
      },
      "execution_count": 87,
      "outputs": []
    },
    {
      "cell_type": "code",
      "source": [],
      "metadata": {
        "id": "iMjPCiNXPTZU"
      },
      "execution_count": 88,
      "outputs": []
    },
    {
      "cell_type": "code",
      "source": [],
      "metadata": {
        "id": "FZ_A2J8RPTQs"
      },
      "execution_count": null,
      "outputs": []
    },
    {
      "cell_type": "code",
      "source": [
        "#--- Testing"
      ],
      "metadata": {
        "id": "hKrmFsQ1Ljb8"
      },
      "execution_count": null,
      "outputs": []
    },
    {
      "cell_type": "code",
      "source": [
        "doc = Document()\n",
        "para = doc.add_paragraph()\n",
        "test_block = '''Carried out an {color:#ff5630}analysis to {color}{color:#fff0b3}. identify{color}{color:#ff5630} customers who{color} carried out POS/WEB (card) transactions during the period of +^*-_cash scarcity but subsequently_-*^+ stopped transacting on this *channel and map out the* *_transactional_* *behaviour* of _these_ *_customers_* _prior to and during_ cash scarcity.'''\n",
        "# detect_jira_text_effects(test_block)"
      ],
      "metadata": {
        "id": "i3K_eEenmqlf"
      },
      "execution_count": null,
      "outputs": []
    },
    {
      "cell_type": "code",
      "source": [
        "test_block = '''Carried out an {color:#ff5630}analysis to {color}{color:#fff0b3}. identify{color}{color:#ff5630} customers who{color} carried out POS/WEB (card) transactions during the period of +^*-_cash scarcity but subsequently_-*^+ stopped transacting on this *channel and map out the* *_transactional_* *behaviour* of _these_ *_customers_* _prior to and during_ cash scarcity.'''\n",
        "test_block = '''nothing'''\n",
        "detected_text_effect_list = list(detect_jira_text_effects(test_block).values())\n",
        "prev_end_pos = -1\n",
        "if detected_text_effect_list:\n",
        "  for indx, item in enumerate(detected_text_effect_list):\n",
        "    # apply\n",
        "    inner_text = item['inner_text']\n",
        "    start_pos_outside_markup = item['start_pos_outside_markup']\n",
        "    end_pos_outside_markup = item['end_pos_outside_markup']\n",
        "    start_pos_inner_text = item['start_pos_inner_text']\n",
        "    end_pos_inner_text = item['end_pos_inner_text']\n",
        "    ope_tags = item['ope_tags']\n",
        "\n",
        "    leading_run_text = test_block[prev_end_pos + 1 : start_pos_outside_markup]\n",
        "    current_run_text = test_block[start_pos_inner_text : end_pos_inner_text + 1]\n",
        "    trailing_run_text = test_block[end_pos_outside_markup + 1:]\n",
        "    leading_run = para.add_run(leading_run_text)\n",
        "    current_run = para.add_run(current_run_text)\n",
        "\n",
        "    # apply text effects in opening tags\n",
        "    if '*' in ope_tags:\n",
        "      current_run.bold = True\n",
        "    if '_' in ope_tags:\n",
        "      current_run.style = 'Emphasis'\n",
        "\n",
        "    if indx == len(detected_text_effect_list) - 1:\n",
        "      para.add_run(trailing_run_text)\n",
        "\n",
        "    prev_end_pos = end_pos_outside_markup\n",
        "else:\n",
        "  para.add_run(test_block)"
      ],
      "metadata": {
        "id": "pc5Br39R06Ke"
      },
      "execution_count": null,
      "outputs": []
    },
    {
      "cell_type": "code",
      "source": [
        "doc.save('output.docx')"
      ],
      "metadata": {
        "id": "kgpGUPOl06IJ"
      },
      "execution_count": null,
      "outputs": []
    },
    {
      "cell_type": "code",
      "source": [],
      "metadata": {
        "id": "PqnbUKJKpeqX"
      },
      "execution_count": null,
      "outputs": []
    },
    {
      "cell_type": "code",
      "source": [],
      "metadata": {
        "id": "nzFfsRL2L1wf"
      },
      "execution_count": null,
      "outputs": []
    },
    {
      "cell_type": "code",
      "source": [],
      "metadata": {
        "id": "_SyGEYSWIHgH"
      },
      "execution_count": null,
      "outputs": []
    },
    {
      "cell_type": "code",
      "source": [],
      "metadata": {
        "id": "giOjdbqNIHdv"
      },
      "execution_count": null,
      "outputs": []
    },
    {
      "cell_type": "code",
      "source": [],
      "metadata": {
        "id": "-6QqipvLIHa3"
      },
      "execution_count": null,
      "outputs": []
    },
    {
      "cell_type": "code",
      "source": [
        "# ---- testing regex\n",
        "\n",
        "test_block = '''C*ar*ried out an {color:#ff5630}analysis to {color}{color:#fff0b3}. identify{color}{color:#ff5630} customers who{color} carried out POS/WEB (card) transactions during the period of +^*-_cash scarcity but subsequently_-*^+ stopped transacting on this *channel and map out the* *_transactional_* *behaviour* of _these_ *_customers_* _prior to and during_ cash scarcity.'''\n",
        "\n",
        "pattern_strong_effect = '([*_-]+)(\\S[^*_-]*\\S)([*_-]+)'\n",
        "# pattern_italics_effect = '(\\_)(\\S[^_]*\\S)(\\_)'\n",
        "# pattern_color_effect = '(\\{color:[A-Za-z]*\\})(.?*)(\\{color\\})'\n",
        "pattern_color_effect = '(\\{color:[#A-Za-z0-9]+\\})(.*?)(\\{color\\})'\n",
        "pattern_text_effect = re.compile(f'{pattern_strong_effect}|{pattern_color_effect}', re.IGNORECASE | re.DOTALL)\n",
        "# pattern_text_effect = re.compile(f'{pattern_color_effect}', re.IGNORECASE | re.DOTALL)\n",
        "for m in pattern_text_effect.finditer(test_block):\n",
        "    print(m.start(), '\\t', m.groups(), '\\t', m.end(), '\\t') # test_block[m.start()])\n",
        "    # print(list(filter(lambda x: x, m.groups())))"
      ],
      "metadata": {
        "colab": {
          "base_uri": "https://localhost:8080/"
        },
        "id": "xivf4evEpenf",
        "outputId": "85d97489-6841-46af-9b36-4369280d5dde"
      },
      "execution_count": null,
      "outputs": [
        {
          "output_type": "stream",
          "name": "stdout",
          "text": [
            "1 \t ('*', 'ar', '*', None, None, None) \t 5 \t\n",
            "17 \t (None, None, None, '{color:#ff5630}', 'analysis to ', '{color}') \t 51 \t\n",
            "51 \t (None, None, None, '{color:#fff0b3}', '. identify', '{color}') \t 83 \t\n",
            "83 \t (None, None, None, '{color:#ff5630}', ' customers who', '{color}') \t 119 \t\n",
            "183 \t ('*-_', 'cash scarcity but subsequently_', '-*', None, None, None) \t 219 \t\n",
            "250 \t ('*', 'channel and map out the', '*', None, None, None) \t 275 \t\n",
            "276 \t ('*_', 'transactional_', '*', None, None, None) \t 293 \t\n",
            "294 \t ('*', 'behaviour', '*', None, None, None) \t 305 \t\n",
            "309 \t ('_', 'these', '_', None, None, None) \t 316 \t\n",
            "317 \t ('*_', 'customers_', '*', None, None, None) \t 330 \t\n",
            "331 \t ('_', 'prior to and during', '_', None, None, None) \t 352 \t\n"
          ]
        }
      ]
    },
    {
      "cell_type": "code",
      "source": [
        "import webcolors\n",
        "\n",
        "def color_name_to_hex(color_name):\n",
        "    try:\n",
        "        # Get the RGB values for the given color name\n",
        "        rgb = webcolors.name_to_rgb(color_name)\n",
        "        # Convert the RGB values to a hex code\n",
        "        hex_code = '#{:02x}{:02x}{:02x}'.format(rgb.red, rgb.green, rgb.blue)\n",
        "        return hex_code\n",
        "    except ValueError:\n",
        "        # Handle the case when an invalid color name is provided\n",
        "        print(\"Invalid color name.\")\n",
        "        return None\n",
        "\n",
        "# Example usage\n",
        "color_name = \"purple\"\n",
        "hex_code = color_name_to_hex(color_name)\n",
        "if hex_code:\n",
        "    print(hex_code)\n"
      ],
      "metadata": {
        "id": "WrEB_dj-Lw-t",
        "colab": {
          "base_uri": "https://localhost:8080/"
        },
        "outputId": "87e84471-3ddf-41c3-e6c3-ea7fde570017"
      },
      "execution_count": 62,
      "outputs": [
        {
          "output_type": "stream",
          "name": "stdout",
          "text": [
            "#800080\n"
          ]
        }
      ]
    },
    {
      "cell_type": "code",
      "source": [],
      "metadata": {
        "id": "EX8HFABiLw71"
      },
      "execution_count": null,
      "outputs": []
    }
  ]
}