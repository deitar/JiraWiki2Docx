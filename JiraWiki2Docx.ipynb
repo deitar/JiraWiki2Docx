{
  "nbformat": 4,
  "nbformat_minor": 0,
  "metadata": {
    "colab": {
      "provenance": [],
      "authorship_tag": "ABX9TyPXPROkWCaj2Dt6ZsOqVwPW",
      "include_colab_link": true
    },
    "kernelspec": {
      "name": "python3",
      "display_name": "Python 3"
    },
    "language_info": {
      "name": "python"
    }
  },
  "cells": [
    {
      "cell_type": "markdown",
      "metadata": {
        "id": "view-in-github",
        "colab_type": "text"
      },
      "source": [
        "<a href=\"https://colab.research.google.com/github/deitar/JiraWiki2Docx/blob/main/JiraWiki2Docx.ipynb\" target=\"_parent\"><img src=\"https://colab.research.google.com/assets/colab-badge.svg\" alt=\"Open In Colab\"/></a>"
      ]
    },
    {
      "cell_type": "code",
      "execution_count": null,
      "metadata": {
        "id": "Mw-x5WT-J3JZ"
      },
      "outputs": [],
      "source": []
    },
    {
      "cell_type": "code",
      "source": [
        "!pip install xmltodict\n",
        "!pip install htmldocx\n",
        "!pip install python-docx"
      ],
      "metadata": {
        "colab": {
          "base_uri": "https://localhost:8080/"
        },
        "id": "S8ShXVHTJ_gE",
        "outputId": "4aea9014-023e-4180-89f0-52a376c5824e"
      },
      "execution_count": 4,
      "outputs": [
        {
          "output_type": "stream",
          "name": "stdout",
          "text": [
            "Collecting xmltodict\n",
            "  Downloading xmltodict-0.13.0-py2.py3-none-any.whl (10.0 kB)\n",
            "Installing collected packages: xmltodict\n",
            "Successfully installed xmltodict-0.13.0\n",
            "Collecting htmldocx\n",
            "  Downloading htmldocx-0.0.6-py3-none-any.whl (9.5 kB)\n",
            "Collecting python-docx>=0.8.10 (from htmldocx)\n",
            "  Downloading python-docx-0.8.11.tar.gz (5.6 MB)\n",
            "\u001b[2K     \u001b[90m━━━━━━━━━━━━━━━━━━━━━━━━━━━━━━━━━━━━━━━━\u001b[0m \u001b[32m5.6/5.6 MB\u001b[0m \u001b[31m46.5 MB/s\u001b[0m eta \u001b[36m0:00:00\u001b[0m\n",
            "\u001b[?25h  Preparing metadata (setup.py) ... \u001b[?25l\u001b[?25hdone\n",
            "Requirement already satisfied: beautifulsoup4>=4.7.0 in /usr/local/lib/python3.10/dist-packages (from htmldocx) (4.11.2)\n",
            "Requirement already satisfied: soupsieve>1.2 in /usr/local/lib/python3.10/dist-packages (from beautifulsoup4>=4.7.0->htmldocx) (2.4.1)\n",
            "Requirement already satisfied: lxml>=2.3.2 in /usr/local/lib/python3.10/dist-packages (from python-docx>=0.8.10->htmldocx) (4.9.2)\n",
            "Building wheels for collected packages: python-docx\n",
            "  Building wheel for python-docx (setup.py) ... \u001b[?25l\u001b[?25hdone\n",
            "  Created wheel for python-docx: filename=python_docx-0.8.11-py3-none-any.whl size=184491 sha256=d15265af30fbcefd5cbedaf24d69ccdd2c965588b9d06189795117fea64d7b0b\n",
            "  Stored in directory: /root/.cache/pip/wheels/80/27/06/837436d4c3bd989b957a91679966f207bfd71d358d63a8194d\n",
            "Successfully built python-docx\n",
            "Installing collected packages: python-docx, htmldocx\n",
            "Successfully installed htmldocx-0.0.6 python-docx-0.8.11\n",
            "Requirement already satisfied: python-docx in /usr/local/lib/python3.10/dist-packages (0.8.11)\n",
            "Requirement already satisfied: lxml>=2.3.2 in /usr/local/lib/python3.10/dist-packages (from python-docx) (4.9.2)\n"
          ]
        }
      ]
    },
    {
      "cell_type": "code",
      "source": [
        "import os\n",
        "import re\n",
        "import html\n",
        "import json\n",
        "import xmltodict\n",
        "import requests\n",
        "from datetime import datetime\n",
        "from requests.auth import HTTPBasicAuth\n",
        "from docx import Document\n",
        "from htmldocx import HtmlToDocx\n",
        "from docx.shared import Inches\n",
        "from docx.enum.table import WD_TABLE_ALIGNMENT, WD_ALIGN_VERTICAL\n",
        "from docx.shared import Inches, RGBColor, Pt, Cm\n",
        "from docx.enum.text import WD_LINE_SPACING\n",
        "from docx import Document\n",
        "from docx.oxml.ns import nsdecls\n",
        "from docx.oxml import parse_xml\n",
        "from itertools import groupby\n",
        "from datetime import datetime\n",
        "import numpy as np\n",
        "import pandas as pd\n",
        "from enum import Enum"
      ],
      "metadata": {
        "id": "Gee-awAnJ_iq"
      },
      "execution_count": 5,
      "outputs": []
    },
    {
      "cell_type": "code",
      "source": [
        "sample_jira_text = '''h2. Carried out an {color:#ff5630}analysis to {color}{color:#fff0b3}identify{color}{color:#ff5630} customers who{color} carried out POS/WEB (card) transactions during the period of +^*-_cash scarcity but subsequently_-*^+ stopped transacting on this *channel and map out the* *_transactional_* *behaviour* of _these_ *_customers_* _prior to and during_ cash scarcity.\n",
        "\n",
        "*Definition of Terms*\n",
        "\n",
        "* Cash scarcity period: November 2022 to March 2023 (150 days)\n",
        "** 6 months prior to cash scarcity: May 2022 to October 2022 (180 days)\n",
        "* Period after cash scarcity: April 2023 to May 2023 (60 days)\n",
        "**** Period after cash scarcity: April 2023 to May 2023 (60 days)\n",
        "\n",
        "# test number 1\n",
        "#* test number 11\n",
        "#* test number 11\n",
        "# test number 2\n",
        "## test number 2\n",
        "\n",
        "*Key Highlights:*\n",
        "\n",
        "* Customers transactional behaviour before, during and after cash scarcity\n",
        "\n",
        "||Period||Transacted before, during {color:#ff5630}AND {color}after cash scarcity||Transacted during cash scarcity {color:#ff5630}BUT {color}stopped after cash scarcity||{color:#ff5630}STARTED {color}transacting during cash scarcity {color:#ff5630}AND {color}continued afterwards||\n",
        "|Distinct Card Holders|10,674,893|{color:#ff5630}*310,454*{color}|1,002,235|\n",
        "\n",
        "||* go\n",
        "* be||\n",
        "| |\n",
        "| |\n",
        "\n",
        "\n",
        "* *1.6 million (66%)* of the customers who completed card transactions during the cash scarcity period also carried out transactions prior to and after the cash scarcity period.\n",
        "* *13% (1 million)* of the customers who carried out POS/WEB transactions during cash scarcity stopped card transactions at the end of the cash scarcity period\n",
        "* Customers with POS/WEB transactions during cash scarcity but not after cash scarcity\n",
        "\n",
        "||Period||Transacted prior to AND during cash scarcity BUT subsequently stopped||Transacted only during cash scarcity, NOT before or after cash scarcity||% of customers who transacted only during cash scarcity||\n",
        "|Distinct Card Holders|{color:#36b37e}30,063 {color}|{color:#ff991f}20,391{color}|{color:#ff991f}41%{color}|\n",
        "\n",
        "* *29% (3.03 of 11 million)* of these customers also carried out POS/WEB transactions in the 6 months prior to cash scarcity which means that they regularly transacted using their cards regardless of cash scarcity.-'''\n"
      ],
      "metadata": {
        "id": "czrCjoaoJ_lR"
      },
      "execution_count": 6,
      "outputs": []
    },
    {
      "cell_type": "code",
      "source": [],
      "metadata": {
        "id": "y0rybD7i3pcU"
      },
      "execution_count": 4,
      "outputs": []
    },
    {
      "cell_type": "code",
      "source": [
        "class JiraWikiBlockTypes(Enum):\n",
        "    LIST = 'list'\n",
        "    HEADING = 'heading'\n",
        "    TABLE = 'table'\n",
        "    CODE = 'code'\n",
        "    QUOTE = 'quote'\n",
        "    PARAGRAPH = 'paragraph'"
      ],
      "metadata": {
        "id": "gkN5DsNIGzkn"
      },
      "execution_count": 5,
      "outputs": []
    },
    {
      "cell_type": "code",
      "source": [
        "def detect_jira_block_type(jira_block):\n",
        "    jira_block_trimmed = jira_block.strip()\n",
        "    marker_heading = r'^h([1-6])\\..*$'\n",
        "    # marker_list = '^([\\*|\\-|\\#]+)\\s(.*)'\n",
        "    marker_list = '^[*#-]+\\s.*$'\n",
        "    marker_table = '^[||]+.*$'\n",
        "    if re.match(marker_heading, jira_block_trimmed, re.DOTALL):\n",
        "        return JiraWikiBlockTypes.HEADING\n",
        "    if re.match(marker_list, jira_block_trimmed, re.DOTALL):\n",
        "        return JiraWikiBlockTypes.LIST\n",
        "    if re.match(marker_table, jira_block_trimmed, re.DOTALL):\n",
        "        return JiraWikiBlockTypes.TABLE\n",
        "    return JiraWikiBlockTypes.PARAGRAPH"
      ],
      "metadata": {
        "id": "O_u2NSQCJe6K"
      },
      "execution_count": 6,
      "outputs": []
    },
    {
      "cell_type": "code",
      "source": [
        "def get_jira_blocks(jira_text):\n",
        "    return re.split('\\n\\n', jira_text)"
      ],
      "metadata": {
        "id": "3JrDwIe4IjYS"
      },
      "execution_count": 7,
      "outputs": []
    },
    {
      "cell_type": "code",
      "source": [
        "def write_heading_jira_to_doc(text, doc_part_to_write_to):\n",
        "    pattern_heading = r'^h([1-6])\\.(.*)'\n",
        "    heading_match = re.match(pattern_heading, text)\n",
        "    heading_number, heading_text = heading_match.groups()\n",
        "    para = doc_part_to_write_to.add_paragraph()\n",
        "    para.style = f'Heading {heading_number}'\n",
        "    para.add_run(text=heading_text)"
      ],
      "metadata": {
        "id": "ML2wArPvKMgl"
      },
      "execution_count": 8,
      "outputs": []
    },
    {
      "cell_type": "code",
      "source": [
        "def write_list_jira_to_doc(text, doc_part_to_write_to):\n",
        "    pattern_list_item = r'^([\\*|\\-|\\#]+)\\s{1}(.*)'\n",
        "    # split block into lines\n",
        "    lines = re.split('\\n', text)\n",
        "    for line in lines:\n",
        "        list_type, list_text = re.match(pattern_list_item, line).groups()\n",
        "        # issue 1: couldn't resolve the round and square bullets differently\n",
        "        # issue 2: find a way of decorating nested lists with different point styles\n",
        "        # issue 3: sublevel list have unwanted top space to their parent list\n",
        "        max_list_level = 3\n",
        "        style_name = \"List Number\" if list_type[:max_list_level][-1] == '#' else 'List Bullet'\n",
        "        style_name = f'{style_name} {str(min(len(list_type), max_list_level)) if len(list_type) > 1 else \"\"}'.strip()\n",
        "        para = doc_part_to_write_to.add_paragraph()\n",
        "        para.style = style_name\n",
        "        para.add_run(text = list_text)"
      ],
      "metadata": {
        "id": "gS67XK30LGAk"
      },
      "execution_count": 9,
      "outputs": []
    },
    {
      "cell_type": "code",
      "source": [
        "def write_generic_jira_to_doc(text, doc_part_to_write_to):\n",
        "    para = doc_part_to_write_to.add_paragraph()\n",
        "    para.add_run(text = text)"
      ],
      "metadata": {
        "id": "rgZRzxI8Lov6"
      },
      "execution_count": 10,
      "outputs": []
    },
    {
      "cell_type": "code",
      "source": [
        "def write_jira_block_to_doc(jira_block):\n",
        "\n",
        "    # handle leading new lines\n",
        "    new_lines, actual_jira_block = re.match('(\\n*)(.*)', jira_block, re.DOTALL).groups()\n",
        "    num_new_lines = new_lines.count('\\n')\n",
        "\n",
        "    # add new lines by occurence\n",
        "    for i in range(num_new_lines):\n",
        "        para = doc.add_paragraph()\n",
        "        para.add_run()\n",
        "\n",
        "    # 1. heading\n",
        "    if detect_jira_block_type(actual_jira_block) == JiraWikiBlockTypes.HEADING:\n",
        "        write_heading_jira_to_doc(actual_jira_block, doc)\n",
        "    # 2. list\n",
        "    elif detect_jira_block_type(actual_jira_block) == JiraWikiBlockTypes.LIST:\n",
        "        write_list_jira_to_doc(actual_jira_block, doc)\n",
        "    # 3. table\n",
        "    elif detect_jira_block_type(actual_jira_block) == JiraWikiBlockTypes.TABLE:\n",
        "        write_generic_jira_to_doc(actual_jira_block, doc)\n",
        "\n",
        "    # any other\n",
        "    else:\n",
        "        write_generic_jira_to_doc(actual_jira_block, doc)\n",
        "\n",
        "        # handle text effects\n",
        "\n"
      ],
      "metadata": {
        "id": "sYkOYtjW0rHs"
      },
      "execution_count": 11,
      "outputs": []
    },
    {
      "cell_type": "code",
      "source": [
        "# Initialize a new Document\n",
        "doc = Document()"
      ],
      "metadata": {
        "id": "wZYUa41R06W-"
      },
      "execution_count": 11,
      "outputs": []
    },
    {
      "cell_type": "code",
      "source": [
        "for block in get_jira_blocks(sample_jira_text):\n",
        "    print(repr(block))\n",
        "    write_jira_block_to_doc(block)"
      ],
      "metadata": {
        "colab": {
          "base_uri": "https://localhost:8080/"
        },
        "id": "w0K3D5QCIdGZ",
        "outputId": "2917ac8f-2049-4c1c-d302-ad2afabbca7b"
      },
      "execution_count": 12,
      "outputs": [
        {
          "output_type": "stream",
          "name": "stdout",
          "text": [
            "'h2. -Carried- out an +analysis+ to _identify_ {{customers}} who carried out POS/WEB (card) transactions during the period of cash scarcity but subsequently stopped transacting on this channel and map out the transactional behaviour of these customers prior to and during cash scarcity.'\n",
            "'*Definition of Terms*'\n",
            "'* Cash scarcity period: November 2022 to March 2023 (150 days)\\n** 6 months prior to cash scarcity: May 2022 to October 2022 (180 days)\\n* Period after cash scarcity: April 2023 to May 2023 (60 days)\\n**** Period after cash scarcity: April 2023 to May 2023 (60 days)'\n",
            "'# test number 1\\n#* test number 11\\n#* test number 11\\n# test number 2\\n## test number 2'\n",
            "'*Key Highlights:*'\n",
            "'* Customers transactional behaviour before, during and after cash scarcity'\n",
            "'||Period||Transacted before, during {color:#ff5630}AND {color}after cash scarcity||Transacted during cash scarcity {color:#ff5630}BUT {color}stopped after cash scarcity||{color:#ff5630}STARTED {color}transacting during cash scarcity {color:#ff5630}AND {color}continued afterwards||\\n|Distinct Card Holders|3,674,893|{color:#ff5630}*1,310,454*{color}|602,235|'\n",
            "'||* go\\n* be||\\n| |\\n| |'\n",
            "'\\n* *3.6 million (66%)* of the customers who completed card transactions during the cash scarcity period also carried out transactions prior to and after the cash scarcity period.\\n* *23% (1.31 million)* of the customers who carried out POS/WEB transactions during cash scarcity stopped card transactions at the end of the cash scarcity period\\n* Customers with POS/WEB transactions during cash scarcity but not after cash scarcity'\n",
            "'||Period||Transacted prior to AND during cash scarcity BUT subsequently stopped||Transacted only during cash scarcity, NOT before or after cash scarcity||% of customers who transacted only during cash scarcity||\\n|Distinct Card Holders|{color:#36b37e}1,030,063 {color}|{color:#ff991f}280,391{color}|{color:#ff991f}21%{color}|'\n",
            "'* *79% (1.03 of 1.31 million)* of these customers also carried out POS/WEB transactions in the 6 months prior to cash scarcity which means that they regularly transacted using their cards regardless of cash scarcity.-'\n"
          ]
        }
      ]
    },
    {
      "cell_type": "code",
      "source": [
        "doc.save('output.docx')"
      ],
      "metadata": {
        "id": "Z2z7NoYG06M0"
      },
      "execution_count": 13,
      "outputs": []
    },
    {
      "cell_type": "code",
      "source": [],
      "metadata": {
        "id": "jwviEvY-06UG"
      },
      "execution_count": 28,
      "outputs": []
    },
    {
      "cell_type": "code",
      "source": [
        "\n",
        "test_block = '''Carried out an {color:#ff5630}analysis to {color}{color:#fff0b3}. identify{color}{color:#ff5630} customers who{color} carried out POS/WEB (card) transactions during the period of +^*-_cash scarcity but subsequently_-*^+ stopped transacting on this *channel and map out the* *_transactional_* *behaviour* of _these_ *_customers_* _prior to and during_ cash scarcity.'''\n",
        "\n",
        "pattern_strong_effect = '(\\*)(\\S[^*]*\\S)(\\*)'\n",
        "pattern_italics_effect = '(\\_)(\\S[^_]*\\S)(\\_)'\n",
        "# pattern_color_effect = '(\\{color:[A-Za-z]*\\})(.?*)(\\{color\\})'\n",
        "pattern_color_effect = '(\\{color:[#A-Za-z0-9]+\\})(.*?)(\\{color\\})'\n",
        "pattern_text_effect = re.compile(f'{pattern_strong_effect}|{pattern_italics_effect}|{pattern_color_effect}', re.IGNORECASE | re.DOTALL)\n",
        "# pattern_text_effect = re.compile(f'{pattern_color_effect}', re.IGNORECASE | re.DOTALL)\n",
        "for m in pattern_text_effect.finditer(test_block):\n",
        "    # print(m.start(), '\\t', m.groups(), '\\t', m.end(), '\\t') # test_block[m.start()])\n",
        "    print(list(filter(lambda x: x, m.groups())))"
      ],
      "metadata": {
        "colab": {
          "base_uri": "https://localhost:8080/"
        },
        "id": "rCxLwC0u06Pb",
        "outputId": "503cc099-780f-4810-d79a-cd31af844a16"
      },
      "execution_count": 20,
      "outputs": [
        {
          "output_type": "stream",
          "name": "stdout",
          "text": [
            "['{color:#ff5630}', 'analysis to ', '{color}']\n",
            "['{color:#fff0b3}', '. identify', '{color}']\n",
            "['{color:#ff5630}', ' customers who', '{color}']\n",
            "['*', '-_cash scarcity but subsequently_-', '*']\n",
            "['*', 'channel and map out the', '*']\n",
            "['*', '_transactional_', '*']\n",
            "['*', 'behaviour', '*']\n",
            "['_', 'these', '_']\n",
            "['*', '_customers_', '*']\n",
            "['_', 'prior to and during', '_']\n"
          ]
        }
      ]
    },
    {
      "cell_type": "code",
      "source": [
        "\n",
        "test_block = '''Carried out an {color:#ff5630}analysis to {color}{color:#fff0b3}. identify{color}{color:#ff5630} customers who{color} carried out POS/WEB (card) transactions during the period of +^*-_cash scarcity but subsequently_-*^+ stopped transacting on this *channel and map out the* *_transactional_* *behaviour* of _these_ *_customers_* _prior to and during_ cash scarcity.'''\n",
        "\n",
        "pattern_strong_effect = '([*_-]+)(\\S[^*_-]*\\S)([*_-]+)'\n",
        "# pattern_italics_effect = '(\\_)(\\S[^_]*\\S)(\\_)'\n",
        "# pattern_color_effect = '(\\{color:[A-Za-z]*\\})(.?*)(\\{color\\})'\n",
        "pattern_color_effect = '(\\{color:[#A-Za-z0-9]+\\})(.*?)(\\{color\\})'\n",
        "pattern_text_effect = re.compile(f'{pattern_strong_effect}|{pattern_color_effect}', re.IGNORECASE | re.DOTALL)\n",
        "# pattern_text_effect = re.compile(f'{pattern_color_effect}', re.IGNORECASE | re.DOTALL)\n",
        "for m in pattern_text_effect.finditer(test_block):\n",
        "    # print(m.start(), '\\t', m.groups(), '\\t', m.end(), '\\t') # test_block[m.start()])\n",
        "    print(list(filter(lambda x: x, m.groups())))"
      ],
      "metadata": {
        "colab": {
          "base_uri": "https://localhost:8080/"
        },
        "id": "UlsJTF7ZtAM5",
        "outputId": "711a2d11-fe29-4ad0-fa1a-2a38bc1d1ac8"
      },
      "execution_count": 37,
      "outputs": [
        {
          "output_type": "stream",
          "name": "stdout",
          "text": [
            "['{color:#ff5630}', 'analysis to ', '{color}']\n",
            "['{color:#fff0b3}', '. identify', '{color}']\n",
            "['{color:#ff5630}', ' customers who', '{color}']\n",
            "['*-_', 'cash scarcity but subsequently_', '-*']\n",
            "['*', 'channel and map out the', '*']\n",
            "['*_', 'transactional_', '*']\n",
            "['*', 'behaviour', '*']\n",
            "['_', 'these', '_']\n",
            "['*_', 'customers_', '*']\n",
            "['_', 'prior to and during', '_']\n"
          ]
        }
      ]
    },
    {
      "cell_type": "code",
      "source": [
        "# only bold, italics, deleted should be followed with no space\n",
        "# color can be without space"
      ],
      "metadata": {
        "id": "9GAeLfD7lbAA"
      },
      "execution_count": null,
      "outputs": []
    },
    {
      "cell_type": "code",
      "source": [],
      "metadata": {
        "id": "xgzIShBBrySe"
      },
      "execution_count": 53,
      "outputs": []
    },
    {
      "cell_type": "code",
      "source": [
        "# test_block = '_3.6_ *mil_lion_ (66%)* of the to *and* after _the_ cash scarcity period.\\n'\n",
        "test_block = '''Carried out an {color:#ff5630}analysis to {color}{color:#fff0b3}. identify{color}{color:#ff5630} customers who{color} carried out POS/WEB (card) transactions during the period of +^*-_cash scarcity but subsequently_-*^+ stopped transacting on this *channel and map out the* *_transactional_* *behaviour* of _these_ *_customers_* _prior to and during_ cash scarcity.'''\n",
        "\n",
        "def detect_jira_text_effects(text, parent_key = None):\n",
        "  \"\"\"\n",
        "  Detects Jira text effects within the given input text and returns a dictionary\n",
        "  containing information about each detected effect.\n",
        "\n",
        "  Args:\n",
        "      text (str): The input text to be analyzed for Jira text effects.\n",
        "      parent_key (int or None): The parent key if called recursively (default: None).\n",
        "\n",
        "  Returns:\n",
        "      dict: A dictionary containing information about detected text effects.\n",
        "            The keys are the start positions of each effect in the input text,\n",
        "            and the values are dictionaries with the following structure:\n",
        "            {\n",
        "                'start_pos': int,     # Start position of the effect in the input text.\n",
        "                'end_pos': int,       # End position of the effect in the input text.\n",
        "                'inner_text': str,    # The text within the effect tags.\n",
        "                'ope_tags': list[str] # List of Jira opening tags applied to the effect.\n",
        "            }\n",
        "  \"\"\"\n",
        "  text_effect_para_dict = {} # Dictionary to store detected text effects\n",
        "\n",
        "  def detect_effects_recursive(text, parent_key=None):\n",
        "    \"\"\"\n",
        "    Recursively detects Jira text effects within the given input text.\n",
        "\n",
        "    Args:\n",
        "        text (str): The input text to be analyzed for Jira text effects.\n",
        "        parent_key (int or None): The parent key if called recursively (default: None).\n",
        "\n",
        "    Returns:\n",
        "        None\n",
        "    \"\"\"\n",
        "    # Regular expressions for detecting various Jira text effects\n",
        "\n",
        "    # Strong effect: Text enclosed in asterisks (*) with no space after the start or before the end.\n",
        "    pattern_strong_effect = '((\\*)(\\S[^*]*\\S)(\\*))'\n",
        "\n",
        "    # Italics effect: Text enclosed in underscores (_) with no space after the start or before the end.\n",
        "    pattern_italics_effect = '((\\_)(\\S[^_]*\\S)(\\_))'\n",
        "\n",
        "    # Deleted effect: Text enclosed in hyphens (-) with no space after the start or before the end.\n",
        "    pattern_deleted_effect = '((\\-)(\\S[^-]*\\S)(\\-))'\n",
        "\n",
        "    # Inserted effect: Text enclosed in plus signs (+) with no space after the start or before the end.\n",
        "    pattern_inserted_effect = '((\\+)(\\S[^+]*\\S)(\\+))'\n",
        "\n",
        "    # Superscript effect: Text enclosed in carets (^) with no space after the start or before the end.\n",
        "    pattern_superscript_effect = '((\\^)(\\S[^\\^]*\\S)(\\^))'\n",
        "\n",
        "    # Subscript effect: Text enclosed in tildes (~) with no space after the start or before the end.\n",
        "    pattern_subscript_effect = '((\\~)(\\S[^\\~]*\\S)(\\~))'\n",
        "\n",
        "    # Color effect: Text enclosed in color tags {color} with hexadecimal color code.\n",
        "    pattern_color_effect = '((\\{color:[#A-Za-z0-9]+\\})(.*?)(\\{color\\}))'\n",
        "\n",
        "    pattern_text_effect_list = [pattern_strong_effect,\n",
        "                                pattern_italics_effect,\n",
        "                                pattern_deleted_effect,\n",
        "                                pattern_inserted_effect,\n",
        "                                pattern_superscript_effect,\n",
        "                                pattern_subscript_effect,\n",
        "                                pattern_color_effect]\n",
        "    pattern_text_effect = re.compile('|'.join(pattern_text_effect_list), re.DOTALL|re.IGNORECASE)\n",
        "    for m in pattern_text_effect.finditer(text):\n",
        "      try:\n",
        "\n",
        "        full_match, text_effect_ope_tag, inner_text, text_effect_cls_tag = tuple(filter(lambda x: x, m.groups()))\n",
        "        res = {}\n",
        "        start_pos = m.start()\n",
        "        ope_tags = [text_effect_ope_tag]\n",
        "        if parent_key:\n",
        "          res = text_effect_para_dict.pop(parent_key)\n",
        "          start_pos = res['start_pos'] + start_pos\n",
        "          ope_tags = res['ope_tags'] + ope_tags\n",
        "        end_pos = start_pos + len(inner_text)\n",
        "\n",
        "        # if there is a parent_start_pos\n",
        "        res['start_pos'] = start_pos\n",
        "        res['end_pos'] = end_pos\n",
        "        res['inner_text'] = inner_text\n",
        "        res['ope_tags'] = ope_tags\n",
        "\n",
        "        text_effect_para_dict[start_pos] = res\n",
        "        detect_effects_recursive(inner_text, parent_key = start_pos)\n",
        "      except Exception as e:\n",
        "        print(e)\n",
        "  detect_effects_recursive(text)\n",
        "  return text_effect_para_dict\n",
        "\n",
        "detect_jira_text_effects(test_block)\n"
      ],
      "metadata": {
        "colab": {
          "base_uri": "https://localhost:8080/"
        },
        "id": "GDJowiiYmqob",
        "outputId": "f5507717-b3d1-4e94-cf12-8ff503b74fce"
      },
      "execution_count": 88,
      "outputs": [
        {
          "output_type": "execute_result",
          "data": {
            "text/plain": [
              "{15: {'start_pos': 15,\n",
              "  'end_pos': 27,\n",
              "  'inner_text': 'analysis to ',\n",
              "  'ope_tags': ['{color:#ff5630}']},\n",
              " 49: {'start_pos': 49,\n",
              "  'end_pos': 59,\n",
              "  'inner_text': '. identify',\n",
              "  'ope_tags': ['{color:#fff0b3}']},\n",
              " 81: {'start_pos': 81,\n",
              "  'end_pos': 95,\n",
              "  'inner_text': ' customers who',\n",
              "  'ope_tags': ['{color:#ff5630}']},\n",
              " 179: {'start_pos': 179,\n",
              "  'end_pos': 209,\n",
              "  'inner_text': 'cash scarcity but subsequently',\n",
              "  'ope_tags': ['+', '^', '*', '-', '_']},\n",
              " 248: {'start_pos': 248,\n",
              "  'end_pos': 271,\n",
              "  'inner_text': 'channel and map out the',\n",
              "  'ope_tags': ['*']},\n",
              " 274: {'start_pos': 274,\n",
              "  'end_pos': 287,\n",
              "  'inner_text': 'transactional',\n",
              "  'ope_tags': ['*', '_']},\n",
              " 292: {'start_pos': 292,\n",
              "  'end_pos': 301,\n",
              "  'inner_text': 'behaviour',\n",
              "  'ope_tags': ['*']},\n",
              " 307: {'start_pos': 307,\n",
              "  'end_pos': 312,\n",
              "  'inner_text': 'these',\n",
              "  'ope_tags': ['_']},\n",
              " 315: {'start_pos': 315,\n",
              "  'end_pos': 324,\n",
              "  'inner_text': 'customers',\n",
              "  'ope_tags': ['*', '_']},\n",
              " 329: {'start_pos': 329,\n",
              "  'end_pos': 348,\n",
              "  'inner_text': 'prior to and during',\n",
              "  'ope_tags': ['_']}}"
            ]
          },
          "metadata": {},
          "execution_count": 88
        }
      ]
    },
    {
      "cell_type": "code",
      "source": [],
      "metadata": {
        "id": "i3K_eEenmqlf"
      },
      "execution_count": 64,
      "outputs": []
    },
    {
      "cell_type": "code",
      "source": [],
      "metadata": {
        "id": "pc5Br39R06Ke"
      },
      "execution_count": 98,
      "outputs": []
    },
    {
      "cell_type": "code",
      "source": [],
      "metadata": {
        "id": "kgpGUPOl06IJ"
      },
      "execution_count": 11,
      "outputs": []
    },
    {
      "cell_type": "code",
      "source": [],
      "metadata": {
        "id": "4SHuMCGy06F1"
      },
      "execution_count": null,
      "outputs": []
    },
    {
      "cell_type": "code",
      "source": [],
      "metadata": {
        "id": "0KhGz7oL06Dh"
      },
      "execution_count": null,
      "outputs": []
    }
  ]
}