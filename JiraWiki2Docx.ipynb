{
  "nbformat": 4,
  "nbformat_minor": 0,
  "metadata": {
    "colab": {
      "provenance": [],
      "authorship_tag": "ABX9TyNY30Wgta+drEZLin6RG/Vb",
      "include_colab_link": true
    },
    "kernelspec": {
      "name": "python3",
      "display_name": "Python 3"
    },
    "language_info": {
      "name": "python"
    }
  },
  "cells": [
    {
      "cell_type": "markdown",
      "metadata": {
        "id": "view-in-github",
        "colab_type": "text"
      },
      "source": [
        "<a href=\"https://colab.research.google.com/github/deitar/JiraWiki2Docx/blob/main/JiraWiki2Docx.ipynb\" target=\"_parent\"><img src=\"https://colab.research.google.com/assets/colab-badge.svg\" alt=\"Open In Colab\"/></a>"
      ]
    },
    {
      "cell_type": "code",
      "execution_count": null,
      "metadata": {
        "id": "Mw-x5WT-J3JZ"
      },
      "outputs": [],
      "source": []
    },
    {
      "cell_type": "code",
      "source": [
        "# !pip install xmltodict\n",
        "# !pip install htmldocx\n",
        "# !pip install python-docx"
      ],
      "metadata": {
        "id": "S8ShXVHTJ_gE"
      },
      "execution_count": 1,
      "outputs": []
    },
    {
      "cell_type": "code",
      "source": [
        "import os\n",
        "import re\n",
        "import html\n",
        "import json\n",
        "import xmltodict\n",
        "import requests\n",
        "from datetime import datetime\n",
        "from requests.auth import HTTPBasicAuth\n",
        "from docx import Document\n",
        "from htmldocx import HtmlToDocx\n",
        "from docx.shared import Inches\n",
        "from docx.enum.table import WD_TABLE_ALIGNMENT, WD_ALIGN_VERTICAL\n",
        "from docx.shared import Inches, RGBColor, Pt, Cm\n",
        "from docx.enum.text import WD_LINE_SPACING\n",
        "from docx import Document\n",
        "from docx.oxml.ns import nsdecls\n",
        "from docx.oxml import parse_xml\n",
        "from itertools import groupby\n",
        "from datetime import datetime\n",
        "import numpy as np\n",
        "import pandas as pd\n",
        "from enum import Enum"
      ],
      "metadata": {
        "id": "Gee-awAnJ_iq"
      },
      "execution_count": 2,
      "outputs": []
    },
    {
      "cell_type": "code",
      "source": [
        "sample_jira_text = '''Carried out an {color:#ff5630}analysis to {color}{color:#fff0b3}identify{color}{color:#ff5630} customers who{color} carried out POS/WEB (card) transactions during the period of +^*-_cash scarcity but subsequently_-*^+ stopped transacting on this *channel and map out the* *_transactional_* *behaviour* of _these_ *_customers_* _prior to and during_ cash scarcity.\n",
        "\n",
        "*Definition of Terms*\n",
        "\n",
        "* Cash scarcity period: November _*2022 to March 2023*_ (150 days)\n",
        "** 6 months prior to cash scarcity: May 2022 to October 2022 (180 days)\n",
        "* Period after cash scarcity: April 2023 to May 2023 (60 days)\n",
        "**** Period after cash scarcity: April 2023 to May 2023 (60 days)\n",
        "\n",
        "# test number 1\n",
        "#* test number 11\n",
        "#* test number 11\n",
        "# test number 2\n",
        "## test number 2\n",
        "\n",
        "*Key Highlights:*\n",
        "\n",
        "* Customers transactional behaviour before, during and after cash scarcity\n",
        "\n",
        "||Period||Transacted before, during {color:#ff5630}AND {color}after cash scarcity||Transacted during cash scarcity {color:#ff5630}BUT {color}stopped after cash scarcity||{color:#ff5630}STARTED {color}transacting during cash scarcity {color:#ff5630}AND {color}continued afterwards||\n",
        "|Distinct Card Holders|10,674,893|{color:#ff5630}*310,454*{color}|1,002,235|\n",
        "\n",
        "||* go\n",
        "* be||\n",
        "| |\n",
        "| |\n",
        "\n",
        "\n",
        "* *1.6 million (66%)* of the customers who completed card transactions during the cash scarcity period also carried out transactions prior to and after the cash scarcity period.\n",
        "* *13% (1 million)* of the customers who carried out POS/WEB transactions during cash scarcity stopped card transactions at the end of the cash scarcity period\n",
        "* Customers with POS/WEB transactions during cash scarcity but not after cash scarcity\n",
        "\n",
        "||Period||Transacted prior to AND during cash scarcity BUT subsequently stopped||Transacted only during cash scarcity, NOT before or after cash scarcity||% of customers who transacted only during cash scarcity||\n",
        "|Distinct Card Holders|{color:#36b37e}30,063 {color}|{color:#ff991f}20,391{color}|{color:#ff991f}41%{color}|\n",
        "\n",
        "* *29% (3.03 of 11 million)* of these customers also carried out POS/WEB transactions in the 6 months prior to cash scarcity which means that they regularly transacted using their cards regardless of cash scarcity.-'''\n"
      ],
      "metadata": {
        "id": "czrCjoaoJ_lR"
      },
      "execution_count": 21,
      "outputs": []
    },
    {
      "cell_type": "code",
      "source": [],
      "metadata": {
        "id": "y0rybD7i3pcU"
      },
      "execution_count": 21,
      "outputs": []
    },
    {
      "cell_type": "code",
      "source": [
        "class JiraWikiBlockTypes(Enum):\n",
        "    LIST = 'list'\n",
        "    HEADING = 'heading'\n",
        "    TABLE = 'table'\n",
        "    CODE = 'code'\n",
        "    QUOTE = 'quote'\n",
        "    PARAGRAPH = 'paragraph'"
      ],
      "metadata": {
        "id": "gkN5DsNIGzkn"
      },
      "execution_count": 22,
      "outputs": []
    },
    {
      "cell_type": "code",
      "source": [
        "def detect_jira_block_type(jira_block):\n",
        "    jira_block_trimmed = jira_block.strip()\n",
        "    marker_heading = r'^h([1-6])\\..*$'\n",
        "    # marker_list = '^([\\*|\\-|\\#]+)\\s(.*)'\n",
        "    marker_list = '^[*#-]+\\s.*$'\n",
        "    marker_table = '^[||]+.*$'\n",
        "    if re.match(marker_heading, jira_block_trimmed, re.DOTALL):\n",
        "        return JiraWikiBlockTypes.HEADING\n",
        "    if re.match(marker_list, jira_block_trimmed, re.DOTALL):\n",
        "        return JiraWikiBlockTypes.LIST\n",
        "    if re.match(marker_table, jira_block_trimmed, re.DOTALL):\n",
        "        return JiraWikiBlockTypes.TABLE\n",
        "    return JiraWikiBlockTypes.PARAGRAPH"
      ],
      "metadata": {
        "id": "O_u2NSQCJe6K"
      },
      "execution_count": 23,
      "outputs": []
    },
    {
      "cell_type": "code",
      "source": [
        "def get_jira_blocks(jira_text):\n",
        "    return re.split('\\n\\n', jira_text)"
      ],
      "metadata": {
        "id": "3JrDwIe4IjYS"
      },
      "execution_count": 24,
      "outputs": []
    },
    {
      "cell_type": "code",
      "source": [
        "def write_heading_jira_to_doc(text, doc_part_to_write_to):\n",
        "    pattern_heading = r'^h([1-6])\\.(.*)'\n",
        "    heading_match = re.match(pattern_heading, text)\n",
        "    heading_number, heading_text = heading_match.groups()\n",
        "    para = doc_part_to_write_to.add_paragraph()\n",
        "    para.style = f'Heading {heading_number}'\n",
        "    # para.add_run(text=heading_text)\n",
        "    apply_jira_text_effect_to_text_in_docx(heading_text, para)"
      ],
      "metadata": {
        "id": "ML2wArPvKMgl"
      },
      "execution_count": 25,
      "outputs": []
    },
    {
      "cell_type": "code",
      "source": [
        "def write_list_jira_to_doc(text, doc_part_to_write_to):\n",
        "    pattern_list_item = r'^([\\*|\\-|\\#]+)\\s{1}(.*)'\n",
        "    # split block into lines\n",
        "    lines = re.split('\\n', text)\n",
        "    for line in lines:\n",
        "        list_type, list_text = re.match(pattern_list_item, line).groups()\n",
        "        # issue 1: couldn't resolve the round and square bullets differently\n",
        "        # issue 2: find a way of decorating nested lists with different point styles\n",
        "        # issue 3: sublevel list have unwanted top space to their parent list\n",
        "        max_list_level = 3\n",
        "        style_name = \"List Number\" if list_type[:max_list_level][-1] == '#' else 'List Bullet'\n",
        "        style_name = f'{style_name} {str(min(len(list_type), max_list_level)) if len(list_type) > 1 else \"\"}'.strip()\n",
        "        para = doc_part_to_write_to.add_paragraph()\n",
        "        para.style = style_name\n",
        "        # para.add_run(text = list_text)\n",
        "        apply_jira_text_effect_to_text_in_docx(list_text, para)"
      ],
      "metadata": {
        "id": "gS67XK30LGAk"
      },
      "execution_count": 26,
      "outputs": []
    },
    {
      "cell_type": "code",
      "source": [
        "def write_generic_jira_to_doc(text, doc_part_to_write_to):\n",
        "    para = doc_part_to_write_to.add_paragraph()\n",
        "    # para.add_run(text = text)\n",
        "    apply_jira_text_effect_to_text_in_docx(text, para)"
      ],
      "metadata": {
        "id": "rgZRzxI8Lov6"
      },
      "execution_count": 27,
      "outputs": []
    },
    {
      "cell_type": "code",
      "source": [
        "def write_jira_block_to_doc(jira_block):\n",
        "\n",
        "    # handle leading new lines\n",
        "    new_lines, actual_jira_block = re.match('(\\n*)(.*)', jira_block, re.DOTALL).groups()\n",
        "    num_new_lines = new_lines.count('\\n')\n",
        "\n",
        "    # add new lines by occurence\n",
        "    for i in range(num_new_lines):\n",
        "        para = doc.add_paragraph()\n",
        "        para.add_run()\n",
        "\n",
        "    # 1. heading\n",
        "    if detect_jira_block_type(actual_jira_block) == JiraWikiBlockTypes.HEADING:\n",
        "        write_heading_jira_to_doc(actual_jira_block, doc)\n",
        "    # 2. list\n",
        "    elif detect_jira_block_type(actual_jira_block) == JiraWikiBlockTypes.LIST:\n",
        "        write_list_jira_to_doc(actual_jira_block, doc)\n",
        "    # 3. table\n",
        "    elif detect_jira_block_type(actual_jira_block) == JiraWikiBlockTypes.TABLE:\n",
        "        write_generic_jira_to_doc(actual_jira_block, doc)\n",
        "\n",
        "    # any other\n",
        "    else:\n",
        "        write_generic_jira_to_doc(actual_jira_block, doc)\n",
        "\n",
        "        # handle text effects\n",
        "\n"
      ],
      "metadata": {
        "id": "sYkOYtjW0rHs"
      },
      "execution_count": 28,
      "outputs": []
    },
    {
      "cell_type": "code",
      "source": [
        "def detect_jira_text_effects(text, parent_key = None):\n",
        "  text_effect_para_dict = {} # Dictionary to store detected text effects\n",
        "  plain_text = text\n",
        "  def detect_effects_recursive(text, parent_key=None):\n",
        "\n",
        "    # Regular expressions for detecting various Jira text effects\n",
        "\n",
        "    # Strong effect: Text enclosed in asterisks (*) with no space after the start or before the end.\n",
        "    pattern_strong_effect = '((\\*)(\\S[^*]*\\S)(\\*))'\n",
        "\n",
        "    # Italics effect: Text enclosed in underscores (_) with no space after the start or before the end.\n",
        "    pattern_italics_effect = '((\\_)(\\S[^_]*\\S)(\\_))'\n",
        "\n",
        "    # Deleted effect: Text enclosed in hyphens (-) with no space after the start or before the end.\n",
        "    pattern_deleted_effect = '((\\-)(\\S[^-]*\\S)(\\-))'\n",
        "\n",
        "    # Inserted effect: Text enclosed in plus signs (+) with no space after the start or before the end.\n",
        "    pattern_inserted_effect = '((\\+)(\\S[^+]*\\S)(\\+))'\n",
        "\n",
        "    # Superscript effect: Text enclosed in carets (^) with no space after the start or before the end.\n",
        "    pattern_superscript_effect = '((\\^)(\\S[^\\^]*\\S)(\\^))'\n",
        "\n",
        "    # Subscript effect: Text enclosed in tildes (~) with no space after the start or before the end.\n",
        "    pattern_subscript_effect = '((\\~)(\\S[^\\~]*\\S)(\\~))'\n",
        "\n",
        "    # Color effect: Text enclosed in color tags {color} with hexadecimal color code.\n",
        "    pattern_color_effect = '((\\{color:[#A-Za-z0-9]+\\})(.*?)(\\{color\\}))'\n",
        "\n",
        "    pattern_text_effect_list = [pattern_strong_effect,\n",
        "                                pattern_italics_effect,\n",
        "                                pattern_deleted_effect,\n",
        "                                pattern_inserted_effect,\n",
        "                                pattern_superscript_effect,\n",
        "                                pattern_subscript_effect,\n",
        "                                pattern_color_effect]\n",
        "    pattern_text_effect = re.compile('|'.join(pattern_text_effect_list), re.DOTALL|re.IGNORECASE)\n",
        "    for m in pattern_text_effect.finditer(text):\n",
        "      try:\n",
        "        full_match, text_effect_ope_tag, inner_text, text_effect_cls_tag = tuple(filter(lambda x: x, m.groups()))\n",
        "        res = {}\n",
        "        start_pos_outside_markup = m.start()\n",
        "        end_pos_outside_markup = m.end() - 1 # decrement by 1 to match the end position in the string\n",
        "        start_pos_inner_text = start_pos_outside_markup + len(text_effect_ope_tag)\n",
        "        ope_tags = [text_effect_ope_tag]\n",
        "        if parent_key:\n",
        "          res = text_effect_para_dict.pop(parent_key)\n",
        "          full_match = res['full_match']\n",
        "          start_pos_outside_markup = res['start_pos_outside_markup']\n",
        "          end_pos_outside_markup = res['end_pos_outside_markup']\n",
        "          start_pos_inner_text = res['start_pos_inner_text'] + start_pos_inner_text\n",
        "          ope_tags = res['ope_tags'] + ope_tags\n",
        "\n",
        "        res['start_pos_outside_markup'] = start_pos_outside_markup\n",
        "        res['end_pos_outside_markup'] = end_pos_outside_markup\n",
        "        res['start_pos_inner_text'] = start_pos_inner_text\n",
        "        res['end_pos_inner_text'] = res['start_pos_inner_text'] + len(inner_text) - 1\n",
        "        res['inner_text'] = inner_text\n",
        "        res['ope_tags'] = ope_tags\n",
        "        res['full_match'] = full_match\n",
        "        text_effect_para_dict[start_pos_outside_markup] = res\n",
        "        detect_effects_recursive(inner_text, parent_key = start_pos_outside_markup)\n",
        "      except Exception as e:\n",
        "        print(e)\n",
        "  detect_effects_recursive(text)\n",
        "  return text_effect_para_dict\n"
      ],
      "metadata": {
        "id": "GDJowiiYmqob"
      },
      "execution_count": 29,
      "outputs": []
    },
    {
      "cell_type": "code",
      "source": [
        "def apply_jira_text_effect_to_text_in_docx(text, docx_element):\n",
        "  detected_text_effect_list = list(detect_jira_text_effects(text).values())\n",
        "  prev_end_pos = -1\n",
        "  for indx, item in enumerate(detected_text_effect_list):\n",
        "    # apply\n",
        "    inner_text = item['inner_text']\n",
        "    start_pos_outside_markup = item['start_pos_outside_markup']\n",
        "    end_pos_outside_markup = item['end_pos_outside_markup']\n",
        "    start_pos_inner_text = item['start_pos_inner_text']\n",
        "    end_pos_inner_text = item['end_pos_inner_text']\n",
        "    ope_tags = item['ope_tags']\n",
        "\n",
        "    leading_run_text = text[prev_end_pos + 1 : start_pos_outside_markup]\n",
        "    current_run_text = text[start_pos_inner_text : end_pos_inner_text + 1]\n",
        "    trailing_run_text = text[end_pos_outside_markup + 1:]\n",
        "\n",
        "    leading_run = docx_element.add_run(leading_run_text)\n",
        "    current_run = docx_element.add_run(current_run_text)\n",
        "\n",
        "    # apply text effects in opening tags\n",
        "    if '*' in ope_tags:\n",
        "      current_run.bold = True\n",
        "    if '_' in ope_tags:\n",
        "      current_run.style = 'Emphasis'\n",
        "\n",
        "    if indx == len(detected_text_effect_list) - 1:\n",
        "      docx_element.add_run(trailing_run_text)\n",
        "\n",
        "    prev_end_pos = end_pos_outside_markup\n"
      ],
      "metadata": {
        "id": "BjkhFqSjLjiF"
      },
      "execution_count": 30,
      "outputs": []
    },
    {
      "cell_type": "code",
      "source": [],
      "metadata": {
        "id": "jwviEvY-06UG"
      },
      "execution_count": 30,
      "outputs": []
    },
    {
      "cell_type": "code",
      "source": [],
      "metadata": {
        "id": "xgzIShBBrySe"
      },
      "execution_count": 30,
      "outputs": []
    },
    {
      "cell_type": "code",
      "source": [
        "# Initialize a new Document\n",
        "doc = Document()"
      ],
      "metadata": {
        "id": "wZYUa41R06W-"
      },
      "execution_count": 31,
      "outputs": []
    },
    {
      "cell_type": "code",
      "source": [
        "for block in get_jira_blocks(sample_jira_text):\n",
        "    print(repr(block))\n",
        "    write_jira_block_to_doc(block)"
      ],
      "metadata": {
        "colab": {
          "base_uri": "https://localhost:8080/"
        },
        "id": "w0K3D5QCIdGZ",
        "outputId": "fabf21fa-e051-468e-b383-f008cf051e37"
      },
      "execution_count": 32,
      "outputs": [
        {
          "output_type": "stream",
          "name": "stdout",
          "text": [
            "'Carried out an {color:#ff5630}analysis to {color}{color:#fff0b3}identify{color}{color:#ff5630} customers who{color} carried out POS/WEB (card) transactions during the period of +^*-_cash scarcity but subsequently_-*^+ stopped transacting on this *channel and map out the* *_transactional_* *behaviour* of _these_ *_customers_* _prior to and during_ cash scarcity.'\n",
            "'*Definition of Terms*'\n",
            "'* Cash scarcity period: November _*2022 to March 2023*_ (150 days)\\n** 6 months prior to cash scarcity: May 2022 to October 2022 (180 days)\\n* Period after cash scarcity: April 2023 to May 2023 (60 days)\\n**** Period after cash scarcity: April 2023 to May 2023 (60 days)'\n",
            "'# test number 1\\n#* test number 11\\n#* test number 11\\n# test number 2\\n## test number 2'\n",
            "'*Key Highlights:*'\n",
            "'* Customers transactional behaviour before, during and after cash scarcity'\n",
            "'||Period||Transacted before, during {color:#ff5630}AND {color}after cash scarcity||Transacted during cash scarcity {color:#ff5630}BUT {color}stopped after cash scarcity||{color:#ff5630}STARTED {color}transacting during cash scarcity {color:#ff5630}AND {color}continued afterwards||\\n|Distinct Card Holders|10,674,893|{color:#ff5630}*310,454*{color}|1,002,235|'\n",
            "'||* go\\n* be||\\n| |\\n| |'\n",
            "'\\n* *1.6 million (66%)* of the customers who completed card transactions during the cash scarcity period also carried out transactions prior to and after the cash scarcity period.\\n* *13% (1 million)* of the customers who carried out POS/WEB transactions during cash scarcity stopped card transactions at the end of the cash scarcity period\\n* Customers with POS/WEB transactions during cash scarcity but not after cash scarcity'\n",
            "'||Period||Transacted prior to AND during cash scarcity BUT subsequently stopped||Transacted only during cash scarcity, NOT before or after cash scarcity||% of customers who transacted only during cash scarcity||\\n|Distinct Card Holders|{color:#36b37e}30,063 {color}|{color:#ff991f}20,391{color}|{color:#ff991f}41%{color}|'\n",
            "'* *29% (3.03 of 11 million)* of these customers also carried out POS/WEB transactions in the 6 months prior to cash scarcity which means that they regularly transacted using their cards regardless of cash scarcity.-'\n"
          ]
        }
      ]
    },
    {
      "cell_type": "code",
      "source": [
        "doc.save('output.docx')"
      ],
      "metadata": {
        "id": "Z2z7NoYG06M0"
      },
      "execution_count": 33,
      "outputs": []
    },
    {
      "cell_type": "code",
      "source": [],
      "metadata": {
        "id": "Y7VEkCsYLjfF"
      },
      "execution_count": 33,
      "outputs": []
    },
    {
      "cell_type": "code",
      "source": [],
      "metadata": {
        "id": "hKrmFsQ1Ljb8"
      },
      "execution_count": 16,
      "outputs": []
    },
    {
      "cell_type": "code",
      "source": [
        "# doc = Document()\n",
        "# para = doc.add_paragraph()\n",
        "# test_block = '''Carried out an {color:#ff5630}analysis to {color}{color:#fff0b3}. identify{color}{color:#ff5630} customers who{color} carried out POS/WEB (card) transactions during the period of +^*-_cash scarcity but subsequently_-*^+ stopped transacting on this *channel and map out the* *_transactional_* *behaviour* of _these_ *_customers_* _prior to and during_ cash scarcity.'''\n",
        "# # detect_jira_text_effects(test_block)"
      ],
      "metadata": {
        "id": "i3K_eEenmqlf"
      },
      "execution_count": 17,
      "outputs": []
    },
    {
      "cell_type": "code",
      "source": [
        "# test_block = '''Carried out an {color:#ff5630}analysis to {color}{color:#fff0b3}. identify{color}{color:#ff5630} customers who{color} carried out POS/WEB (card) transactions during the period of +^*-_cash scarcity but subsequently_-*^+ stopped transacting on this *channel and map out the* *_transactional_* *behaviour* of _these_ *_customers_* _prior to and during_ cash scarcity.'''\n",
        "# detected_text_effect_list = list(detect_jira_text_effects(test_block).values())\n",
        "# prev_end_pos = -1\n",
        "# for indx, item in enumerate(detected_text_effect_list):\n",
        "#   # apply\n",
        "#   inner_text = item['inner_text']\n",
        "#   start_pos_outside_markup = item['start_pos_outside_markup']\n",
        "#   end_pos_outside_markup = item['end_pos_outside_markup']\n",
        "#   start_pos_inner_text = item['start_pos_inner_text']\n",
        "#   end_pos_inner_text = item['end_pos_inner_text']\n",
        "#   ope_tags = item['ope_tags']\n",
        "\n",
        "#   leading_run_text = test_block[prev_end_pos + 1 : start_pos_outside_markup]\n",
        "#   current_run_text = test_block[start_pos_inner_text : end_pos_inner_text + 1]\n",
        "#   trailing_run_text = test_block[end_pos_outside_markup + 1:]\n",
        "#   leading_run = para.add_run(leading_run_text)\n",
        "#   current_run = para.add_run(current_run_text)\n",
        "\n",
        "#   # apply text effects in opening tags\n",
        "#   if '*' in ope_tags:\n",
        "#     current_run.bold = True\n",
        "#   if '_' in ope_tags:\n",
        "#     current_run.style = 'Emphasis'\n",
        "\n",
        "#   if indx == len(detected_text_effect_list) - 1:\n",
        "#     para.add_run(trailing_run_text)\n",
        "\n",
        "#   prev_end_pos = end_pos_outside_markup\n"
      ],
      "metadata": {
        "id": "pc5Br39R06Ke"
      },
      "execution_count": 18,
      "outputs": []
    },
    {
      "cell_type": "code",
      "source": [
        "# doc.save('output.docx')"
      ],
      "metadata": {
        "id": "kgpGUPOl06IJ"
      },
      "execution_count": 19,
      "outputs": []
    },
    {
      "cell_type": "code",
      "source": [],
      "metadata": {
        "id": "PqnbUKJKpeqX"
      },
      "execution_count": 19,
      "outputs": []
    },
    {
      "cell_type": "code",
      "source": [],
      "metadata": {
        "id": "nzFfsRL2L1wf"
      },
      "execution_count": 19,
      "outputs": []
    },
    {
      "cell_type": "code",
      "source": [
        "# ---- testing regex\n",
        "\n",
        "test_block = '''C*ar*ried out an {color:#ff5630}analysis to {color}{color:#fff0b3}. identify{color}{color:#ff5630} customers who{color} carried out POS/WEB (card) transactions during the period of +^*-_cash scarcity but subsequently_-*^+ stopped transacting on this *channel and map out the* *_transactional_* *behaviour* of _these_ *_customers_* _prior to and during_ cash scarcity.'''\n",
        "\n",
        "pattern_strong_effect = '([*_-]+)(\\S[^*_-]*\\S)([*_-]+)'\n",
        "# pattern_italics_effect = '(\\_)(\\S[^_]*\\S)(\\_)'\n",
        "# pattern_color_effect = '(\\{color:[A-Za-z]*\\})(.?*)(\\{color\\})'\n",
        "pattern_color_effect = '(\\{color:[#A-Za-z0-9]+\\})(.*?)(\\{color\\})'\n",
        "pattern_text_effect = re.compile(f'{pattern_strong_effect}|{pattern_color_effect}', re.IGNORECASE | re.DOTALL)\n",
        "# pattern_text_effect = re.compile(f'{pattern_color_effect}', re.IGNORECASE | re.DOTALL)\n",
        "for m in pattern_text_effect.finditer(test_block):\n",
        "    print(m.start(), '\\t', m.groups(), '\\t', m.end(), '\\t') # test_block[m.start()])\n",
        "    # print(list(filter(lambda x: x, m.groups())))"
      ],
      "metadata": {
        "colab": {
          "base_uri": "https://localhost:8080/"
        },
        "id": "xivf4evEpenf",
        "outputId": "85d97489-6841-46af-9b36-4369280d5dde"
      },
      "execution_count": 20,
      "outputs": [
        {
          "output_type": "stream",
          "name": "stdout",
          "text": [
            "1 \t ('*', 'ar', '*', None, None, None) \t 5 \t\n",
            "17 \t (None, None, None, '{color:#ff5630}', 'analysis to ', '{color}') \t 51 \t\n",
            "51 \t (None, None, None, '{color:#fff0b3}', '. identify', '{color}') \t 83 \t\n",
            "83 \t (None, None, None, '{color:#ff5630}', ' customers who', '{color}') \t 119 \t\n",
            "183 \t ('*-_', 'cash scarcity but subsequently_', '-*', None, None, None) \t 219 \t\n",
            "250 \t ('*', 'channel and map out the', '*', None, None, None) \t 275 \t\n",
            "276 \t ('*_', 'transactional_', '*', None, None, None) \t 293 \t\n",
            "294 \t ('*', 'behaviour', '*', None, None, None) \t 305 \t\n",
            "309 \t ('_', 'these', '_', None, None, None) \t 316 \t\n",
            "317 \t ('*_', 'customers_', '*', None, None, None) \t 330 \t\n",
            "331 \t ('_', 'prior to and during', '_', None, None, None) \t 352 \t\n"
          ]
        }
      ]
    },
    {
      "cell_type": "code",
      "source": [],
      "metadata": {
        "id": "WrEB_dj-Lw-t"
      },
      "execution_count": 20,
      "outputs": []
    },
    {
      "cell_type": "code",
      "source": [],
      "metadata": {
        "id": "EX8HFABiLw71"
      },
      "execution_count": 20,
      "outputs": []
    }
  ]
}