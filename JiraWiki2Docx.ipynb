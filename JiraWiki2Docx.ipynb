{
  "nbformat": 4,
  "nbformat_minor": 0,
  "metadata": {
    "colab": {
      "provenance": [],
      "authorship_tag": "ABX9TyP/bAaHzBQ6qXUrndaZSGOm",
      "include_colab_link": true
    },
    "kernelspec": {
      "name": "python3",
      "display_name": "Python 3"
    },
    "language_info": {
      "name": "python"
    }
  },
  "cells": [
    {
      "cell_type": "markdown",
      "metadata": {
        "id": "view-in-github",
        "colab_type": "text"
      },
      "source": [
        "<a href=\"https://colab.research.google.com/github/deitar/JiraWiki2Docx/blob/main/JiraWiki2Docx.ipynb\" target=\"_parent\"><img src=\"https://colab.research.google.com/assets/colab-badge.svg\" alt=\"Open In Colab\"/></a>"
      ]
    },
    {
      "cell_type": "code",
      "execution_count": null,
      "metadata": {
        "id": "Mw-x5WT-J3JZ"
      },
      "outputs": [],
      "source": []
    },
    {
      "cell_type": "code",
      "source": [
        "!pip install xmltodict\n",
        "!pip install htmldocx\n",
        "!pip install python-docx"
      ],
      "metadata": {
        "colab": {
          "base_uri": "https://localhost:8080/"
        },
        "id": "S8ShXVHTJ_gE",
        "outputId": "7c68786e-16bb-4555-b8d1-4f28b9ce43cf"
      },
      "execution_count": 2,
      "outputs": [
        {
          "output_type": "stream",
          "name": "stdout",
          "text": [
            "Collecting xmltodict\n",
            "  Downloading xmltodict-0.13.0-py2.py3-none-any.whl (10.0 kB)\n",
            "Installing collected packages: xmltodict\n",
            "Successfully installed xmltodict-0.13.0\n",
            "Collecting htmldocx\n",
            "  Downloading htmldocx-0.0.6-py3-none-any.whl (9.5 kB)\n",
            "Collecting python-docx>=0.8.10 (from htmldocx)\n",
            "  Downloading python-docx-0.8.11.tar.gz (5.6 MB)\n",
            "\u001b[2K     \u001b[90m━━━━━━━━━━━━━━━━━━━━━━━━━━━━━━━━━━━━━━━━\u001b[0m \u001b[32m5.6/5.6 MB\u001b[0m \u001b[31m39.5 MB/s\u001b[0m eta \u001b[36m0:00:00\u001b[0m\n",
            "\u001b[?25h  Preparing metadata (setup.py) ... \u001b[?25l\u001b[?25hdone\n",
            "Requirement already satisfied: beautifulsoup4>=4.7.0 in /usr/local/lib/python3.10/dist-packages (from htmldocx) (4.11.2)\n",
            "Requirement already satisfied: soupsieve>1.2 in /usr/local/lib/python3.10/dist-packages (from beautifulsoup4>=4.7.0->htmldocx) (2.4.1)\n",
            "Requirement already satisfied: lxml>=2.3.2 in /usr/local/lib/python3.10/dist-packages (from python-docx>=0.8.10->htmldocx) (4.9.2)\n",
            "Building wheels for collected packages: python-docx\n",
            "  Building wheel for python-docx (setup.py) ... \u001b[?25l\u001b[?25hdone\n",
            "  Created wheel for python-docx: filename=python_docx-0.8.11-py3-none-any.whl size=184491 sha256=adbd33b981cf24676474870fec9d8223f85aaf79497c7d3e0340b47465f048c4\n",
            "  Stored in directory: /root/.cache/pip/wheels/80/27/06/837436d4c3bd989b957a91679966f207bfd71d358d63a8194d\n",
            "Successfully built python-docx\n",
            "Installing collected packages: python-docx, htmldocx\n",
            "Successfully installed htmldocx-0.0.6 python-docx-0.8.11\n",
            "Requirement already satisfied: python-docx in /usr/local/lib/python3.10/dist-packages (0.8.11)\n",
            "Requirement already satisfied: lxml>=2.3.2 in /usr/local/lib/python3.10/dist-packages (from python-docx) (4.9.2)\n"
          ]
        }
      ]
    },
    {
      "cell_type": "code",
      "source": [
        "import os\n",
        "import re\n",
        "import html\n",
        "import json\n",
        "import xmltodict\n",
        "import requests\n",
        "from datetime import datetime\n",
        "from requests.auth import HTTPBasicAuth\n",
        "from docx import Document\n",
        "from htmldocx import HtmlToDocx\n",
        "from docx.shared import Inches\n",
        "from docx.enum.table import WD_TABLE_ALIGNMENT, WD_ALIGN_VERTICAL\n",
        "from docx.shared import Inches, RGBColor, Pt, Cm\n",
        "from docx.enum.text import WD_LINE_SPACING\n",
        "from docx import Document\n",
        "from docx.oxml.ns import nsdecls\n",
        "from docx.oxml import parse_xml\n",
        "from itertools import groupby\n",
        "from datetime import datetime\n",
        "import numpy as np\n",
        "import pandas as pd\n",
        "from enum import Enum"
      ],
      "metadata": {
        "id": "Gee-awAnJ_iq"
      },
      "execution_count": 3,
      "outputs": []
    },
    {
      "cell_type": "code",
      "source": [
        "sample_jira_text = '''h2. -Carried- out an +analysis+ to _identify_ {{customers}} who carried out POS/WEB (card) transactions during the period of cash scarcity but subsequently stopped transacting on this channel and map out the transactional behaviour of these customers prior to and during cash scarcity.\n",
        "\n",
        "*Definition of Terms*\n",
        "\n",
        "* Cash scarcity period: November 2022 to March 2023 (150 days)\n",
        "** 6 months prior to cash scarcity: May 2022 to October 2022 (180 days)\n",
        "* Period after cash scarcity: April 2023 to May 2023 (60 days)\n",
        "**** Period after cash scarcity: April 2023 to May 2023 (60 days)\n",
        "\n",
        "# test number 1\n",
        "#* test number 11\n",
        "#* test number 11\n",
        "# test number 2\n",
        "## test number 2\n",
        "\n",
        "*Key Highlights:*\n",
        "\n",
        "* Customers transactional behaviour before, during and after cash scarcity\n",
        "\n",
        "||Period||Transacted before, during {color:#ff5630}AND {color}after cash scarcity||Transacted during cash scarcity {color:#ff5630}BUT {color}stopped after cash scarcity||{color:#ff5630}STARTED {color}transacting during cash scarcity {color:#ff5630}AND {color}continued afterwards||\n",
        "|Distinct Card Holders|3,674,893|{color:#ff5630}*1,310,454*{color}|602,235|\n",
        "\n",
        "||* go\n",
        "* be||\n",
        "| |\n",
        "| |\n",
        "\n",
        "\n",
        "* *3.6 million (66%)* of the customers who completed card transactions during the cash scarcity period also carried out transactions prior to and after the cash scarcity period.\n",
        "* *23% (1.31 million)* of the customers who carried out POS/WEB transactions during cash scarcity stopped card transactions at the end of the cash scarcity period\n",
        "* Customers with POS/WEB transactions during cash scarcity but not after cash scarcity\n",
        "\n",
        "||Period||Transacted prior to AND during cash scarcity BUT subsequently stopped||Transacted only during cash scarcity, NOT before or after cash scarcity||% of customers who transacted only during cash scarcity||\n",
        "|Distinct Card Holders|{color:#36b37e}1,030,063 {color}|{color:#ff991f}280,391{color}|{color:#ff991f}21%{color}|\n",
        "\n",
        "* *79% (1.03 of 1.31 million)* of these customers also carried out POS/WEB transactions in the 6 months prior to cash scarcity which means that they regularly transacted using their cards regardless of cash scarcity.-'''\n"
      ],
      "metadata": {
        "id": "czrCjoaoJ_lR"
      },
      "execution_count": 4,
      "outputs": []
    },
    {
      "cell_type": "code",
      "source": [],
      "metadata": {
        "id": "y0rybD7i3pcU"
      },
      "execution_count": 4,
      "outputs": []
    },
    {
      "cell_type": "code",
      "source": [
        "class JiraWikiBlockTypes(Enum):\n",
        "    LIST = 'list'\n",
        "    HEADING = 'heading'\n",
        "    TABLE = 'table'\n",
        "    CODE = 'code'\n",
        "    QUOTE = 'quote'\n",
        "    PARAGRAPH = 'paragraph'"
      ],
      "metadata": {
        "id": "gkN5DsNIGzkn"
      },
      "execution_count": 5,
      "outputs": []
    },
    {
      "cell_type": "code",
      "source": [
        "def detect_jira_block_type(jira_block):\n",
        "    jira_block_trimmed = jira_block.strip()\n",
        "    marker_heading = r'^h([1-6])\\..*$'\n",
        "    # marker_list = '^([\\*|\\-|\\#]+)\\s(.*)'\n",
        "    marker_list = '^[*#-]+\\s.*$'\n",
        "    marker_table = '^[||]+.*$'\n",
        "    if re.match(marker_heading, jira_block_trimmed, re.DOTALL):\n",
        "        return JiraWikiBlockTypes.HEADING\n",
        "    if re.match(marker_list, jira_block_trimmed, re.DOTALL):\n",
        "        return JiraWikiBlockTypes.LIST\n",
        "    if re.match(marker_table, jira_block_trimmed, re.DOTALL):\n",
        "        return JiraWikiBlockTypes.TABLE\n",
        "    return JiraWikiBlockTypes.PARAGRAPH"
      ],
      "metadata": {
        "id": "O_u2NSQCJe6K"
      },
      "execution_count": 6,
      "outputs": []
    },
    {
      "cell_type": "code",
      "source": [
        "def get_jira_blocks(jira_text):\n",
        "    return re.split('\\n\\n', jira_text)"
      ],
      "metadata": {
        "id": "3JrDwIe4IjYS"
      },
      "execution_count": 7,
      "outputs": []
    },
    {
      "cell_type": "code",
      "source": [
        "def write_heading_jira_to_doc(text, doc_part_to_write_to):\n",
        "    pattern_heading = r'^h([1-6])\\.(.*)'\n",
        "    heading_match = re.match(pattern_heading, text)\n",
        "    heading_number, heading_text = heading_match.groups()\n",
        "    para = doc_part_to_write_to.add_paragraph()\n",
        "    para.style = f'Heading {heading_number}'\n",
        "    para.add_run(text=heading_text)"
      ],
      "metadata": {
        "id": "ML2wArPvKMgl"
      },
      "execution_count": 8,
      "outputs": []
    },
    {
      "cell_type": "code",
      "source": [
        "def write_list_jira_to_doc(text, doc_part_to_write_to):\n",
        "    pattern_list_item = r'^([\\*|\\-|\\#]+)\\s{1}(.*)'\n",
        "    # split block into lines\n",
        "    lines = re.split('\\n', text)\n",
        "    for line in lines:\n",
        "        list_type, list_text = re.match(pattern_list_item, line).groups()\n",
        "        # issue 1: couldn't resolve the round and square bullets differently\n",
        "        # issue 2: find a way of decorating nested lists with different point styles\n",
        "        # issue 3: sublevel list have unwanted top space to their parent list\n",
        "        max_list_level = 3\n",
        "        style_name = \"List Number\" if list_type[:max_list_level][-1] == '#' else 'List Bullet'\n",
        "        style_name = f'{style_name} {str(min(len(list_type), max_list_level)) if len(list_type) > 1 else \"\"}'.strip()\n",
        "        para = doc_part_to_write_to.add_paragraph()\n",
        "        para.style = style_name\n",
        "        para.add_run(text = list_text)"
      ],
      "metadata": {
        "id": "gS67XK30LGAk"
      },
      "execution_count": 9,
      "outputs": []
    },
    {
      "cell_type": "code",
      "source": [
        "def write_generic_jira_to_doc(text, doc_part_to_write_to):\n",
        "    para = doc_part_to_write_to.add_paragraph()\n",
        "    para.add_run(text = text)"
      ],
      "metadata": {
        "id": "rgZRzxI8Lov6"
      },
      "execution_count": 10,
      "outputs": []
    },
    {
      "cell_type": "code",
      "source": [
        "def write_jira_block_to_doc(jira_block):\n",
        "\n",
        "    # handle leading new lines\n",
        "    new_lines, actual_jira_block = re.match('(\\n*)(.*)', jira_block, re.DOTALL).groups()\n",
        "    num_new_lines = new_lines.count('\\n')\n",
        "\n",
        "    # add new lines by occurence\n",
        "    for i in range(num_new_lines):\n",
        "        para = doc.add_paragraph()\n",
        "        para.add_run()\n",
        "\n",
        "    # 1. heading\n",
        "    if detect_jira_block_type(actual_jira_block) == JiraWikiBlockTypes.HEADING:\n",
        "        write_heading_jira_to_doc(actual_jira_block, doc)\n",
        "    # 2. list\n",
        "    elif detect_jira_block_type(actual_jira_block) == JiraWikiBlockTypes.LIST:\n",
        "        write_list_jira_to_doc(actual_jira_block, doc)\n",
        "    # 3. table\n",
        "    elif detect_jira_block_type(actual_jira_block) == JiraWikiBlockTypes.TABLE:\n",
        "        write_generic_jira_to_doc(actual_jira_block, doc)\n",
        "\n",
        "    # any other\n",
        "    else:\n",
        "        write_generic_jira_to_doc(actual_jira_block, doc)\n",
        "\n",
        "        # handle text effects\n",
        "\n"
      ],
      "metadata": {
        "id": "sYkOYtjW0rHs"
      },
      "execution_count": 11,
      "outputs": []
    },
    {
      "cell_type": "code",
      "source": [
        "# Initialize a new Document\n",
        "doc = Document()"
      ],
      "metadata": {
        "id": "wZYUa41R06W-"
      },
      "execution_count": 11,
      "outputs": []
    },
    {
      "cell_type": "code",
      "source": [
        "for block in get_jira_blocks(sample_jira_text):\n",
        "    print(repr(block))\n",
        "    write_jira_block_to_doc(block)"
      ],
      "metadata": {
        "colab": {
          "base_uri": "https://localhost:8080/"
        },
        "id": "w0K3D5QCIdGZ",
        "outputId": "2917ac8f-2049-4c1c-d302-ad2afabbca7b"
      },
      "execution_count": 12,
      "outputs": [
        {
          "output_type": "stream",
          "name": "stdout",
          "text": [
            "'h2. -Carried- out an +analysis+ to _identify_ {{customers}} who carried out POS/WEB (card) transactions during the period of cash scarcity but subsequently stopped transacting on this channel and map out the transactional behaviour of these customers prior to and during cash scarcity.'\n",
            "'*Definition of Terms*'\n",
            "'* Cash scarcity period: November 2022 to March 2023 (150 days)\\n** 6 months prior to cash scarcity: May 2022 to October 2022 (180 days)\\n* Period after cash scarcity: April 2023 to May 2023 (60 days)\\n**** Period after cash scarcity: April 2023 to May 2023 (60 days)'\n",
            "'# test number 1\\n#* test number 11\\n#* test number 11\\n# test number 2\\n## test number 2'\n",
            "'*Key Highlights:*'\n",
            "'* Customers transactional behaviour before, during and after cash scarcity'\n",
            "'||Period||Transacted before, during {color:#ff5630}AND {color}after cash scarcity||Transacted during cash scarcity {color:#ff5630}BUT {color}stopped after cash scarcity||{color:#ff5630}STARTED {color}transacting during cash scarcity {color:#ff5630}AND {color}continued afterwards||\\n|Distinct Card Holders|3,674,893|{color:#ff5630}*1,310,454*{color}|602,235|'\n",
            "'||* go\\n* be||\\n| |\\n| |'\n",
            "'\\n* *3.6 million (66%)* of the customers who completed card transactions during the cash scarcity period also carried out transactions prior to and after the cash scarcity period.\\n* *23% (1.31 million)* of the customers who carried out POS/WEB transactions during cash scarcity stopped card transactions at the end of the cash scarcity period\\n* Customers with POS/WEB transactions during cash scarcity but not after cash scarcity'\n",
            "'||Period||Transacted prior to AND during cash scarcity BUT subsequently stopped||Transacted only during cash scarcity, NOT before or after cash scarcity||% of customers who transacted only during cash scarcity||\\n|Distinct Card Holders|{color:#36b37e}1,030,063 {color}|{color:#ff991f}280,391{color}|{color:#ff991f}21%{color}|'\n",
            "'* *79% (1.03 of 1.31 million)* of these customers also carried out POS/WEB transactions in the 6 months prior to cash scarcity which means that they regularly transacted using their cards regardless of cash scarcity.-'\n"
          ]
        }
      ]
    },
    {
      "cell_type": "code",
      "source": [
        "doc.save('output.docx')"
      ],
      "metadata": {
        "id": "Z2z7NoYG06M0"
      },
      "execution_count": 13,
      "outputs": []
    },
    {
      "cell_type": "code",
      "source": [
        "# jira_blocks = sample_jira_text.split('\\n\\n')\n",
        "# # lines\n",
        "# print(len(jira_blocks))"
      ],
      "metadata": {
        "id": "jwviEvY-06UG"
      },
      "execution_count": 28,
      "outputs": []
    },
    {
      "cell_type": "code",
      "source": [
        "# test_block = '\\n\\n* *3.6 million (66%)* of the +to+ and after the cash scarcity period.\\n* *23% (1.31 million)* ed out POS/WEB transactions d'\n",
        "test_block = '_3.6_ {{mil_lion_ (66%)}} of the to *and* after _the_ {color:green}cash scarcity{color} period.\\n'\n",
        "# text_strong_matches = re.findall('\\*\\S[^*]*\\S\\*', test_block, re.DOTALL)\n",
        "# print(text_strong_matches)\n",
        "pattern_strong_effect = '((\\*)(\\S[^*]*\\S)(\\*))'\n",
        "pattern_italics_effect = '((\\_)(\\S[^_]*\\S)(\\_))'\n",
        "pattern_color_effect = '((\\{color:[A-Za-z]*\\})(\\S((?!{color}).)*\\S)(\\{color\\}))'\n",
        "pattern_text_effect = re.compile(f'{pattern_strong_effect}|{pattern_italics_effect}|{pattern_color_effect}', re.IGNORECASE | re.DOTALL)\n",
        "for m in pattern_text_effect.finditer(test_block):\n",
        "    # print(m.start(), '\\t', m.groups(), '\\t', m.end(), '\\t') # test_block[m.start()])\n",
        "    print(list(filter(lambda x: x, m.groups())))\n",
        "# for italic in\n",
        "\n",
        "# print(re.split('\\*\\S[^*]*\\S\\*', test_block, re.DOTALL))\n",
        "\n",
        "  # write_jira_block_to_doc(block)\n",
        "# also consider nested markups e.g text in bold and inside strike through"
      ],
      "metadata": {
        "colab": {
          "base_uri": "https://localhost:8080/"
        },
        "id": "rCxLwC0u06Pb",
        "outputId": "41f897bf-5e34-4c03-aeba-927c7f2ae11f"
      },
      "execution_count": 98,
      "outputs": [
        {
          "output_type": "stream",
          "name": "stdout",
          "text": [
            "['_3.6_', '_', '3.6', '_']\n",
            "['_lion_', '_', 'lion', '_']\n",
            "['*and*', '*', 'and', '*']\n",
            "['_the_', '_', 'the', '_']\n",
            "['{color:green}cash scarcity{color}', '{color:green}', 'cash scarcity', 't', '{color}']\n"
          ]
        }
      ]
    },
    {
      "cell_type": "code",
      "source": [],
      "metadata": {
        "id": "xgzIShBBrySe"
      },
      "execution_count": 40,
      "outputs": []
    },
    {
      "cell_type": "code",
      "source": [
        "test_block = '_3.6_ *mil_lion_ (66%)* of the to *and* after _the_ cash scarcity period.\\n'\n",
        "\n",
        "text_effect_para_dict = {}\n",
        "\n",
        "def effecter(text, existing_effect=None):\n",
        "  global text_effect_para_dict\n",
        "  # asterisk/markup with no space after start or before end\n",
        "  pattern_strong_effect = '((\\*)(\\S[^*]*\\S)(\\*))'\n",
        "  pattern_italics_effect = '((\\_)(\\S[^_]*\\S)(\\_))'\n",
        "  pattern_color_effect = '((\\{color:[A-Za-z]*\\})(\\S((?!{color}).)*\\S)(\\{color\\}))'\n",
        "  print(text)\n",
        "  pattern_text_effect = re.compile(f'{pattern_strong_effect}|{pattern_italics_effect}|{pattern_color_effect}', re.DOTALL|re.IGNORECASE)\n",
        "  # if not pattern_text_effect.match(text):\n",
        "  #     return\n",
        "  for m in pattern_text_effect.finditer(text):\n",
        "      full_match, text_effect_ope_tag, inner_text, text_effect_cls_tag = tuple(filter(lambda x: x, m.groups()))\n",
        "      # print(full_match, '\\t', text_effect_ope_tag, '\\t', inner_text, '\\t', text_effect_cls_tag)\n",
        "      # text_effect_markup = test_block[m.start()]\n",
        "      # inner_text = m.group().strip(text_effect_markup)\n",
        "      text_effect_para_dict[m.start()] = inner_text\n",
        "      effecter(inner_text)\n",
        "\n",
        "effecter(test_block)"
      ],
      "metadata": {
        "colab": {
          "base_uri": "https://localhost:8080/"
        },
        "id": "GDJowiiYmqob",
        "outputId": "9ac4a625-98c3-472e-df0e-838d7fd51894"
      },
      "execution_count": 79,
      "outputs": [
        {
          "output_type": "stream",
          "name": "stdout",
          "text": [
            "_3.6_ *mil_lion_ (66%)* of the to *and* after _the_ cash scarcity period.\n",
            "\n",
            "3.6\n",
            "mil_lion_ (66%)\n",
            "lion\n",
            "and\n",
            "the\n"
          ]
        }
      ]
    },
    {
      "cell_type": "code",
      "source": [
        "text_effect_para_dict"
      ],
      "metadata": {
        "colab": {
          "base_uri": "https://localhost:8080/"
        },
        "id": "i3K_eEenmqlf",
        "outputId": "508c6f12-93a8-416a-b480-93ffb68a027f"
      },
      "execution_count": 78,
      "outputs": [
        {
          "output_type": "execute_result",
          "data": {
            "text/plain": [
              "{0: '3.6', 6: 'mil_lion_ (66%)', 3: 'lion', 34: 'and', 46: 'the'}"
            ]
          },
          "metadata": {},
          "execution_count": 78
        }
      ]
    },
    {
      "cell_type": "code",
      "source": [
        "re.split('\\n{2}', sample_jira_text)"
      ],
      "metadata": {
        "id": "pc5Br39R06Ke",
        "colab": {
          "base_uri": "https://localhost:8080/"
        },
        "outputId": "e08e5250-e61a-47eb-a45b-e39568c1ce7e"
      },
      "execution_count": 33,
      "outputs": [
        {
          "output_type": "execute_result",
          "data": {
            "text/plain": [
              "['h2. -Carried- out an +analysis+ to _identify_ {{customers}} who carried out POS/WEB (card) transactions during the period of cash scarcity but subsequently stopped transacting on this channel and map out the transactional behaviour of these customers prior to and during cash scarcity.',\n",
              " '*Definition of Terms*',\n",
              " '* Cash scarcity period: November 2022 to March 2023 (150 days)\\n** 6 months prior to cash scarcity: May 2022 to October 2022 (180 days)\\n* Period after cash scarcity: April 2023 to May 2023 (60 days)\\n**** Period after cash scarcity: April 2023 to May 2023 (60 days)',\n",
              " '# test number 1\\n#* test number 11\\n#* test number 11\\n# test number 2\\n## test number 2',\n",
              " '*Key Highlights:*',\n",
              " '* Customers transactional behaviour before, during and after cash scarcity',\n",
              " '||Period||Transacted before, during {color:#ff5630}AND {color}after cash scarcity||Transacted during cash scarcity {color:#ff5630}BUT {color}stopped after cash scarcity||{color:#ff5630}STARTED {color}transacting during cash scarcity {color:#ff5630}AND {color}continued afterwards||\\n|Distinct Card Holders|3,674,893|{color:#ff5630}*1,310,454*{color}|602,235|',\n",
              " '||* go\\n* be||\\n| |\\n| |',\n",
              " '\\n* *3.6 million (66%)* of the customers who completed card transactions during the cash scarcity period also carried out transactions prior to and after the cash scarcity period.\\n* *23% (1.31 million)* of the customers who carried out POS/WEB transactions during cash scarcity stopped card transactions at the end of the cash scarcity period\\n* Customers with POS/WEB transactions during cash scarcity but not after cash scarcity',\n",
              " '||Period||Transacted prior to AND during cash scarcity BUT subsequently stopped||Transacted only during cash scarcity, NOT before or after cash scarcity||% of customers who transacted only during cash scarcity||\\n|Distinct Card Holders|{color:#36b37e}1,030,063 {color}|{color:#ff991f}280,391{color}|{color:#ff991f}21%{color}|',\n",
              " '* *79% (1.03 of 1.31 million)* of these customers also carried out POS/WEB transactions in the 6 months prior to cash scarcity which means that they regularly transacted using their cards regardless of cash scarcity.-']"
            ]
          },
          "metadata": {},
          "execution_count": 33
        }
      ]
    },
    {
      "cell_type": "code",
      "source": [],
      "metadata": {
        "id": "kgpGUPOl06IJ"
      },
      "execution_count": 11,
      "outputs": []
    },
    {
      "cell_type": "code",
      "source": [],
      "metadata": {
        "id": "4SHuMCGy06F1"
      },
      "execution_count": null,
      "outputs": []
    },
    {
      "cell_type": "code",
      "source": [],
      "metadata": {
        "id": "0KhGz7oL06Dh"
      },
      "execution_count": null,
      "outputs": []
    },
    {
      "cell_type": "code",
      "source": [],
      "metadata": {
        "id": "S20wgDP906BG"
      },
      "execution_count": null,
      "outputs": []
    },
    {
      "cell_type": "code",
      "source": [],
      "metadata": {
        "id": "BfWuygMp05-d"
      },
      "execution_count": null,
      "outputs": []
    },
    {
      "cell_type": "code",
      "source": [],
      "metadata": {
        "id": "tqq3zDEx0577"
      },
      "execution_count": null,
      "outputs": []
    },
    {
      "cell_type": "code",
      "source": [
        "\n",
        "tl = '\\n# test number 1\\n#* test number 11\\n#* test number 11\\n# test number 2\\n## test number 2'\n",
        "pattern_list = r'(\\n)*([\\*|\\-|\\#]+)\\s{1}(.*?)(?:$|\\n)'\n",
        "re.findall(pattern_list, tl)"
      ],
      "metadata": {
        "id": "U-Y1Ldib055Q"
      },
      "execution_count": null,
      "outputs": []
    },
    {
      "cell_type": "code",
      "source": [
        "re.match('^[*#-]+.*$', '''# test number 1\n",
        "#* test number 11\n",
        "#* test number 11\n",
        "# test number 2\n",
        "## test number 2''', re.DOTALL)"
      ],
      "metadata": {
        "id": "ZTOfsv4R05zs"
      },
      "execution_count": null,
      "outputs": []
    },
    {
      "cell_type": "code",
      "source": [
        "table_header_pattern = r'[^\\|]+(?=\\|\\|)'"
      ],
      "metadata": {
        "id": "-KPM57y105wp"
      },
      "execution_count": null,
      "outputs": []
    },
    {
      "cell_type": "code",
      "source": [
        "import re\n",
        "\n",
        "text = '''||Heading 1\n",
        "* first\n",
        "* second||Heading 2||\n",
        "|* Item 1\n",
        "* Item 2\n",
        "* Item 3|# Item 1\n",
        "# Item 2\n",
        "# Item 3|'''\n",
        "\n",
        "# regex_pattern = r'[\\|\\|]+([^\\|]*)[\\|\\|]+'\n",
        "regex_pattern = r'\\|\\|.*\\|\\|'\n",
        "\n",
        "matches = re.findall(regex_pattern, sample_jira_text, re.DOTALL)\n",
        "print(\"Captured text:\", matches)"
      ],
      "metadata": {
        "colab": {
          "base_uri": "https://localhost:8080/"
        },
        "id": "blsi1yZdNu3W",
        "outputId": "7b48e62f-4afc-462b-ef3e-5d9f22ed0c03"
      },
      "execution_count": null,
      "outputs": [
        {
          "output_type": "stream",
          "name": "stdout",
          "text": [
            "Captured text: ['||Period||Transacted before, during {color:#ff5630}AND {color}after cash scarcity||Transacted during cash scarcity {color:#ff5630}BUT {color}stopped after cash scarcity||{color:#ff5630}STARTED {color}transacting during cash scarcity {color:#ff5630}AND {color}continued afterwards||\\n|Distinct Card Holders|3,674,893|{color:#ff5630}*1,310,454*{color}|602,235|\\n\\n||* go\\n* be||\\n| |\\n| |\\n\\n\\n* *3.6 million (66%)* of the customers who completed card transactions during the cash scarcity period also carried out transactions prior to and after the cash scarcity period. \\n* *23% (1.31 million)* of the customers who carried out POS/WEB transactions during cash scarcity stopped card transactions at the end of the cash scarcity period\\n* Customers with POS/WEB transactions during cash scarcity but not after cash scarcity\\n\\n||Period||Transacted prior to AND during cash scarcity BUT subsequently stopped||Transacted only during cash scarcity, NOT before or after cash scarcity||% of customers who transacted only during cash scarcity||']\n"
          ]
        }
      ]
    },
    {
      "cell_type": "code",
      "source": [
        "import re\n",
        "\n",
        "text = '''||Heading 1||Heading 2||\n",
        "|* Item 1\n",
        "* Item 2\n",
        "* Item 3|# Item 1\n",
        "# Item 2\n",
        "# Item 3|'''\n",
        "\n",
        "regex_pattern = r'\\|\\|([^|]+)\\|\\|\\n((?:.*\\n)*)'\n",
        "\n",
        "match = re.search(regex_pattern, text)\n",
        "if match:\n",
        "    captured_heading1 = match.group(1)\n",
        "    captured_heading2 = match.group(2)\n",
        "    print(\"Heading 1:\", captured_heading1)\n",
        "    print(\"Heading 2:\\n\", captured_heading2)\n",
        "else:\n",
        "    print(\"No match found\")"
      ],
      "metadata": {
        "colab": {
          "base_uri": "https://localhost:8080/"
        },
        "id": "luHPFkMSPzzM",
        "outputId": "5462872d-bcef-400d-8c07-0e4d520bfed7"
      },
      "execution_count": null,
      "outputs": [
        {
          "output_type": "stream",
          "name": "stdout",
          "text": [
            "Heading 1: Heading 2\n",
            "Heading 2:\n",
            " |* Item 1\n",
            "* Item 2\n",
            "* Item 3|# Item 1\n",
            "# Item 2\n",
            "\n"
          ]
        }
      ]
    },
    {
      "cell_type": "code",
      "source": [
        "sample_jira_text"
      ],
      "metadata": {
        "colab": {
          "base_uri": "https://localhost:8080/",
          "height": 143
        },
        "id": "cy6H_3Mzp_-V",
        "outputId": "77b436a4-e119-47ac-b6e5-af06eebb5e45"
      },
      "execution_count": null,
      "outputs": [
        {
          "output_type": "execute_result",
          "data": {
            "text/plain": [
              "'h2. -Carried- out an +analysis+ to _identify_ {{customers}} who carried out POS/WEB (card) transactions during the period of cash scarcity but subsequently stopped transacting on this channel and map out the transactional behaviour of these customers prior to and during cash scarcity. \\n\\n*Definition of Terms*\\n\\n* Cash scarcity period: November 2022 to March 2023 (150 days) \\n** 6 months prior to cash scarcity: May 2022 to October 2022 (180 days) \\n* Period after cash scarcity: April 2023 to May 2023 (60 days)\\n**** Period after cash scarcity: April 2023 to May 2023 (60 days)\\n\\n# test number 1\\n#* test number 11\\n#* test number 11\\n# test number 2\\n## test number 2\\n\\n*Key Highlights:*\\n\\n* Customers transactional behaviour before, during and after cash scarcity\\n\\n||Period||Transacted before, during {color:#ff5630}AND {color}after cash scarcity||Transacted during cash scarcity {color:#ff5630}BUT {color}stopped after cash scarcity||{color:#ff5630}STARTED {color}transacting during cash scarcity {color:#ff5630}AND {color}continued afterwards||\\n|Distinct Card Holders|3,674,893|{color:#ff5630}*1,310,454*{color}|602,235|\\n\\n||* go\\n* be||\\n| |\\n| |\\n\\n\\n* *3.6 million (66%)* of the customers who completed card transactions during the cash scarcity period also carried out transactions prior to and after the cash scarcity period. \\n* *23% (1.31 million)* of the customers who carried out POS/WEB transactions during cash scarcity stopped card transactions at the end of the cash scarcity period\\n* Customers with POS/WEB transactions during cash scarcity but not after cash scarcity\\n\\n||Period||Transacted prior to AND during cash scarcity BUT subsequently stopped||Transacted only during cash scarcity, NOT before or after cash scarcity||% of customers who transacted only during cash scarcity||\\n|Distinct Card Holders|{color:#36b37e}1,030,063 {color}|{color:#ff991f}280,391{color}|{color:#ff991f}21%{color}|\\n\\n* *79% (1.03 of 1.31 million)* of these customers also carried out POS/WEB transactions in the 6 months prior to cash scarcity which means that they regularly transacted using their cards regardless of cash scarcity.-'"
            ],
            "application/vnd.google.colaboratory.intrinsic+json": {
              "type": "string"
            }
          },
          "metadata": {},
          "execution_count": 2
        }
      ]
    },
    {
      "cell_type": "code",
      "source": [
        "lines = sample_jira_text.split('\\n')"
      ],
      "metadata": {
        "id": "KL-4_NzlURsn"
      },
      "execution_count": null,
      "outputs": []
    },
    {
      "cell_type": "code",
      "source": [
        "lines"
      ],
      "metadata": {
        "colab": {
          "base_uri": "https://localhost:8080/"
        },
        "id": "-TkFQz-XHa42",
        "outputId": "33e34d2d-fa0c-4397-89ce-57e1f0444d72"
      },
      "execution_count": null,
      "outputs": [
        {
          "output_type": "execute_result",
          "data": {
            "text/plain": [
              "['h2. -Carried- out an +analysis+ to _identify_ {{customers}} who carried out POS/WEB (card) transactions during the period of cash scarcity but subsequently stopped transacting on this channel and map out the transactional behaviour of these customers prior to and during cash scarcity. ',\n",
              " '',\n",
              " '*Definition of Terms*',\n",
              " '',\n",
              " '* Cash scarcity period: November 2022 to March 2023 (150 days) ',\n",
              " '** 6 months prior to cash scarcity: May 2022 to October 2022 (180 days) ',\n",
              " '* Period after cash scarcity: April 2023 to May 2023 (60 days)',\n",
              " '**** Period after cash scarcity: April 2023 to May 2023 (60 days)',\n",
              " '',\n",
              " '# test number 1',\n",
              " '#* test number 11',\n",
              " '#* test number 11',\n",
              " '# test number 2',\n",
              " '## test number 2',\n",
              " '',\n",
              " '*Key Highlights:*',\n",
              " '',\n",
              " '* Customers transactional behaviour before, during and after cash scarcity',\n",
              " '',\n",
              " '||Period||Transacted before, during {color:#ff5630}AND {color}after cash scarcity||Transacted during cash scarcity {color:#ff5630}BUT {color}stopped after cash scarcity||{color:#ff5630}STARTED {color}transacting during cash scarcity {color:#ff5630}AND {color}continued afterwards||',\n",
              " '|Distinct Card Holders|3,674,893|{color:#ff5630}*1,310,454*{color}|602,235|',\n",
              " '',\n",
              " '||* go',\n",
              " '* be||',\n",
              " '| |',\n",
              " '| |',\n",
              " '',\n",
              " '',\n",
              " '* *3.6 million (66%)* of the customers who completed card transactions during the cash scarcity period also carried out transactions prior to and after the cash scarcity period. ',\n",
              " '* *23% (1.31 million)* of the customers who carried out POS/WEB transactions during cash scarcity stopped card transactions at the end of the cash scarcity period',\n",
              " '* Customers with POS/WEB transactions during cash scarcity but not after cash scarcity',\n",
              " '',\n",
              " '||Period||Transacted prior to AND during cash scarcity BUT subsequently stopped||Transacted only during cash scarcity, NOT before or after cash scarcity||% of customers who transacted only during cash scarcity||',\n",
              " '|Distinct Card Holders|{color:#36b37e}1,030,063 {color}|{color:#ff991f}280,391{color}|{color:#ff991f}21%{color}|',\n",
              " '',\n",
              " '* *79% (1.03 of 1.31 million)* of these customers also carried out POS/WEB transactions in the 6 months prior to cash scarcity which means that they regularly transacted using their cards regardless of cash scarcity.-']"
            ]
          },
          "metadata": {},
          "execution_count": 6
        }
      ]
    },
    {
      "cell_type": "code",
      "source": [
        "cur_line = lines[0]\n",
        "# print(cur_line)\n",
        "pattern_heading = r'^h([1-6])\\.(.*)'\n",
        "re.match(pattern_heading, cur_line).groups()"
      ],
      "metadata": {
        "colab": {
          "base_uri": "https://localhost:8080/"
        },
        "id": "bmWyOao3SsR6",
        "outputId": "10054259-4081-490f-9369-64627f1698f2"
      },
      "execution_count": null,
      "outputs": [
        {
          "output_type": "execute_result",
          "data": {
            "text/plain": [
              "('2',\n",
              " ' -Carried- out an +analysis+ to _identify_ {{customers}} who carried out POS/WEB (card) transactions during the period of cash scarcity but subsequently stopped transacting on this channel and map out the transactional behaviour of these customers prior to and during cash scarcity. ')"
            ]
          },
          "metadata": {},
          "execution_count": 20
        }
      ]
    },
    {
      "cell_type": "code",
      "source": [
        "line = lines[9]\n",
        "print(line)\n",
        "pattern_list = r'^([\\*]+|[\\-]+|[\\#]+)\\s{1}(.*)'\n",
        "re.findall(pattern_list, '### test number 1')#.groups()"
      ],
      "metadata": {
        "colab": {
          "base_uri": "https://localhost:8080/"
        },
        "id": "1g3Y0-zRSsPC",
        "outputId": "66c79733-19c5-4868-e441-f02aad39666f"
      },
      "execution_count": null,
      "outputs": [
        {
          "output_type": "stream",
          "name": "stdout",
          "text": [
            "# test number 1\n"
          ]
        },
        {
          "output_type": "execute_result",
          "data": {
            "text/plain": [
              "[('###', 'test number 1')]"
            ]
          },
          "metadata": {},
          "execution_count": 21
        }
      ]
    },
    {
      "cell_type": "code",
      "source": [
        "re.findall(r'^([\\*]+|[\\-]+)\\s{1}(.*)', '-- Cash scarcity period: November 2022 to March 2023 (150 days) ')"
      ],
      "metadata": {
        "colab": {
          "base_uri": "https://localhost:8080/"
        },
        "id": "M0HZFz-j5yCD",
        "outputId": "1195e5f0-7b57-436a-d6e2-7f99997dcded"
      },
      "execution_count": null,
      "outputs": [
        {
          "output_type": "execute_result",
          "data": {
            "text/plain": [
              "[('--', 'Cash scarcity period: November 2022 to March 2023 (150 days) ')]"
            ]
          },
          "metadata": {},
          "execution_count": 22
        }
      ]
    },
    {
      "cell_type": "code",
      "source": [
        "# re.match(r'(\\|\\|[^\\|]*\\|\\|)', '||heading 1||heading 2||heading 3||').groups()\n",
        "re.match(r'\\|\\|([^\\|]*)\\|\\|', '||heading 1||heading 2||heading 3||').groups()\n",
        "re.findall(r'([^\\|]+)[\\|\\|]+', '||heading 1|heading 2||heading 3||')\n",
        "# re.findall(r'[^\\|]+(?=\\|\\|)', '||heading 1||heading 2||heading 3||')"
      ],
      "metadata": {
        "colab": {
          "base_uri": "https://localhost:8080/"
        },
        "id": "ubcV41ZMEh8c",
        "outputId": "28e93618-1a32-4e77-db9f-a6767b9ac3ec"
      },
      "execution_count": null,
      "outputs": [
        {
          "output_type": "execute_result",
          "data": {
            "text/plain": [
              "['heading 1', 'heading 2', 'heading 3']"
            ]
          },
          "metadata": {},
          "execution_count": 23
        }
      ]
    },
    {
      "cell_type": "code",
      "source": [
        "re.split(r'[\\|\\|]+', '|heading 1|heading 2||heading 3||')"
      ],
      "metadata": {
        "colab": {
          "base_uri": "https://localhost:8080/"
        },
        "id": "mMJ-5RYCP7t0",
        "outputId": "9f18c238-1ace-46b3-9646-31a09f74db57"
      },
      "execution_count": null,
      "outputs": [
        {
          "output_type": "execute_result",
          "data": {
            "text/plain": [
              "['', 'heading 1', 'heading 2', 'heading 3', '']"
            ]
          },
          "metadata": {},
          "execution_count": 24
        }
      ]
    },
    {
      "cell_type": "code",
      "source": [
        "import re\n",
        "\n",
        "text = '||heading 1||heading 2||heading 3||'\n",
        "\n",
        "regex_pattern = r'\\|\\|(.*?)\\|\\|'\n",
        "\n",
        "matches = re.findall(regex_pattern, text)\n",
        "print(\"Captured text:\", matches)\n"
      ],
      "metadata": {
        "colab": {
          "base_uri": "https://localhost:8080/"
        },
        "id": "GtGsYMk6GKcE",
        "outputId": "0469813e-81e8-4873-da68-2a0e4b9864d3"
      },
      "execution_count": null,
      "outputs": [
        {
          "output_type": "stream",
          "name": "stdout",
          "text": [
            "Captured text: ['heading 1', 'heading 3']\n"
          ]
        }
      ]
    },
    {
      "cell_type": "code",
      "source": [
        "# Initialize a new Document\n",
        "doc = Document()\n",
        "body_table = doc.add_table(rows=1, cols=1)\n",
        "container = body_table.rows[0].cells[0]\n",
        "\n",
        "def convert_jira_to_docx(jira_text):\n",
        "\n",
        "    # Split the Jira text into separate lines\n",
        "    lines = jira_text.split('\\n')\n",
        "\n",
        "    cur_table = None\n",
        "\n",
        "    # Process each line of Jira text\n",
        "    for line_pos, line in enumerate(lines):\n",
        "        # if it's the first line take the existing paragraph, otherwise, create new one\n",
        "        # para = doc.paragraphs[0] if line_pos == 0 else doc.add_paragraph()\n",
        "        para = container.add_paragraph()\n",
        "\n",
        "        # Skip empty lines\n",
        "        if not line.strip():\n",
        "            para.add_run()\n",
        "            continue\n",
        "\n",
        "        # Check for different Jira elements\n",
        "\n",
        "        # regex patterns\n",
        "        pattern_heading = r'^h([1-6])\\.(.*)'\n",
        "        pattern_list = r'^([\\*|\\-|\\#]+)\\s{1}(.*)'\n",
        "        table_header_pattern = r'[^\\|]+(?=\\|\\|)'\n",
        "\n",
        "        # if wiki element is not a table\n",
        "        if not line.startswith('|'):\n",
        "            cur_table = None\n",
        "\n",
        "        # 1. heading\n",
        "        if re.match(pattern_heading, line):\n",
        "            heading_match = re.match(pattern_heading, line)\n",
        "            heading_number, heading_text = heading_match.groups()\n",
        "            para.style = f'Heading {heading_number}'\n",
        "            para.add_run(text=heading_text)\n",
        "        # 2. list\n",
        "        elif re.match(pattern_list, line):\n",
        "            list_match = re.match(pattern_list, line)\n",
        "            list_type, list_text = list_match.groups()\n",
        "            # issue 1: couldn't resolve the round and square bullets differently\n",
        "            # issue 2: find a way of decorating nested lists with different point styles\n",
        "            # issue 3: sublevel list have unwanted top space to their parent list\n",
        "            max_list_level = 3\n",
        "            style_name = 'List Bullet'\n",
        "            if list_type[:max_list_level][-1] == '#':\n",
        "                style_name = \"List Number\"\n",
        "            para.style = f'{style_name} {str(min(len(list_type), max_list_level)) if len(list_type) > 1 else \"\"}'.strip()\n",
        "            para.add_run(text = list_text)\n",
        "        # 3. table\n",
        "        elif line.startswith('|'):\n",
        "            header_texts = re.split(r'[\\|\\|]+', line)\n",
        "            if header_texts:\n",
        "              # header_texts = re.findall(table_header_pattern, line)\n",
        "              n_cols = len(header_texts)\n",
        "\n",
        "              # Create a table\n",
        "              if not cur_table:\n",
        "                  cur_table = doc.add_table(rows=1, cols=n_cols)\n",
        "                  cur_table.style = 'Table Grid'\n",
        "                  cur_row = cur_table.rows[0]\n",
        "              else:\n",
        "                  cur_row = cur_table.add_row()\n",
        "\n",
        "              # populate header row\n",
        "              heading_cells = cur_row.cells\n",
        "              for i in range(len(heading_cells)):\n",
        "                  heading_cells[i].text = header_texts[i]\n",
        "\n",
        "\n",
        "\n",
        "\n",
        "        else:\n",
        "            para.add_run(text=line)\n",
        "\n",
        "    return doc\n",
        "\n",
        "convert_jira_to_docx(sample_jira_text).save('output.docx')"
      ],
      "metadata": {
        "id": "vq7D8izclXLH"
      },
      "execution_count": null,
      "outputs": []
    },
    {
      "cell_type": "code",
      "source": [],
      "metadata": {
        "id": "_Ctp7jcflY3T"
      },
      "execution_count": null,
      "outputs": []
    },
    {
      "cell_type": "code",
      "source": [],
      "metadata": {
        "id": "zAKFrik7lYxV"
      },
      "execution_count": null,
      "outputs": []
    },
    {
      "cell_type": "code",
      "source": [],
      "metadata": {
        "id": "xC83t7mKlYuv"
      },
      "execution_count": null,
      "outputs": []
    },
    {
      "cell_type": "code",
      "source": [],
      "metadata": {
        "id": "E1Jh2Mm_lYp9"
      },
      "execution_count": null,
      "outputs": []
    },
    {
      "cell_type": "code",
      "source": [],
      "metadata": {
        "id": "GEnFFJrNlYnY"
      },
      "execution_count": null,
      "outputs": []
    },
    {
      "cell_type": "code",
      "source": [],
      "metadata": {
        "id": "zUKuAZQLlYkz"
      },
      "execution_count": null,
      "outputs": []
    },
    {
      "cell_type": "code",
      "source": [],
      "metadata": {
        "id": "ceE8w-b9lYh8"
      },
      "execution_count": null,
      "outputs": []
    },
    {
      "cell_type": "code",
      "source": [],
      "metadata": {
        "id": "WCYUYLzrlYfW"
      },
      "execution_count": null,
      "outputs": []
    },
    {
      "cell_type": "code",
      "source": [],
      "metadata": {
        "id": "uJ_i_bDhlYcO"
      },
      "execution_count": null,
      "outputs": []
    },
    {
      "cell_type": "code",
      "source": [],
      "metadata": {
        "id": "SddBKJBTlYW_"
      },
      "execution_count": null,
      "outputs": []
    },
    {
      "cell_type": "code",
      "source": [],
      "metadata": {
        "id": "gE5BDis1lYUY"
      },
      "execution_count": null,
      "outputs": []
    },
    {
      "cell_type": "code",
      "source": [],
      "metadata": {
        "id": "qH-1q7eUlYRy"
      },
      "execution_count": null,
      "outputs": []
    },
    {
      "cell_type": "code",
      "source": [],
      "metadata": {
        "id": "gZghvJuqlYO3"
      },
      "execution_count": null,
      "outputs": []
    },
    {
      "cell_type": "code",
      "source": [],
      "metadata": {
        "id": "-bTb7THWlYLr"
      },
      "execution_count": null,
      "outputs": []
    },
    {
      "cell_type": "code",
      "source": [
        "# Initialize a new Document\n",
        "doc = Document()\n",
        "\n",
        "def convert_jira_to_docx(jira_text):\n",
        "\n",
        "    # Split the Jira text into separate lines\n",
        "    lines = jira_text.split('\\n')\n",
        "\n",
        "    cur_table = None\n",
        "\n",
        "    # Process each line of Jira text\n",
        "    for line_pos, line in enumerate(lines):\n",
        "        # if it's the first line take the existing paragraph, otherwise, create new one\n",
        "        # para = doc.paragraphs[0] if line_pos == 0 else doc.add_paragraph()\n",
        "        para = doc.add_paragraph()\n",
        "\n",
        "        # Skip empty lines\n",
        "        if not line.strip():\n",
        "            para.add_run()\n",
        "            continue\n",
        "\n",
        "        # Check for different Jira elements\n",
        "\n",
        "        # regex patterns\n",
        "        pattern_heading = r'^h([1-6])\\.(.*)'\n",
        "        # pattern_list = r'^([\\*]+|[\\-]+|[\\#]+)\\s{1}(.*)'\n",
        "        pattern_list = r'^([\\*|\\-|\\#]+)\\s{1}(.*)'\n",
        "        table_header_pattern = r'[^\\|]+(?=\\|\\|)'\n",
        "\n",
        "        # 1. heading\n",
        "        if line.startswith(re.match(pattern_heading, line):\n",
        "            re.split(r'[\\|\\|]+', '|heading 1|heading 2||heading 3||')\n",
        "            heading_match = re.match(pattern_heading, line)\n",
        "            heading_number, heading_text = heading_match.groups()\n",
        "            para.style = f'Heading {heading_number}'\n",
        "            para.add_run(text=heading_text)\n",
        "        # 2. list\n",
        "        elif re.match(pattern_list, line):\n",
        "            list_match = re.match(pattern_list, line)\n",
        "            list_type, list_text = list_match.groups()\n",
        "            # issue 1: couldn't resolve the round and square bullets differently\n",
        "            # issue 2: find a way of decorating nested lists with different point styles\n",
        "            # issue 3: sublevel list have unwanted top space to their parent list\n",
        "            max_list_level = 3\n",
        "            style_name = 'List Bullet'\n",
        "            if list_type[:max_list_level][-1] == '#':\n",
        "                style_name = \"List Number\"\n",
        "            para.style = f'{style_name} {str(min(len(list_type), max_list_level)) if len(list_type) > 1 else \"\"}'.strip()\n",
        "            para.add_run(text = list_text)\n",
        "        elif re.findall(table_header_pattern, line):\n",
        "            header_texts = re.findall(table_header_pattern, line)\n",
        "            n_cols = len(header_texts)\n",
        "\n",
        "            # Create a table\n",
        "            if not cur_table:\n",
        "              cur_table = doc.add_table(rows=1, cols=n_cols)\n",
        "              cur_table.style = 'Table Grid'\n",
        "\n",
        "            # populate header row --------\n",
        "            heading_cells = cur_table.rows[0].cells\n",
        "            for i in range(len(heading_cells)):\n",
        "                heading_cells[i].text = header_texts[i]\n",
        "\n",
        "\n",
        "            # # Set alignment to cell\n",
        "            # # table.cell(0, 0).vertical_alignment = WD_ALIGN_VERTICAL.CENTER\n",
        "\n",
        "            # # Add image to the first column\n",
        "            # table.cell(0, 0).paragraphs[0].add_run().add_picture(LOGO_PATH, width = LOGO_WIDTH)\n",
        "\n",
        "            # # Add the text lines to the cell\n",
        "            # # line 1\n",
        "            # para1 = table.cell(0, 1).paragraphs[0]\n",
        "            # para1.paragraph_format.line_spacing_rule = WD_LINE_SPACING.SINGLE\n",
        "            # para1.paragraph_format.space_after = Pt(0)\n",
        "            # run1 = para1.add_run('Group Data Analytics Weekly Report')\n",
        "            # run1.font.size = Pt(16)\n",
        "            # # line 2\n",
        "            # para2 = table.cell(0, 1).add_paragraph(f'Activities for the Week ({convert_date_to_weekly_report_format(REPORT_FROM)} - {convert_date_to_weekly_report_format(REPORT_TO)})')\n",
        "            # run2 = para2.runs[0]\n",
        "            # run2.font.color.rgb = DOC_PRIMARY_COLOR # Set orange color\n",
        "            # run2.font.size = Pt(14) # Set font size to 12 points\n",
        "            # run2.font.bold = True\n",
        "\n",
        "\n",
        "        else:\n",
        "            para.add_run(text=line)\n",
        "\n",
        "    return doc\n",
        "\n",
        "convert_jira_to_docx(sample_jira_text).save('output.docx')"
      ],
      "metadata": {
        "id": "x3TL7M6-J_n4"
      },
      "execution_count": null,
      "outputs": []
    },
    {
      "cell_type": "code",
      "source": [
        "\n",
        "# # Set alignment to cell\n",
        "# # table.cell(0, 0).vertical_alignment = WD_ALIGN_VERTICAL.CENTER\n",
        "\n",
        "# # Add image to the first column\n",
        "# table.cell(0, 0).paragraphs[0].add_run().add_picture(LOGO_PATH, width = LOGO_WIDTH)\n",
        "\n",
        "# # Add the text lines to the cell\n",
        "# # line 1\n",
        "# para1 = table.cell(0, 1).paragraphs[0]\n",
        "# para1.paragraph_format.line_spacing_rule = WD_LINE_SPACING.SINGLE\n",
        "# para1.paragraph_format.space_after = Pt(0)\n",
        "# run1 = para1.add_run('Group Data Analytics Weekly Report')\n",
        "# run1.font.size = Pt(16)\n",
        "# # line 2\n",
        "# para2 = table.cell(0, 1).add_paragraph(f'Activities for the Week ({convert_date_to_weekly_report_format(REPORT_FROM)} - {convert_date_to_weekly_report_format(REPORT_TO)})')\n",
        "# run2 = para2.runs[0]\n",
        "# run2.font.color.rgb = DOC_PRIMARY_COLOR # Set orange color\n",
        "# run2.font.size = Pt(14) # Set font size to 12 points\n",
        "# run2.font.bold = True"
      ],
      "metadata": {
        "id": "ob8JPGMrOGMJ"
      },
      "execution_count": null,
      "outputs": []
    },
    {
      "cell_type": "code",
      "source": [],
      "metadata": {
        "id": "-I8iLMf4OGI_"
      },
      "execution_count": null,
      "outputs": []
    },
    {
      "cell_type": "code",
      "source": [
        "# apply text efffects here\n"
      ],
      "metadata": {
        "id": "uAU5a0BrJ_qg"
      },
      "execution_count": null,
      "outputs": []
    },
    {
      "cell_type": "code",
      "source": [],
      "metadata": {
        "id": "5DYX6EwdJ_s0"
      },
      "execution_count": null,
      "outputs": []
    },
    {
      "cell_type": "code",
      "source": [],
      "metadata": {
        "id": "FEKZ4eX1J_vK"
      },
      "execution_count": null,
      "outputs": []
    },
    {
      "cell_type": "code",
      "source": [],
      "metadata": {
        "id": "yE4bXObcwQah"
      },
      "execution_count": null,
      "outputs": []
    },
    {
      "cell_type": "code",
      "source": [],
      "metadata": {
        "id": "oGEf_sCvwQXo"
      },
      "execution_count": null,
      "outputs": []
    },
    {
      "cell_type": "code",
      "source": [],
      "metadata": {
        "id": "Q6fkKhOmwQVj"
      },
      "execution_count": null,
      "outputs": []
    },
    {
      "cell_type": "code",
      "source": [],
      "metadata": {
        "id": "Pff9x9puwQS_"
      },
      "execution_count": null,
      "outputs": []
    },
    {
      "cell_type": "code",
      "source": [],
      "metadata": {
        "id": "a8HM_HuawQRJ"
      },
      "execution_count": null,
      "outputs": []
    },
    {
      "cell_type": "code",
      "source": [],
      "metadata": {
        "id": "n3QoWLoywQOy"
      },
      "execution_count": null,
      "outputs": []
    },
    {
      "cell_type": "code",
      "source": [],
      "metadata": {
        "id": "4n_XipbLwQMb"
      },
      "execution_count": null,
      "outputs": []
    },
    {
      "cell_type": "code",
      "source": [],
      "metadata": {
        "id": "b6qauY7_wQKG"
      },
      "execution_count": null,
      "outputs": []
    },
    {
      "cell_type": "code",
      "source": [],
      "metadata": {
        "id": "toDqt6ZewQHx"
      },
      "execution_count": null,
      "outputs": []
    },
    {
      "cell_type": "code",
      "source": [],
      "metadata": {
        "id": "Ue0o9x2VwQFK"
      },
      "execution_count": null,
      "outputs": []
    },
    {
      "cell_type": "code",
      "source": [],
      "metadata": {
        "id": "-P7GCq-qwQCy"
      },
      "execution_count": null,
      "outputs": []
    },
    {
      "cell_type": "code",
      "source": [],
      "metadata": {
        "id": "p5idxwM1wP_7"
      },
      "execution_count": null,
      "outputs": []
    },
    {
      "cell_type": "code",
      "source": [
        "# Initialize a new Document\n",
        "doc = Document()\n",
        "\n",
        "def convert_jira_to_docx(jira_text):\n",
        "\n",
        "    # Split the Jira text into separate lines\n",
        "    lines = jira_text.split('\\n')\n",
        "\n",
        "    # # Track if we are currently inside a table\n",
        "    # inside_table = False\n",
        "    # table = None\n",
        "    # table_rows = []\n",
        "\n",
        "    # Process each line of Jira text\n",
        "    for line_pos, line in enumerate(lines):\n",
        "        # if it's the first line take the existing paragraph, otherwise, create new one\n",
        "        para = doc.paragraphs[line_pos] if line_pos == 0 else doc.add_paragraph()\n",
        "        # Skip empty lines\n",
        "        if not line.strip():\n",
        "            para.add_run()\n",
        "            continue\n",
        "\n",
        "        # Check for different Jira elements\n",
        "        if line.startswith(\"h1.\"):\n",
        "            # Heading 1\n",
        "            # heading_text = line.replace(\"h1.\", \"\").strip()\n",
        "            para.add_run(text=line, style=f'Heading {line_pos}')\n",
        "            # doc.add_heading(heading_text, level=1)\n",
        "\n",
        "        elif line.startswith(\"h2.\"):\n",
        "            # Heading 2\n",
        "            heading_text = line.replace(\"h2.\", \"\").strip()\n",
        "            doc.add_heading(heading_text, level=2)\n",
        "\n",
        "        elif line.startswith(\"h3.\"):\n",
        "            # Heading 3\n",
        "            heading_text = line.replace(\"h3.\", \"\").strip()\n",
        "            doc.add_heading(heading_text, level=3)\n",
        "\n",
        "        # elif line.startswith(\"|\"):\n",
        "        #     # Table row\n",
        "        #     cells = [cell.strip() for cell in line.split(\"|\")[1:-1]]\n",
        "        #     table_rows.append(cells)\n",
        "\n",
        "        #     # Check if it's the start of a new table\n",
        "        #     if not inside_table:\n",
        "        #         table = doc.add_table(rows=0, cols=len(cells))\n",
        "        #         table.autofit = False\n",
        "        #         inside_table = True\n",
        "\n",
        "        # elif inside_table and line.startswith(\"||\"):\n",
        "        #     # End of table\n",
        "        #     for row in table_rows:\n",
        "        #         table.add_row().cells = [cell for cell in row]\n",
        "        #     inside_table = False\n",
        "        #     table_rows = []\n",
        "\n",
        "        # else:\n",
        "        #     # Normal paragraph\n",
        "        #     if inside_table:\n",
        "        #         for row in table_rows:\n",
        "        #             table.add_row().cells = [cell for cell in row]\n",
        "        #         inside_table = False\n",
        "        #         table_rows = []\n",
        "\n",
        "        #     p = doc.add_paragraph()\n",
        "        #     p.add_run(line)\n",
        "\n",
        "    return doc\n"
      ],
      "metadata": {
        "id": "D3lY2ldiwP9k"
      },
      "execution_count": null,
      "outputs": []
    },
    {
      "cell_type": "code",
      "source": [],
      "metadata": {
        "id": "05rDaDBOwP6t"
      },
      "execution_count": null,
      "outputs": []
    },
    {
      "cell_type": "code",
      "source": [],
      "metadata": {
        "id": "Jg6IlTQMwP4W"
      },
      "execution_count": null,
      "outputs": []
    },
    {
      "cell_type": "code",
      "source": [],
      "metadata": {
        "id": "0R1yXhVywP1N"
      },
      "execution_count": null,
      "outputs": []
    }
  ]
}