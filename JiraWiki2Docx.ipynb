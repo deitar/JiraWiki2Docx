{
  "nbformat": 4,
  "nbformat_minor": 0,
  "metadata": {
    "colab": {
      "provenance": [],
      "authorship_tag": "ABX9TyMXYIwksWFeqdpix7PEISBJ",
      "include_colab_link": true
    },
    "kernelspec": {
      "name": "python3",
      "display_name": "Python 3"
    },
    "language_info": {
      "name": "python"
    }
  },
  "cells": [
    {
      "cell_type": "markdown",
      "metadata": {
        "id": "view-in-github",
        "colab_type": "text"
      },
      "source": [
        "<a href=\"https://colab.research.google.com/github/deitar/jirawiki2docx/blob/experiment/JiraWiki2Docx.ipynb\" target=\"_parent\"><img src=\"https://colab.research.google.com/assets/colab-badge.svg\" alt=\"Open In Colab\"/></a>"
      ]
    },
    {
      "cell_type": "code",
      "execution_count": null,
      "metadata": {
        "id": "Mw-x5WT-J3JZ"
      },
      "outputs": [],
      "source": []
    },
    {
      "cell_type": "code",
      "source": [
        "!pip install xmltodict\n",
        "!pip install htmldocx\n",
        "!pip install python-docx"
      ],
      "metadata": {
        "id": "S8ShXVHTJ_gE",
        "colab": {
          "base_uri": "https://localhost:8080/"
        },
        "outputId": "f19f27d1-2aa1-4fd2-bfd0-e4d7312b48fa"
      },
      "execution_count": 1,
      "outputs": [
        {
          "output_type": "stream",
          "name": "stdout",
          "text": [
            "Collecting xmltodict\n",
            "  Downloading xmltodict-0.13.0-py2.py3-none-any.whl (10.0 kB)\n",
            "Installing collected packages: xmltodict\n",
            "Successfully installed xmltodict-0.13.0\n",
            "Collecting htmldocx\n",
            "  Downloading htmldocx-0.0.6-py3-none-any.whl (9.5 kB)\n",
            "Requirement already satisfied: python-docx>=0.8.10 in /usr/local/lib/python3.10/dist-packages (from htmldocx) (0.8.11)\n",
            "Requirement already satisfied: beautifulsoup4>=4.7.0 in /usr/local/lib/python3.10/dist-packages (from htmldocx) (4.11.2)\n",
            "Requirement already satisfied: soupsieve>1.2 in /usr/local/lib/python3.10/dist-packages (from beautifulsoup4>=4.7.0->htmldocx) (2.4.1)\n",
            "Requirement already satisfied: lxml>=2.3.2 in /usr/local/lib/python3.10/dist-packages (from python-docx>=0.8.10->htmldocx) (4.9.2)\n",
            "Installing collected packages: htmldocx\n",
            "Successfully installed htmldocx-0.0.6\n",
            "Requirement already satisfied: python-docx in /usr/local/lib/python3.10/dist-packages (0.8.11)\n",
            "Requirement already satisfied: lxml>=2.3.2 in /usr/local/lib/python3.10/dist-packages (from python-docx) (4.9.2)\n"
          ]
        }
      ]
    },
    {
      "cell_type": "code",
      "source": [
        "import os\n",
        "import re\n",
        "from docx import Document\n",
        "from docx.shared import RGBColor\n",
        "from itertools import groupby\n",
        "from enum import Enum\n",
        "import webcolors"
      ],
      "metadata": {
        "id": "Gee-awAnJ_iq"
      },
      "execution_count": 2,
      "outputs": []
    },
    {
      "cell_type": "code",
      "source": [
        "sample_jira_text = '''The best {color:#ff5630}color{color} is one shaded.\n",
        "\n",
        "*Definition of Terms*\n",
        "\n",
        "# test number 1\n",
        "#* test number 11\n",
        "#* test number 11\n",
        "# test number 2\n",
        "## test number 2\n",
        "\n",
        "*Key Highlights:*\n",
        "\n",
        "||* col item 1\n",
        "* col item 2||\n",
        "| |\n",
        "| |\n",
        "\n",
        "h1. Heading 1\n",
        "\n",
        "This is a paragraph.\n",
        "\n",
        "h2. Heading 2\n",
        "\n",
        "* Item 1\n",
        "* Item 2\n",
        "\n",
        "h3. Heading 3\n",
        "\n",
        "||Heading 1||Heading 2||\n",
        "|Cell 1|Cell 2|\n",
        "\n",
        "This is another paragraph.\n",
        "'''\n"
      ],
      "metadata": {
        "id": "czrCjoaoJ_lR"
      },
      "execution_count": 3,
      "outputs": []
    },
    {
      "cell_type": "code",
      "source": [
        "TABLE_STYLE = 'Table Grid'"
      ],
      "metadata": {
        "id": "y0rybD7i3pcU"
      },
      "execution_count": 4,
      "outputs": []
    },
    {
      "cell_type": "code",
      "source": [
        "class JiraWikiBlockTypes(Enum):\n",
        "    LIST = 'list'\n",
        "    HEADING = 'heading'\n",
        "    TABLE = 'table'\n",
        "    CODE = 'code'\n",
        "    QUOTE = 'quote'\n",
        "    PARAGRAPH = 'paragraph'"
      ],
      "metadata": {
        "id": "gkN5DsNIGzkn"
      },
      "execution_count": 5,
      "outputs": []
    },
    {
      "cell_type": "code",
      "source": [
        "def color_name_to_hex(color_name):\n",
        "    try:\n",
        "        # Get the RGB values for the given color name\n",
        "        rgb = webcolors.name_to_rgb(color_name)\n",
        "        # Convert the RGB values to a hex code\n",
        "        hex_code = '#{:02x}{:02x}{:02x}'.format(rgb.red, rgb.green, rgb.blue)\n",
        "        return hex_code\n",
        "    except ValueError:\n",
        "        # Handle the case when an invalid color name is provided\n",
        "        print(\"Invalid color name.\")\n",
        "        return None\n"
      ],
      "metadata": {
        "id": "8H5bS0cKEnXF"
      },
      "execution_count": 6,
      "outputs": []
    },
    {
      "cell_type": "code",
      "source": [
        "def detect_jira_block_type(jira_block):\n",
        "    jira_block_trimmed = jira_block.strip()\n",
        "    marker_heading = r'^h([1-6])\\..*$'\n",
        "    marker_list = '^[*#-]+\\s.*$'\n",
        "    marker_table = '^[||]+.*$'\n",
        "    if re.match(marker_heading, jira_block_trimmed, re.DOTALL):\n",
        "        return JiraWikiBlockTypes.HEADING\n",
        "    if re.match(marker_list, jira_block_trimmed, re.DOTALL):\n",
        "        return JiraWikiBlockTypes.LIST\n",
        "    if re.match(marker_table, jira_block_trimmed, re.DOTALL):\n",
        "        return JiraWikiBlockTypes.TABLE\n",
        "    return JiraWikiBlockTypes.PARAGRAPH"
      ],
      "metadata": {
        "id": "O_u2NSQCJe6K"
      },
      "execution_count": 7,
      "outputs": []
    },
    {
      "cell_type": "code",
      "source": [
        "def get_jira_blocks(jira_text):\n",
        "    return re.split('\\n\\n', jira_text)"
      ],
      "metadata": {
        "id": "3JrDwIe4IjYS"
      },
      "execution_count": 8,
      "outputs": []
    },
    {
      "cell_type": "code",
      "source": [
        "def write_heading_jira_to_doc(text, doc_part_to_write_to):\n",
        "    pattern_heading = r'^h([1-6])\\.(.*)'\n",
        "    heading_match = re.match(pattern_heading, text)\n",
        "    heading_number, heading_text = heading_match.groups()\n",
        "    para = doc_part_to_write_to.add_paragraph()\n",
        "    para.style = f'Heading {heading_number}'\n",
        "    # para.add_run(text=heading_text)\n",
        "    apply_jira_text_effect_to_text_in_docx(heading_text, para)"
      ],
      "metadata": {
        "id": "ML2wArPvKMgl"
      },
      "execution_count": 9,
      "outputs": []
    },
    {
      "cell_type": "code",
      "source": [
        "def write_list_jira_to_doc(text, doc_part_to_write_to):\n",
        "    pattern_list_item = r'^([\\*|\\-|\\#]+)\\s{1}(.*)'\n",
        "    # split block into lines\n",
        "    lines = re.split('\\n', text)\n",
        "    for line in lines:\n",
        "        para = doc_part_to_write_to.add_paragraph()\n",
        "        list_type, list_text = re.match(pattern_list_item, line).groups()\n",
        "        # issue 1: couldn't resolve the round and square bullets differently\n",
        "        # issue 2: find a way of decorating nested lists with different point styles\n",
        "        # issue 3: sublevel list have unwanted top space to their parent list\n",
        "        max_list_level = 3\n",
        "        style_name = \"List Number\" if list_type[:max_list_level][-1] == '#' else 'List Bullet'\n",
        "        style_name = f'{style_name} {str(min(len(list_type), max_list_level)) if len(list_type) > 1 else \"\"}'.strip()\n",
        "        para.style = style_name\n",
        "        apply_jira_text_effect_to_text_in_docx(list_text, para)"
      ],
      "metadata": {
        "id": "gS67XK30LGAk"
      },
      "execution_count": 10,
      "outputs": []
    },
    {
      "cell_type": "code",
      "source": [
        "def delete_paragraph(paragraph):\n",
        "    p = paragraph._element\n",
        "    p.getparent().remove(p)\n",
        "    p._p = p._element = None"
      ],
      "metadata": {
        "id": "WOBPiiQ3b6M-"
      },
      "execution_count": 11,
      "outputs": []
    },
    {
      "cell_type": "code",
      "source": [
        "def write_table_jira_to_doc(text, doc_part_to_write_to):\n",
        "    pattern_table_row = re.compile('^(\\|{1,})(.*?)\\|{1,}$.*?(?=^\\|.*?\\|$|\\Z)', re.DOTALL|re.IGNORECASE|re.MULTILINE)\n",
        "    table = None\n",
        "    n_cols = 0\n",
        "    for row_index, row_match in enumerate(pattern_table_row.finditer(text)):\n",
        "      if row_match:\n",
        "        leading_markup, jira_row_inner_text = row_match.groups()\n",
        "        jira_cells_text = re.split('\\|{1,}', jira_row_inner_text)\n",
        "        if row_index == 0:\n",
        "          n_cols = len(jira_cells_text)\n",
        "          table = doc_part_to_write_to.add_table(rows=1, cols=n_cols)\n",
        "          table.style = TABLE_STYLE\n",
        "        else:\n",
        "          table.add_row()\n",
        "\n",
        "        # write to the row columns\n",
        "        for c in range(n_cols):\n",
        "          delete_paragraph(table.rows[row_index].cells[c].paragraphs[0]) # remove the default paragraph in a table cell\n",
        "          write_jira_block_to_doc(jira_cells_text[c], table.rows[row_index].cells[c])\n"
      ],
      "metadata": {
        "id": "0-S4HWAdBTh7"
      },
      "execution_count": 12,
      "outputs": []
    },
    {
      "cell_type": "code",
      "source": [
        "def write_generic_jira_to_doc(text, doc_part_to_write_to):\n",
        "    para = doc_part_to_write_to.add_paragraph()\n",
        "    apply_jira_text_effect_to_text_in_docx(text, para)"
      ],
      "metadata": {
        "id": "rgZRzxI8Lov6"
      },
      "execution_count": 13,
      "outputs": []
    },
    {
      "cell_type": "code",
      "source": [
        "prev_jira_block_type = None\n",
        "\n",
        "def write_jira_block_to_doc(jira_block, doc):\n",
        "\n",
        "    global prev_jira_block_type\n",
        "\n",
        "    # handle leading new lines\n",
        "    # actual_jira_block is jira block without leading new lines characters\n",
        "    new_lines, actual_jira_block = re.match('(\\n*)(.*)', jira_block, re.DOTALL).groups()\n",
        "    num_new_lines = new_lines.count('\\n')\n",
        "\n",
        "    # add new lines by occurence\n",
        "    for i in range(num_new_lines):\n",
        "        para = doc.add_paragraph()\n",
        "        para.add_run()\n",
        "\n",
        "    actual_jira_block_type = detect_jira_block_type(actual_jira_block)\n",
        "    # 1. heading\n",
        "    if actual_jira_block_type == JiraWikiBlockTypes.HEADING:\n",
        "        write_heading_jira_to_doc(actual_jira_block, doc)\n",
        "    # 2. list\n",
        "    elif actual_jira_block_type == JiraWikiBlockTypes.LIST:\n",
        "        write_list_jira_to_doc(actual_jira_block, doc)\n",
        "    # 3. table\n",
        "    elif actual_jira_block_type == JiraWikiBlockTypes.TABLE:\n",
        "        # add a extea line if the previous element is table\n",
        "        if prev_jira_block_type and prev_jira_block_type == JiraWikiBlockTypes.TABLE:\n",
        "            doc.add_paragraph()\n",
        "        write_table_jira_to_doc(actual_jira_block, doc)\n",
        "    # 4. any other\n",
        "    else:\n",
        "        write_generic_jira_to_doc(actual_jira_block, doc)\n",
        "\n",
        "    prev_jira_block_type = actual_jira_block_type\n"
      ],
      "metadata": {
        "id": "sYkOYtjW0rHs"
      },
      "execution_count": 14,
      "outputs": []
    },
    {
      "cell_type": "code",
      "source": [
        "def detect_jira_text_effects(text):\n",
        "  text_effect_para_dict = {} # Dictionary to store detected text effects\n",
        "\n",
        "  def detect_effects_recursive(text, parent_key = None):\n",
        "\n",
        "    # Regular expressions for detecting various Jira text effects\n",
        "\n",
        "    # Strong effect: Text enclosed in asterisks (*) with no space after the start or before the end.\n",
        "    pattern_strong_effect = '((\\*)(\\S[^*]*\\S)(\\*))'\n",
        "\n",
        "    # Italics effect: Text enclosed in underscores (_) with no space after the start or before the end.\n",
        "    pattern_italics_effect = '((\\_)(\\S[^_]*\\S)(\\_))'\n",
        "\n",
        "    # Deleted effect: Text enclosed in hyphens (-) with no space after the start or before the end.\n",
        "    pattern_deleted_effect = '((\\-)(\\S[^-]*\\S)(\\-))'\n",
        "\n",
        "    # Inserted effect: Text enclosed in plus signs (+) with no space after the start or before the end.\n",
        "    pattern_inserted_effect = '((\\+)(\\S[^+]*\\S)(\\+))'\n",
        "\n",
        "    # Superscript effect: Text enclosed in carets (^) with no space after the start or before the end.\n",
        "    pattern_superscript_effect = '((\\^)(\\S[^\\^]*\\S)(\\^))'\n",
        "\n",
        "    # Subscript effect: Text enclosed in tildes (~) with no space after the start or before the end.\n",
        "    pattern_subscript_effect = '((\\~)(\\S[^\\~]*\\S)(\\~))'\n",
        "\n",
        "    # Color effect: Text enclosed in color tags {color} with hexadecimal color code.\n",
        "    pattern_color_effect = '((\\{color:[#A-Za-z0-9]+\\})(.*?)(\\{color\\}))'\n",
        "\n",
        "    pattern_text_effect_list = [pattern_strong_effect,\n",
        "                                pattern_italics_effect,\n",
        "                                pattern_deleted_effect,\n",
        "                                pattern_inserted_effect,\n",
        "                                pattern_superscript_effect,\n",
        "                                pattern_subscript_effect,\n",
        "                                pattern_color_effect]\n",
        "    pattern_text_effect = re.compile('|'.join(pattern_text_effect_list), re.DOTALL|re.IGNORECASE)\n",
        "    for m in pattern_text_effect.finditer(text):\n",
        "      try:\n",
        "        full_match, text_effect_ope_tag, inner_text, text_effect_cls_tag = tuple(filter(lambda x: x, m.groups()))\n",
        "        res = {}\n",
        "        start_pos_outside_markup = m.start()\n",
        "        end_pos_outside_markup = m.end() - 1 # decrement by 1 to match the end position in the string\n",
        "        start_pos_inner_text = start_pos_outside_markup + len(text_effect_ope_tag)\n",
        "        ope_tags = [text_effect_ope_tag]\n",
        "        if parent_key is not None:\n",
        "          res = text_effect_para_dict.pop(parent_key)\n",
        "          full_match = res['full_match']\n",
        "          start_pos_outside_markup = res['start_pos_outside_markup']\n",
        "          end_pos_outside_markup = res['end_pos_outside_markup']\n",
        "          start_pos_inner_text = res['start_pos_inner_text'] + start_pos_inner_text\n",
        "          ope_tags = res['ope_tags'] + ope_tags\n",
        "\n",
        "        res['start_pos_outside_markup'] = start_pos_outside_markup\n",
        "        res['end_pos_outside_markup'] = end_pos_outside_markup\n",
        "        res['start_pos_inner_text'] = start_pos_inner_text\n",
        "        res['end_pos_inner_text'] = res['start_pos_inner_text'] + len(inner_text) - 1\n",
        "        res['inner_text'] = inner_text\n",
        "        res['ope_tags'] = ope_tags\n",
        "        res['full_match'] = full_match\n",
        "\n",
        "        text_effect_para_dict[start_pos_outside_markup] = res\n",
        "        detect_effects_recursive(inner_text, parent_key = start_pos_outside_markup)\n",
        "      except Exception as e:\n",
        "        print(e)\n",
        "  detect_effects_recursive(text)\n",
        "  return text_effect_para_dict\n"
      ],
      "metadata": {
        "id": "GDJowiiYmqob"
      },
      "execution_count": 15,
      "outputs": []
    },
    {
      "cell_type": "code",
      "source": [
        "def apply_jira_text_effect_to_text_in_docx(text, docx_element):\n",
        "  detected_text_effect_list = list(detect_jira_text_effects(text).values())\n",
        "  prev_end_pos = -1\n",
        "  if detected_text_effect_list is not None and len(detected_text_effect_list) > 0:\n",
        "    for indx, item in enumerate(detected_text_effect_list):\n",
        "      # apply\n",
        "      inner_text = item['inner_text']\n",
        "      start_pos_outside_markup = item['start_pos_outside_markup']\n",
        "      end_pos_outside_markup = item['end_pos_outside_markup']\n",
        "      start_pos_inner_text = item['start_pos_inner_text']\n",
        "      end_pos_inner_text = item['end_pos_inner_text']\n",
        "      ope_tags = item['ope_tags']\n",
        "\n",
        "      leading_run_text = text[prev_end_pos + 1 : start_pos_outside_markup]\n",
        "      current_run_text = text[start_pos_inner_text : end_pos_inner_text + 1]\n",
        "      trailing_run_text = text[end_pos_outside_markup + 1:]\n",
        "\n",
        "      leading_run = docx_element.add_run(leading_run_text)\n",
        "      current_run = docx_element.add_run(current_run_text)\n",
        "\n",
        "      # apply text effects in opening tags\n",
        "      for tag in ope_tags:\n",
        "        if tag == '*':\n",
        "          current_run.bold = True\n",
        "        elif tag == '_':\n",
        "          current_run.style = 'Emphasis'\n",
        "        elif tag == '-':\n",
        "          current_run.font.strike = True\n",
        "        elif tag == '+':\n",
        "          current_run.underline = True\n",
        "        elif tag == '^':\n",
        "          current_run.font.superscript = True\n",
        "        elif tag == '~':\n",
        "          current_run.font.subscript = True\n",
        "        else:\n",
        "          color_match = re.match('\\{color:([#A-Za-z0-9]+)\\}', tag, re.IGNORECASE)\n",
        "          if color_match:\n",
        "            hex_code = color_match.groups()[0]\n",
        "            if not hex_code.startswith('#'):\n",
        "              hex_code = color_name_to_hex(hex_code)\n",
        "            if hex_code:\n",
        "              current_run.font.color.rgb = RGBColor.from_string(hex_code.strip('#'))\n",
        "\n",
        "      # handle what happens if we have gotten to the last chunk of the text effect list\n",
        "      if indx == len(detected_text_effect_list) - 1:\n",
        "        docx_element.add_run(trailing_run_text)\n",
        "\n",
        "      prev_end_pos = end_pos_outside_markup\n",
        "  else:\n",
        "    docx_element.add_run(text)"
      ],
      "metadata": {
        "id": "BjkhFqSjLjiF"
      },
      "execution_count": 16,
      "outputs": []
    },
    {
      "cell_type": "code",
      "source": [],
      "metadata": {
        "id": "R_YTRFf9klCo"
      },
      "execution_count": 16,
      "outputs": []
    },
    {
      "cell_type": "code",
      "source": [],
      "metadata": {
        "id": "jwviEvY-06UG"
      },
      "execution_count": 16,
      "outputs": []
    },
    {
      "cell_type": "code",
      "source": [
        "# --------- Testing"
      ],
      "metadata": {
        "id": "x747qIHjo0MY"
      },
      "execution_count": 17,
      "outputs": []
    },
    {
      "cell_type": "code",
      "source": [
        "# Initialize a new Document\n",
        "doc = Document()"
      ],
      "metadata": {
        "id": "wZYUa41R06W-"
      },
      "execution_count": 18,
      "outputs": []
    },
    {
      "cell_type": "code",
      "source": [
        "for block in get_jira_blocks(sample_jira_text):\n",
        "    write_jira_block_to_doc(block, doc)"
      ],
      "metadata": {
        "id": "w0K3D5QCIdGZ"
      },
      "execution_count": 19,
      "outputs": []
    },
    {
      "cell_type": "code",
      "source": [
        "doc.save('output.docx')"
      ],
      "metadata": {
        "id": "Z2z7NoYG06M0"
      },
      "execution_count": 20,
      "outputs": []
    },
    {
      "cell_type": "code",
      "source": [],
      "metadata": {
        "id": "Y7VEkCsYLjfF"
      },
      "execution_count": 20,
      "outputs": []
    },
    {
      "cell_type": "code",
      "source": [],
      "metadata": {
        "id": "iMjPCiNXPTZU"
      },
      "execution_count": 20,
      "outputs": []
    }
  ]
}