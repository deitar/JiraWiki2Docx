{
  "nbformat": 4,
  "nbformat_minor": 0,
  "metadata": {
    "colab": {
      "provenance": [],
      "authorship_tag": "ABX9TyO+ftWYsGlN5pZxTuw5+4fo",
      "include_colab_link": true
    },
    "kernelspec": {
      "name": "python3",
      "display_name": "Python 3"
    },
    "language_info": {
      "name": "python"
    }
  },
  "cells": [
    {
      "cell_type": "markdown",
      "metadata": {
        "id": "view-in-github",
        "colab_type": "text"
      },
      "source": [
        "<a href=\"https://colab.research.google.com/github/deitar/JiraWiki2Docx/blob/main/JiraWiki2Docx.ipynb\" target=\"_parent\"><img src=\"https://colab.research.google.com/assets/colab-badge.svg\" alt=\"Open In Colab\"/></a>"
      ]
    },
    {
      "cell_type": "code",
      "execution_count": null,
      "metadata": {
        "id": "Mw-x5WT-J3JZ"
      },
      "outputs": [],
      "source": []
    },
    {
      "cell_type": "code",
      "source": [
        "!pip install xmltodict\n",
        "!pip install htmldocx\n",
        "!pip install python-docx"
      ],
      "metadata": {
        "colab": {
          "base_uri": "https://localhost:8080/"
        },
        "id": "S8ShXVHTJ_gE",
        "outputId": "7c68786e-16bb-4555-b8d1-4f28b9ce43cf"
      },
      "execution_count": 2,
      "outputs": [
        {
          "output_type": "stream",
          "name": "stdout",
          "text": [
            "Collecting xmltodict\n",
            "  Downloading xmltodict-0.13.0-py2.py3-none-any.whl (10.0 kB)\n",
            "Installing collected packages: xmltodict\n",
            "Successfully installed xmltodict-0.13.0\n",
            "Collecting htmldocx\n",
            "  Downloading htmldocx-0.0.6-py3-none-any.whl (9.5 kB)\n",
            "Collecting python-docx>=0.8.10 (from htmldocx)\n",
            "  Downloading python-docx-0.8.11.tar.gz (5.6 MB)\n",
            "\u001b[2K     \u001b[90m━━━━━━━━━━━━━━━━━━━━━━━━━━━━━━━━━━━━━━━━\u001b[0m \u001b[32m5.6/5.6 MB\u001b[0m \u001b[31m39.5 MB/s\u001b[0m eta \u001b[36m0:00:00\u001b[0m\n",
            "\u001b[?25h  Preparing metadata (setup.py) ... \u001b[?25l\u001b[?25hdone\n",
            "Requirement already satisfied: beautifulsoup4>=4.7.0 in /usr/local/lib/python3.10/dist-packages (from htmldocx) (4.11.2)\n",
            "Requirement already satisfied: soupsieve>1.2 in /usr/local/lib/python3.10/dist-packages (from beautifulsoup4>=4.7.0->htmldocx) (2.4.1)\n",
            "Requirement already satisfied: lxml>=2.3.2 in /usr/local/lib/python3.10/dist-packages (from python-docx>=0.8.10->htmldocx) (4.9.2)\n",
            "Building wheels for collected packages: python-docx\n",
            "  Building wheel for python-docx (setup.py) ... \u001b[?25l\u001b[?25hdone\n",
            "  Created wheel for python-docx: filename=python_docx-0.8.11-py3-none-any.whl size=184491 sha256=adbd33b981cf24676474870fec9d8223f85aaf79497c7d3e0340b47465f048c4\n",
            "  Stored in directory: /root/.cache/pip/wheels/80/27/06/837436d4c3bd989b957a91679966f207bfd71d358d63a8194d\n",
            "Successfully built python-docx\n",
            "Installing collected packages: python-docx, htmldocx\n",
            "Successfully installed htmldocx-0.0.6 python-docx-0.8.11\n",
            "Requirement already satisfied: python-docx in /usr/local/lib/python3.10/dist-packages (0.8.11)\n",
            "Requirement already satisfied: lxml>=2.3.2 in /usr/local/lib/python3.10/dist-packages (from python-docx) (4.9.2)\n"
          ]
        }
      ]
    },
    {
      "cell_type": "code",
      "source": [
        "import os\n",
        "import re\n",
        "import html\n",
        "import json\n",
        "import xmltodict\n",
        "import requests\n",
        "from datetime import datetime\n",
        "from requests.auth import HTTPBasicAuth\n",
        "from docx import Document\n",
        "from htmldocx import HtmlToDocx\n",
        "from docx.shared import Inches\n",
        "from docx.enum.table import WD_TABLE_ALIGNMENT, WD_ALIGN_VERTICAL\n",
        "from docx.shared import Inches, RGBColor, Pt, Cm\n",
        "from docx.enum.text import WD_LINE_SPACING\n",
        "from docx import Document\n",
        "from docx.oxml.ns import nsdecls\n",
        "from docx.oxml import parse_xml\n",
        "from itertools import groupby\n",
        "from datetime import datetime\n",
        "import numpy as np\n",
        "import pandas as pd\n",
        "from enum import Enum"
      ],
      "metadata": {
        "id": "Gee-awAnJ_iq"
      },
      "execution_count": 3,
      "outputs": []
    },
    {
      "cell_type": "code",
      "source": [
        "sample_jira_text = '''h2. -Carried- out an +analysis+ to _identify_ {{customers}} who carried out POS/WEB (card) transactions during the period of cash scarcity but subsequently stopped transacting on this channel and map out the transactional behaviour of these customers prior to and during cash scarcity.\n",
        "\n",
        "*Definition of Terms*\n",
        "\n",
        "* Cash scarcity period: November 2022 to March 2023 (150 days)\n",
        "** 6 months prior to cash scarcity: May 2022 to October 2022 (180 days)\n",
        "* Period after cash scarcity: April 2023 to May 2023 (60 days)\n",
        "**** Period after cash scarcity: April 2023 to May 2023 (60 days)\n",
        "\n",
        "# test number 1\n",
        "#* test number 11\n",
        "#* test number 11\n",
        "# test number 2\n",
        "## test number 2\n",
        "\n",
        "*Key Highlights:*\n",
        "\n",
        "* Customers transactional behaviour before, during and after cash scarcity\n",
        "\n",
        "||Period||Transacted before, during {color:#ff5630}AND {color}after cash scarcity||Transacted during cash scarcity {color:#ff5630}BUT {color}stopped after cash scarcity||{color:#ff5630}STARTED {color}transacting during cash scarcity {color:#ff5630}AND {color}continued afterwards||\n",
        "|Distinct Card Holders|10,674,893|{color:#ff5630}*310,454*{color}|1,002,235|\n",
        "\n",
        "||* go\n",
        "* be||\n",
        "| |\n",
        "| |\n",
        "\n",
        "\n",
        "* *1.6 million (66%)* of the customers who completed card transactions during the cash scarcity period also carried out transactions prior to and after the cash scarcity period.\n",
        "* *13% (1 million)* of the customers who carried out POS/WEB transactions during cash scarcity stopped card transactions at the end of the cash scarcity period\n",
        "* Customers with POS/WEB transactions during cash scarcity but not after cash scarcity\n",
        "\n",
        "||Period||Transacted prior to AND during cash scarcity BUT subsequently stopped||Transacted only during cash scarcity, NOT before or after cash scarcity||% of customers who transacted only during cash scarcity||\n",
        "|Distinct Card Holders|{color:#36b37e}30,063 {color}|{color:#ff991f}20,391{color}|{color:#ff991f}41%{color}|\n",
        "\n",
        "* *29% (3.03 of 11 million)* of these customers also carried out POS/WEB transactions in the 6 months prior to cash scarcity which means that they regularly transacted using their cards regardless of cash scarcity.-'''\n"
      ],
      "metadata": {
        "id": "czrCjoaoJ_lR"
      },
      "execution_count": 4,
      "outputs": []
    },
    {
      "cell_type": "code",
      "source": [],
      "metadata": {
        "id": "y0rybD7i3pcU"
      },
      "execution_count": 4,
      "outputs": []
    },
    {
      "cell_type": "code",
      "source": [
        "class JiraWikiBlockTypes(Enum):\n",
        "    LIST = 'list'\n",
        "    HEADING = 'heading'\n",
        "    TABLE = 'table'\n",
        "    CODE = 'code'\n",
        "    QUOTE = 'quote'\n",
        "    PARAGRAPH = 'paragraph'"
      ],
      "metadata": {
        "id": "gkN5DsNIGzkn"
      },
      "execution_count": 5,
      "outputs": []
    },
    {
      "cell_type": "code",
      "source": [
        "def detect_jira_block_type(jira_block):\n",
        "    jira_block_trimmed = jira_block.strip()\n",
        "    marker_heading = r'^h([1-6])\\..*$'\n",
        "    # marker_list = '^([\\*|\\-|\\#]+)\\s(.*)'\n",
        "    marker_list = '^[*#-]+\\s.*$'\n",
        "    marker_table = '^[||]+.*$'\n",
        "    if re.match(marker_heading, jira_block_trimmed, re.DOTALL):\n",
        "        return JiraWikiBlockTypes.HEADING\n",
        "    if re.match(marker_list, jira_block_trimmed, re.DOTALL):\n",
        "        return JiraWikiBlockTypes.LIST\n",
        "    if re.match(marker_table, jira_block_trimmed, re.DOTALL):\n",
        "        return JiraWikiBlockTypes.TABLE\n",
        "    return JiraWikiBlockTypes.PARAGRAPH"
      ],
      "metadata": {
        "id": "O_u2NSQCJe6K"
      },
      "execution_count": 6,
      "outputs": []
    },
    {
      "cell_type": "code",
      "source": [
        "def get_jira_blocks(jira_text):\n",
        "    return re.split('\\n\\n', jira_text)"
      ],
      "metadata": {
        "id": "3JrDwIe4IjYS"
      },
      "execution_count": 7,
      "outputs": []
    },
    {
      "cell_type": "code",
      "source": [
        "def write_heading_jira_to_doc(text, doc_part_to_write_to):\n",
        "    pattern_heading = r'^h([1-6])\\.(.*)'\n",
        "    heading_match = re.match(pattern_heading, text)\n",
        "    heading_number, heading_text = heading_match.groups()\n",
        "    para = doc_part_to_write_to.add_paragraph()\n",
        "    para.style = f'Heading {heading_number}'\n",
        "    para.add_run(text=heading_text)"
      ],
      "metadata": {
        "id": "ML2wArPvKMgl"
      },
      "execution_count": 8,
      "outputs": []
    },
    {
      "cell_type": "code",
      "source": [
        "def write_list_jira_to_doc(text, doc_part_to_write_to):\n",
        "    pattern_list_item = r'^([\\*|\\-|\\#]+)\\s{1}(.*)'\n",
        "    # split block into lines\n",
        "    lines = re.split('\\n', text)\n",
        "    for line in lines:\n",
        "        list_type, list_text = re.match(pattern_list_item, line).groups()\n",
        "        # issue 1: couldn't resolve the round and square bullets differently\n",
        "        # issue 2: find a way of decorating nested lists with different point styles\n",
        "        # issue 3: sublevel list have unwanted top space to their parent list\n",
        "        max_list_level = 3\n",
        "        style_name = \"List Number\" if list_type[:max_list_level][-1] == '#' else 'List Bullet'\n",
        "        style_name = f'{style_name} {str(min(len(list_type), max_list_level)) if len(list_type) > 1 else \"\"}'.strip()\n",
        "        para = doc_part_to_write_to.add_paragraph()\n",
        "        para.style = style_name\n",
        "        para.add_run(text = list_text)"
      ],
      "metadata": {
        "id": "gS67XK30LGAk"
      },
      "execution_count": 9,
      "outputs": []
    },
    {
      "cell_type": "code",
      "source": [
        "def write_generic_jira_to_doc(text, doc_part_to_write_to):\n",
        "    para = doc_part_to_write_to.add_paragraph()\n",
        "    para.add_run(text = text)"
      ],
      "metadata": {
        "id": "rgZRzxI8Lov6"
      },
      "execution_count": 10,
      "outputs": []
    },
    {
      "cell_type": "code",
      "source": [
        "def write_jira_block_to_doc(jira_block):\n",
        "\n",
        "    # handle leading new lines\n",
        "    new_lines, actual_jira_block = re.match('(\\n*)(.*)', jira_block, re.DOTALL).groups()\n",
        "    num_new_lines = new_lines.count('\\n')\n",
        "\n",
        "    # add new lines by occurence\n",
        "    for i in range(num_new_lines):\n",
        "        para = doc.add_paragraph()\n",
        "        para.add_run()\n",
        "\n",
        "    # 1. heading\n",
        "    if detect_jira_block_type(actual_jira_block) == JiraWikiBlockTypes.HEADING:\n",
        "        write_heading_jira_to_doc(actual_jira_block, doc)\n",
        "    # 2. list\n",
        "    elif detect_jira_block_type(actual_jira_block) == JiraWikiBlockTypes.LIST:\n",
        "        write_list_jira_to_doc(actual_jira_block, doc)\n",
        "    # 3. table\n",
        "    elif detect_jira_block_type(actual_jira_block) == JiraWikiBlockTypes.TABLE:\n",
        "        write_generic_jira_to_doc(actual_jira_block, doc)\n",
        "\n",
        "    # any other\n",
        "    else:\n",
        "        write_generic_jira_to_doc(actual_jira_block, doc)\n",
        "\n",
        "        # handle text effects\n",
        "\n"
      ],
      "metadata": {
        "id": "sYkOYtjW0rHs"
      },
      "execution_count": 11,
      "outputs": []
    },
    {
      "cell_type": "code",
      "source": [
        "# Initialize a new Document\n",
        "doc = Document()"
      ],
      "metadata": {
        "id": "wZYUa41R06W-"
      },
      "execution_count": 11,
      "outputs": []
    },
    {
      "cell_type": "code",
      "source": [
        "for block in get_jira_blocks(sample_jira_text):\n",
        "    print(repr(block))\n",
        "    write_jira_block_to_doc(block)"
      ],
      "metadata": {
        "colab": {
          "base_uri": "https://localhost:8080/"
        },
        "id": "w0K3D5QCIdGZ",
        "outputId": "2917ac8f-2049-4c1c-d302-ad2afabbca7b"
      },
      "execution_count": 12,
      "outputs": [
        {
          "output_type": "stream",
          "name": "stdout",
          "text": [
            "'h2. -Carried- out an +analysis+ to _identify_ {{customers}} who carried out POS/WEB (card) transactions during the period of cash scarcity but subsequently stopped transacting on this channel and map out the transactional behaviour of these customers prior to and during cash scarcity.'\n",
            "'*Definition of Terms*'\n",
            "'* Cash scarcity period: November 2022 to March 2023 (150 days)\\n** 6 months prior to cash scarcity: May 2022 to October 2022 (180 days)\\n* Period after cash scarcity: April 2023 to May 2023 (60 days)\\n**** Period after cash scarcity: April 2023 to May 2023 (60 days)'\n",
            "'# test number 1\\n#* test number 11\\n#* test number 11\\n# test number 2\\n## test number 2'\n",
            "'*Key Highlights:*'\n",
            "'* Customers transactional behaviour before, during and after cash scarcity'\n",
            "'||Period||Transacted before, during {color:#ff5630}AND {color}after cash scarcity||Transacted during cash scarcity {color:#ff5630}BUT {color}stopped after cash scarcity||{color:#ff5630}STARTED {color}transacting during cash scarcity {color:#ff5630}AND {color}continued afterwards||\\n|Distinct Card Holders|3,674,893|{color:#ff5630}*1,310,454*{color}|602,235|'\n",
            "'||* go\\n* be||\\n| |\\n| |'\n",
            "'\\n* *3.6 million (66%)* of the customers who completed card transactions during the cash scarcity period also carried out transactions prior to and after the cash scarcity period.\\n* *23% (1.31 million)* of the customers who carried out POS/WEB transactions during cash scarcity stopped card transactions at the end of the cash scarcity period\\n* Customers with POS/WEB transactions during cash scarcity but not after cash scarcity'\n",
            "'||Period||Transacted prior to AND during cash scarcity BUT subsequently stopped||Transacted only during cash scarcity, NOT before or after cash scarcity||% of customers who transacted only during cash scarcity||\\n|Distinct Card Holders|{color:#36b37e}1,030,063 {color}|{color:#ff991f}280,391{color}|{color:#ff991f}21%{color}|'\n",
            "'* *79% (1.03 of 1.31 million)* of these customers also carried out POS/WEB transactions in the 6 months prior to cash scarcity which means that they regularly transacted using their cards regardless of cash scarcity.-'\n"
          ]
        }
      ]
    },
    {
      "cell_type": "code",
      "source": [
        "doc.save('output.docx')"
      ],
      "metadata": {
        "id": "Z2z7NoYG06M0"
      },
      "execution_count": 13,
      "outputs": []
    },
    {
      "cell_type": "code",
      "source": [],
      "metadata": {
        "id": "jwviEvY-06UG"
      },
      "execution_count": 28,
      "outputs": []
    },
    {
      "cell_type": "code",
      "source": [
        "# test_block = '\\n\\n* *3.6 million (66%)* of the +to+ and after the cash scarcity period.\\n* *23% (1.31 million)* ed out POS/WEB transactions d'\n",
        "test_block = '_3.6_ {{mil_lion_ (66%)}} of the to *and* after _the_ {color:green}cash scarcity{color} period.\\n'\n",
        "# text_strong_matches = re.findall('\\*\\S[^*]*\\S\\*', test_block, re.DOTALL)\n",
        "# print(text_strong_matches)\n",
        "pattern_strong_effect = '((\\*)(\\S[^*]*\\S)(\\*))'\n",
        "pattern_italics_effect = '((\\_)(\\S[^_]*\\S)(\\_))'\n",
        "pattern_color_effect = '((\\{color:[A-Za-z]*\\})(\\S((?!{color}).)*\\S)(\\{color\\}))'\n",
        "pattern_text_effect = re.compile(f'{pattern_strong_effect}|{pattern_italics_effect}|{pattern_color_effect}', re.IGNORECASE | re.DOTALL)\n",
        "for m in pattern_text_effect.finditer(test_block):\n",
        "    # print(m.start(), '\\t', m.groups(), '\\t', m.end(), '\\t') # test_block[m.start()])\n",
        "    print(list(filter(lambda x: x, m.groups())))"
      ],
      "metadata": {
        "colab": {
          "base_uri": "https://localhost:8080/"
        },
        "id": "rCxLwC0u06Pb",
        "outputId": "41f897bf-5e34-4c03-aeba-927c7f2ae11f"
      },
      "execution_count": 98,
      "outputs": [
        {
          "output_type": "stream",
          "name": "stdout",
          "text": [
            "['_3.6_', '_', '3.6', '_']\n",
            "['_lion_', '_', 'lion', '_']\n",
            "['*and*', '*', 'and', '*']\n",
            "['_the_', '_', 'the', '_']\n",
            "['{color:green}cash scarcity{color}', '{color:green}', 'cash scarcity', 't', '{color}']\n"
          ]
        }
      ]
    },
    {
      "cell_type": "code",
      "source": [],
      "metadata": {
        "id": "xgzIShBBrySe"
      },
      "execution_count": 40,
      "outputs": []
    },
    {
      "cell_type": "code",
      "source": [
        "test_block = '_3.6_ *mil_lion_ (66%)* of the to *and* after _the_ cash scarcity period.\\n'\n",
        "\n",
        "text_effect_para_dict = {}\n",
        "\n",
        "def effecter(text, existing_effect=None):\n",
        "  global text_effect_para_dict\n",
        "  # asterisk/markup with no space after start or before end\n",
        "  pattern_strong_effect = '((\\*)(\\S[^*]*\\S)(\\*))'\n",
        "  pattern_italics_effect = '((\\_)(\\S[^_]*\\S)(\\_))'\n",
        "  pattern_color_effect = '((\\{color:[A-Za-z]*\\})(\\S((?!{color}).)*\\S)(\\{color\\}))'\n",
        "  print(text)\n",
        "  pattern_text_effect = re.compile(f'{pattern_strong_effect}|{pattern_italics_effect}|{pattern_color_effect}', re.DOTALL|re.IGNORECASE)\n",
        "  # if not pattern_text_effect.match(text):\n",
        "  #     return\n",
        "  for m in pattern_text_effect.finditer(text):\n",
        "      full_match, text_effect_ope_tag, inner_text, text_effect_cls_tag = tuple(filter(lambda x: x, m.groups()))\n",
        "      # print(full_match, '\\t', text_effect_ope_tag, '\\t', inner_text, '\\t', text_effect_cls_tag)\n",
        "      # text_effect_markup = test_block[m.start()]\n",
        "      # inner_text = m.group().strip(text_effect_markup)\n",
        "      text_effect_para_dict[m.start()] = inner_text\n",
        "      effecter(inner_text)\n",
        "\n",
        "effecter(test_block)"
      ],
      "metadata": {
        "colab": {
          "base_uri": "https://localhost:8080/"
        },
        "id": "GDJowiiYmqob",
        "outputId": "9ac4a625-98c3-472e-df0e-838d7fd51894"
      },
      "execution_count": 79,
      "outputs": [
        {
          "output_type": "stream",
          "name": "stdout",
          "text": [
            "_3.6_ *mil_lion_ (66%)* of the to *and* after _the_ cash scarcity period.\n",
            "\n",
            "3.6\n",
            "mil_lion_ (66%)\n",
            "lion\n",
            "and\n",
            "the\n"
          ]
        }
      ]
    },
    {
      "cell_type": "code",
      "source": [],
      "metadata": {
        "id": "i3K_eEenmqlf"
      },
      "execution_count": 98,
      "outputs": []
    },
    {
      "cell_type": "code",
      "source": [],
      "metadata": {
        "id": "pc5Br39R06Ke"
      },
      "execution_count": 98,
      "outputs": []
    },
    {
      "cell_type": "code",
      "source": [],
      "metadata": {
        "id": "kgpGUPOl06IJ"
      },
      "execution_count": 11,
      "outputs": []
    },
    {
      "cell_type": "code",
      "source": [],
      "metadata": {
        "id": "4SHuMCGy06F1"
      },
      "execution_count": null,
      "outputs": []
    },
    {
      "cell_type": "code",
      "source": [],
      "metadata": {
        "id": "0KhGz7oL06Dh"
      },
      "execution_count": null,
      "outputs": []
    }
  ]
}